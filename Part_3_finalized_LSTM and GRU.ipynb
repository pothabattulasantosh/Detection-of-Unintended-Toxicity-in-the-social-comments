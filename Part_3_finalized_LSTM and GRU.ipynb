{
 "cells": [
  {
   "cell_type": "markdown",
   "metadata": {
    "colab_type": "text",
    "id": "DdZMAb-XNbyU"
   },
   "source": [
    "# Jigsaw Unintended Bias in Toxicity Classification"
   ]
  },
  {
   "cell_type": "markdown",
   "metadata": {
    "colab_type": "text",
    "id": "MSYZZrtQNbyV"
   },
   "source": [
    "#### Since the data we have contains sequence pattren, Here in this file I am trying the same problem with using bidirectional LSTM and GRU, which typically perfroms great on sequential data."
   ]
  },
  {
   "cell_type": "code",
   "execution_count": 1,
   "metadata": {
    "colab": {
     "base_uri": "https://localhost:8080/",
     "height": 34
    },
    "colab_type": "code",
    "id": "iAa-EQjgNbyW",
    "outputId": "a1388b59-b584-415d-ac5b-e6a1d661075f"
   },
   "outputs": [
    {
     "name": "stderr",
     "output_type": "stream",
     "text": [
      "Using TensorFlow backend.\n"
     ]
    }
   ],
   "source": [
    "#For Data loading and preprocessing\n",
    "import pandas as pd\n",
    "\n",
    "#For matrix operations\n",
    "import numpy as np\n",
    "\n",
    "#For Ploting\n",
    "import matplotlib.pyplot as plt\n",
    "%matplotlib inline\n",
    "\n",
    "\n",
    "from sklearn.feature_extraction.text import TfidfVectorizer\n",
    "\n",
    "#Importing all keras necessary modules\n",
    "import keras\n",
    "from keras.models import Sequential,Model,load_model\n",
    "from keras.layers import Dense,Dropout\n",
    "from keras.layers import LSTM\n",
    "from keras.layers.embeddings import Embedding\n",
    "from keras.layers import Bidirectional,add,GRU,Input,concatenate,GlobalMaxPooling1D,GlobalAveragePooling1D,SpatialDropout1D,CuDNNLSTM\n",
    "from keras.preprocessing import sequence\n",
    "from keras.preprocessing.sequence import pad_sequences\n",
    "from keras.preprocessing.text import Tokenizer\n",
    "from keras.optimizers import *\n",
    "\n",
    "##To see the progress of the iterations\n",
    "from tqdm import tqdm\n",
    "\n",
    "#For splitting the data\n",
    "from sklearn.model_selection import train_test_split\n",
    "\n",
    "#Performance metrices\n",
    "from sklearn import metrics\n",
    "from sklearn.metrics import roc_auc_score,roc_curve,auc,log_loss,confusion_matrix,make_scorer\n",
    "\n",
    "#For ignoring deprication warnings\n",
    "import warnings\n",
    "warnings.filterwarnings(\"ignore\")\n",
    "import keras.backend as K\n",
    "from keras.models import load_model"
   ]
  },
  {
   "cell_type": "code",
   "execution_count": 0,
   "metadata": {
    "colab": {},
    "colab_type": "code",
    "id": "Rtfzp0iVN0lt"
   },
   "outputs": [],
   "source": [
    "#To read the file form google-drive\n",
    "#Ref: https://www.youtube.com/watch?v=oqMImCeXi6o\n",
    "#!pip install -U -q PyDrive\n",
    "from pydrive.auth import GoogleAuth\n",
    "from pydrive.drive import GoogleDrive\n",
    "from google.colab import auth\n",
    "from oauth2client.client import GoogleCredentials"
   ]
  },
  {
   "cell_type": "code",
   "execution_count": 0,
   "metadata": {
    "colab": {},
    "colab_type": "code",
    "id": "GcTPqD6EOe0F"
   },
   "outputs": [],
   "source": [
    "#Getting authorization from drive to read the file\n",
    "#Ref: https://www.youtube.com/watch?v=oqMImCeXi6o\n",
    "auth.authenticate_user()\n",
    "gauth = GoogleAuth()\n",
    "gauth.credentials = GoogleCredentials.get_application_default()\n",
    "drive = GoogleDrive(gauth)"
   ]
  },
  {
   "cell_type": "code",
   "execution_count": 0,
   "metadata": {
    "colab": {},
    "colab_type": "code",
    "id": "basIDQVlOljf"
   },
   "outputs": [],
   "source": [
    "downloaded = drive.CreateFile({'id':'1bVz4c1W16bTmEWThVuVQ9haktmlCXn4i'})\n",
    "downloaded.GetContentFile('data_processed.csv')"
   ]
  },
  {
   "cell_type": "code",
   "execution_count": 7,
   "metadata": {
    "colab": {
     "base_uri": "https://localhost:8080/",
     "height": 292
    },
    "colab_type": "code",
    "id": "4t_z-kf9Nbya",
    "outputId": "5e003db5-600e-4f92-965b-c0eaa76295b0"
   },
   "outputs": [
    {
     "data": {
      "text/html": [
       "<div>\n",
       "<style scoped>\n",
       "    .dataframe tbody tr th:only-of-type {\n",
       "        vertical-align: middle;\n",
       "    }\n",
       "\n",
       "    .dataframe tbody tr th {\n",
       "        vertical-align: top;\n",
       "    }\n",
       "\n",
       "    .dataframe thead th {\n",
       "        text-align: right;\n",
       "    }\n",
       "</style>\n",
       "<table border=\"1\" class=\"dataframe\">\n",
       "  <thead>\n",
       "    <tr style=\"text-align: right;\">\n",
       "      <th></th>\n",
       "      <th>target</th>\n",
       "      <th>severe_toxicity</th>\n",
       "      <th>obscene</th>\n",
       "      <th>threat</th>\n",
       "      <th>insult</th>\n",
       "      <th>identity_attack</th>\n",
       "      <th>sexual_explicit</th>\n",
       "      <th>male</th>\n",
       "      <th>female</th>\n",
       "      <th>homosexual_gay_or_lesbian</th>\n",
       "      <th>christian</th>\n",
       "      <th>jewish</th>\n",
       "      <th>muslim</th>\n",
       "      <th>black</th>\n",
       "      <th>white</th>\n",
       "      <th>psychiatric_or_mental_illness</th>\n",
       "      <th>preprocessed_reviews</th>\n",
       "      <th>word_count</th>\n",
       "      <th>comment_length</th>\n",
       "      <th>num_bad_words</th>\n",
       "      <th>len_bad_words</th>\n",
       "      <th>profinity_frequency</th>\n",
       "      <th>profinity_len_frequency</th>\n",
       "      <th>profinity_mul</th>\n",
       "      <th>profinity_sum</th>\n",
       "      <th>profinity_HM</th>\n",
       "    </tr>\n",
       "  </thead>\n",
       "  <tbody>\n",
       "    <tr>\n",
       "      <th>0</th>\n",
       "      <td>0</td>\n",
       "      <td>0</td>\n",
       "      <td>0</td>\n",
       "      <td>0</td>\n",
       "      <td>0</td>\n",
       "      <td>0</td>\n",
       "      <td>0</td>\n",
       "      <td>0</td>\n",
       "      <td>0</td>\n",
       "      <td>0</td>\n",
       "      <td>0</td>\n",
       "      <td>0</td>\n",
       "      <td>0</td>\n",
       "      <td>0</td>\n",
       "      <td>0</td>\n",
       "      <td>0</td>\n",
       "      <td>cool like would want mother read really great ...</td>\n",
       "      <td>11</td>\n",
       "      <td>60</td>\n",
       "      <td>0</td>\n",
       "      <td>0</td>\n",
       "      <td>0.0</td>\n",
       "      <td>0.0</td>\n",
       "      <td>0.0</td>\n",
       "      <td>0.0</td>\n",
       "      <td>0.0</td>\n",
       "    </tr>\n",
       "    <tr>\n",
       "      <th>1</th>\n",
       "      <td>0</td>\n",
       "      <td>0</td>\n",
       "      <td>0</td>\n",
       "      <td>0</td>\n",
       "      <td>0</td>\n",
       "      <td>0</td>\n",
       "      <td>0</td>\n",
       "      <td>0</td>\n",
       "      <td>0</td>\n",
       "      <td>0</td>\n",
       "      <td>0</td>\n",
       "      <td>0</td>\n",
       "      <td>0</td>\n",
       "      <td>0</td>\n",
       "      <td>0</td>\n",
       "      <td>0</td>\n",
       "      <td>thank would make life lot less anxiety inducin...</td>\n",
       "      <td>14</td>\n",
       "      <td>75</td>\n",
       "      <td>0</td>\n",
       "      <td>0</td>\n",
       "      <td>0.0</td>\n",
       "      <td>0.0</td>\n",
       "      <td>0.0</td>\n",
       "      <td>0.0</td>\n",
       "      <td>0.0</td>\n",
       "    </tr>\n",
       "    <tr>\n",
       "      <th>2</th>\n",
       "      <td>0</td>\n",
       "      <td>0</td>\n",
       "      <td>0</td>\n",
       "      <td>0</td>\n",
       "      <td>0</td>\n",
       "      <td>0</td>\n",
       "      <td>0</td>\n",
       "      <td>0</td>\n",
       "      <td>0</td>\n",
       "      <td>0</td>\n",
       "      <td>0</td>\n",
       "      <td>0</td>\n",
       "      <td>0</td>\n",
       "      <td>0</td>\n",
       "      <td>0</td>\n",
       "      <td>0</td>\n",
       "      <td>urgent design problem kudos taking impressive</td>\n",
       "      <td>6</td>\n",
       "      <td>45</td>\n",
       "      <td>0</td>\n",
       "      <td>0</td>\n",
       "      <td>0.0</td>\n",
       "      <td>0.0</td>\n",
       "      <td>0.0</td>\n",
       "      <td>0.0</td>\n",
       "      <td>0.0</td>\n",
       "    </tr>\n",
       "    <tr>\n",
       "      <th>3</th>\n",
       "      <td>0</td>\n",
       "      <td>0</td>\n",
       "      <td>0</td>\n",
       "      <td>0</td>\n",
       "      <td>0</td>\n",
       "      <td>0</td>\n",
       "      <td>0</td>\n",
       "      <td>0</td>\n",
       "      <td>0</td>\n",
       "      <td>0</td>\n",
       "      <td>0</td>\n",
       "      <td>0</td>\n",
       "      <td>0</td>\n",
       "      <td>0</td>\n",
       "      <td>0</td>\n",
       "      <td>0</td>\n",
       "      <td>something able install site releasing</td>\n",
       "      <td>5</td>\n",
       "      <td>37</td>\n",
       "      <td>0</td>\n",
       "      <td>0</td>\n",
       "      <td>0.0</td>\n",
       "      <td>0.0</td>\n",
       "      <td>0.0</td>\n",
       "      <td>0.0</td>\n",
       "      <td>0.0</td>\n",
       "    </tr>\n",
       "    <tr>\n",
       "      <th>4</th>\n",
       "      <td>1</td>\n",
       "      <td>0</td>\n",
       "      <td>0</td>\n",
       "      <td>0</td>\n",
       "      <td>1</td>\n",
       "      <td>0</td>\n",
       "      <td>0</td>\n",
       "      <td>0</td>\n",
       "      <td>0</td>\n",
       "      <td>0</td>\n",
       "      <td>0</td>\n",
       "      <td>0</td>\n",
       "      <td>0</td>\n",
       "      <td>0</td>\n",
       "      <td>0</td>\n",
       "      <td>0</td>\n",
       "      <td>haha guys bunch losers</td>\n",
       "      <td>4</td>\n",
       "      <td>22</td>\n",
       "      <td>0</td>\n",
       "      <td>0</td>\n",
       "      <td>0.0</td>\n",
       "      <td>0.0</td>\n",
       "      <td>0.0</td>\n",
       "      <td>0.0</td>\n",
       "      <td>0.0</td>\n",
       "    </tr>\n",
       "  </tbody>\n",
       "</table>\n",
       "</div>"
      ],
      "text/plain": [
       "   target  severe_toxicity  obscene  ...  profinity_mul  profinity_sum  profinity_HM\n",
       "0       0                0        0  ...            0.0            0.0           0.0\n",
       "1       0                0        0  ...            0.0            0.0           0.0\n",
       "2       0                0        0  ...            0.0            0.0           0.0\n",
       "3       0                0        0  ...            0.0            0.0           0.0\n",
       "4       1                0        0  ...            0.0            0.0           0.0\n",
       "\n",
       "[5 rows x 26 columns]"
      ]
     },
     "execution_count": 7,
     "metadata": {
      "tags": []
     },
     "output_type": "execute_result"
    }
   ],
   "source": [
    "#Getting all preprocessed data\n",
    "data = pd.read_csv(\"data_processed.csv\")\n",
    "data.head()"
   ]
  },
  {
   "cell_type": "code",
   "execution_count": 0,
   "metadata": {
    "colab": {},
    "colab_type": "code",
    "id": "DyU1JgyFNbye"
   },
   "outputs": [],
   "source": [
    "#For appling DL algorithms we do not require hand crafted features (of course that's the beauty of DL)\n",
    "X = data['preprocessed_reviews'] #Hence taking only preprocessed text as input\n",
    "\n",
    "\n",
    "#Taking all output labels  \n",
    "Y = data[['target',\n",
    " 'severe_toxicity',\n",
    " 'obscene',\n",
    " 'threat',\n",
    " 'insult',\n",
    " 'identity_attack',\n",
    " 'sexual_explicit',\n",
    " 'male',\n",
    " 'female',\n",
    " 'homosexual_gay_or_lesbian',\n",
    " 'christian',\n",
    " 'jewish',\n",
    " 'muslim',\n",
    " 'black',\n",
    " 'white',\n",
    " 'psychiatric_or_mental_illness']]\n",
    "\n",
    "#Spliting the data\n",
    "X_train, X_test, y_train, y_test = train_test_split(X, Y, test_size=0.30, random_state=42,shuffle=False)"
   ]
  },
  {
   "cell_type": "code",
   "execution_count": 9,
   "metadata": {
    "colab": {
     "base_uri": "https://localhost:8080/",
     "height": 289
    },
    "colab_type": "code",
    "id": "IM1ecdJKNbyi",
    "outputId": "1faad7a5-c575-4fb6-b699-7a201f8cd488"
   },
   "outputs": [
    {
     "data": {
      "text/plain": [
       "['target',\n",
       " 'severe_toxicity',\n",
       " 'obscene',\n",
       " 'threat',\n",
       " 'insult',\n",
       " 'identity_attack',\n",
       " 'sexual_explicit',\n",
       " 'male',\n",
       " 'female',\n",
       " 'homosexual_gay_or_lesbian',\n",
       " 'christian',\n",
       " 'jewish',\n",
       " 'muslim',\n",
       " 'black',\n",
       " 'white',\n",
       " 'psychiatric_or_mental_illness']"
      ]
     },
     "execution_count": 9,
     "metadata": {
      "tags": []
     },
     "output_type": "execute_result"
    }
   ],
   "source": [
    "ALL_labels= Y.columns.to_list() # list of all output label names  \n",
    "ALL_labels"
   ]
  },
  {
   "cell_type": "code",
   "execution_count": 0,
   "metadata": {
    "colab": {},
    "colab_type": "code",
    "id": "uBtWxUFsNbyl"
   },
   "outputs": [],
   "source": [
    "def get_aux_labels(df):\n",
    "    return df[['target']],df[['severe_toxicity','obscene','threat','insult','identity_attack',\n",
    " 'sexual_explicit']],df[['male','female','homosexual_gay_or_lesbian','christian','jewish','muslim','black','white','psychiatric_or_mental_illness']]"
   ]
  },
  {
   "cell_type": "code",
   "execution_count": 0,
   "metadata": {
    "colab": {},
    "colab_type": "code",
    "id": "Zkb3ZBvVNbyo"
   },
   "outputs": [],
   "source": [
    "y_train_target,y_train_aux_target,y_train_identity = get_aux_labels(y_train)\n",
    "\n",
    "y_test_target,y_test_aux_target,y_test_identity = get_aux_labels(y_test)"
   ]
  },
  {
   "cell_type": "code",
   "execution_count": 0,
   "metadata": {
    "colab": {},
    "colab_type": "code",
    "id": "8N0ReejKNbyr"
   },
   "outputs": [],
   "source": [
    "# Defing own AUC based metric,specially mentioned for this competition\n",
    "# This code was inspired from :https://www.kaggle.com/kenkrige/subgroup-analysis\n",
    "\n",
    "def AUC(df_y):\n",
    "\n",
    "    fpr, tpr, thresholds = roc_curve(df_y[\"actual\"],df_y[\"predict\"],pos_label=1)\n",
    "    return auc(fpr, tpr)\n",
    "\n",
    "def Mp(data, p=-5.0):\n",
    "    return np.average(data.astype(float) ** p) ** (1/p)\n",
    "\n",
    "\n",
    "def final_AUC_metric(y_true, y_predicted,final_AUC_metric_alone=True):\n",
    "        \n",
    "    IDENTITY_labels = [\"male\",\n",
    "                       \"female\",\n",
    "                       \"homosexual_gay_or_lesbian\",\n",
    "                       \"christian\",\n",
    "                       \"jewish\",\n",
    "                       \"muslim\",\n",
    "                       \"black\",\n",
    "                       \"white\",\n",
    "                       \"psychiatric_or_mental_illness\"]\n",
    "    y_true= pd.DataFrame(y_true, columns=ALL_labels).reset_index(drop=True)  #Converting Actual output arrays to dataframes with same labels  \n",
    "    y_predicted= pd.DataFrame(y_predicted, columns=ALL_labels).reset_index(drop=True) #Converting Predicted output arrays to dataframes with same labels  \n",
    "    \n",
    "    y_df = pd.DataFrame(y_true['target'].to_list(), columns=[\"actual\"]) #putting only ['target'] values of both \"y_true\" and \"y_predicted\" into single DF\n",
    "    y_df[\"predict\"]=y_predicted['target'].to_list()\n",
    "    \n",
    "\n",
    "    \n",
    "    results = pd.DataFrame(columns = ['SUB', 'BPSN', 'BNSP'], index = IDENTITY_labels) # Created to collect all AUCs\n",
    "    \n",
    "    overall = AUC(df_y=y_df)  #This overall AUC (diretly between (y_true['target'],y_predicted['target']  )\n",
    "    \n",
    "    for label in IDENTITY_labels: # Calculating BPSN and BNSP for each identity label \n",
    "        y_true[label] = y_true[label] == 1\n",
    "        y_true['target'] = y_true['target']==1\n",
    "        \n",
    "        bpsn = y_true[label]^y_true['target']    \n",
    "        bnsp = ~(y_true[label]^y_true['target'])\n",
    "        \n",
    "        results.loc[label,'BPSN']= AUC(df_y = y_df[bpsn]) \n",
    "        results.loc[label,'BNSP']= AUC(df_y = y_df[bnsp])\n",
    "        results.loc[label,'SUB']=  AUC(df_y = y_df[y_true[label]])\n",
    "\n",
    "    results.loc['Mp',:] = results.apply(Mp, axis= 0)\n",
    "\n",
    "    \n",
    "\n",
    "    final_auc = ((results.loc['Mp',:].sum()) + overall) / 4\n",
    "\n",
    "    if final_AUC_metric_alone:\n",
    "        return final_auc\n",
    "    else:\n",
    "        return final_auc, results\n",
    "#final_AUC = make_scorer(final_AUC_metric, greater_is_better=True,final_AUC_metric_alone=True)"
   ]
  },
  {
   "cell_type": "code",
   "execution_count": 0,
   "metadata": {
    "colab": {},
    "colab_type": "code",
    "id": "GEUS-0p4Nbyt",
    "scrolled": true
   },
   "outputs": [],
   "source": [
    "#Ref: https://machinelearningmastery.com/use-word-embedding-layers-deep-learning-keras/\n",
    "tokens = Tokenizer()\n",
    "tokens.fit_on_texts(X_train)\n",
    "vocab_size = len(tokens.word_index) + 1\n",
    "# integer encode the documents\n",
    "X_train_ints = tokens.texts_to_sequences(X_train)\n",
    "\n",
    "X_test_ints = tokens.texts_to_sequences(X_test)\n",
    "\n",
    "max_length = 500 #Setting equal length of 500 for every comment_text\n",
    "X_train_ints = pad_sequences(X_train_ints, maxlen=max_length, padding='post')\n",
    "\n",
    "X_test_ints = pad_sequences(X_test_ints, maxlen=max_length, padding='post')"
   ]
  },
  {
   "cell_type": "code",
   "execution_count": 0,
   "metadata": {
    "colab": {},
    "colab_type": "code",
    "id": "xCUtjEffQK8D"
   },
   "outputs": [],
   "source": [
    "#Getting 'glove.6B.100d.txt' file \n",
    "downloaded = drive.CreateFile({'id':'11hKZPIxqRbmisbmfUW36VM8RNzfkYkYF'}) # replace the id with id of file you want to access\n",
    "downloaded.GetContentFile('glove.6B.100d.txt') "
   ]
  },
  {
   "cell_type": "code",
   "execution_count": 15,
   "metadata": {
    "colab": {
     "base_uri": "https://localhost:8080/",
     "height": 34
    },
    "colab_type": "code",
    "id": "3AbiaqgpNbyw",
    "outputId": "a2423dd4-2880-48fd-ad8b-97f61ae910cf"
   },
   "outputs": [
    {
     "name": "stdout",
     "output_type": "stream",
     "text": [
      "Loaded 400000 word vectors.\n"
     ]
    }
   ],
   "source": [
    "# load the whole embedding into memory\n",
    "embeddings_index = dict()\n",
    "f = open('glove.6B.100d.txt')\n",
    "for line in f:\n",
    "    values = line.split()\n",
    "    word = values[0]\n",
    "    coefs = np.asarray(values[1:], dtype='float32')\n",
    "    embeddings_index[word] = coefs\n",
    "f.close()\n",
    "print('Loaded %s word vectors.' % len(embeddings_index))"
   ]
  },
  {
   "cell_type": "code",
   "execution_count": 16,
   "metadata": {
    "colab": {
     "base_uri": "https://localhost:8080/",
     "height": 34
    },
    "colab_type": "code",
    "id": "MaaSIQm7Nbyz",
    "outputId": "a2e93c0a-14c3-4bd9-9ede-0a3080219b91"
   },
   "outputs": [
    {
     "name": "stderr",
     "output_type": "stream",
     "text": [
      "100%|██████████| 217265/217265 [00:00<00:00, 585610.08it/s]\n"
     ]
    }
   ],
   "source": [
    "# create a weight matrix for words in training docs\n",
    "embedding_matrix = np.zeros((vocab_size, 100))\n",
    "for word, i in tqdm(tokens.word_index.items()):\n",
    "    embedding_vector = embeddings_index.get(word)\n",
    "    if embedding_vector is not None:\n",
    "        embedding_matrix[i] = embedding_vector"
   ]
  },
  {
   "cell_type": "markdown",
   "metadata": {
    "colab_type": "text",
    "id": "yy0-eRuJuoga"
   },
   "source": [
    "### 1. Bi-directional GRU"
   ]
  },
  {
   "cell_type": "code",
   "execution_count": 0,
   "metadata": {
    "colab": {},
    "colab_type": "code",
    "id": "djfxDLTnNby2",
    "outputId": "3bacb7d2-3fb6-44d7-ecb5-0ab8410534a3"
   },
   "outputs": [
    {
     "name": "stdout",
     "output_type": "stream",
     "text": [
      "__________________________________________________________________________________________________\n",
      "Layer (type)                    Output Shape         Param #     Connected to                     \n",
      "==================================================================================================\n",
      "input_s (InputLayer)            (None, 500)          0                                            \n",
      "__________________________________________________________________________________________________\n",
      "embedding_12 (Embedding)        (None, 500, 100)     21726600    input_s[0][0]                    \n",
      "__________________________________________________________________________________________________\n",
      "spatial_dropout1d_12 (SpatialDr (None, 500, 100)     0           embedding_12[0][0]               \n",
      "__________________________________________________________________________________________________\n",
      "bidirectional_21 (Bidirectional (None, 500, 256)     175872      spatial_dropout1d_12[0][0]       \n",
      "__________________________________________________________________________________________________\n",
      "bidirectional_22 (Bidirectional (None, 500, 256)     295680      bidirectional_21[0][0]           \n",
      "__________________________________________________________________________________________________\n",
      "global_max_pooling1d_11 (Global (None, 256)          0           bidirectional_22[0][0]           \n",
      "__________________________________________________________________________________________________\n",
      "global_average_pooling1d_11 (Gl (None, 256)          0           bidirectional_22[0][0]           \n",
      "__________________________________________________________________________________________________\n",
      "concatenate_11 (Concatenate)    (None, 512)          0           global_max_pooling1d_11[0][0]    \n",
      "                                                                 global_average_pooling1d_11[0][0]\n",
      "__________________________________________________________________________________________________\n",
      "dense_41 (Dense)                (None, 512)          262656      concatenate_11[0][0]             \n",
      "__________________________________________________________________________________________________\n",
      "add_17 (Add)                    (None, 512)          0           concatenate_11[0][0]             \n",
      "                                                                 dense_41[0][0]                   \n",
      "__________________________________________________________________________________________________\n",
      "dense_42 (Dense)                (None, 512)          262656      add_17[0][0]                     \n",
      "__________________________________________________________________________________________________\n",
      "add_18 (Add)                    (None, 512)          0           add_17[0][0]                     \n",
      "                                                                 dense_42[0][0]                   \n",
      "__________________________________________________________________________________________________\n",
      "result (Dense)                  (None, 1)            513         add_18[0][0]                     \n",
      "__________________________________________________________________________________________________\n",
      "aux_result (Dense)              (None, 6)            3078        add_18[0][0]                     \n",
      "__________________________________________________________________________________________________\n",
      "identity_result (Dense)         (None, 9)            4617        add_18[0][0]                     \n",
      "==================================================================================================\n",
      "Total params: 22,731,672\n",
      "Trainable params: 1,005,072\n",
      "Non-trainable params: 21,726,600\n",
      "__________________________________________________________________________________________________\n",
      "None\n"
     ]
    }
   ],
   "source": [
    "\n",
    "input_s = Input(shape=(max_length,), dtype='int32', name='input_s')\n",
    "\n",
    "GRUs = Embedding(input_dim=vocab_size,input_length=max_length,weights=[embedding_matrix],trainable=False,output_dim=embedding_matrix.shape[1])(input_s)\n",
    "\n",
    "GRUs = SpatialDropout1D(0.3)(GRUs)\n",
    "\n",
    "GRUs = Bidirectional(GRU(128, return_sequences=True))(GRUs)\n",
    "GRUs = Bidirectional(GRU(128, return_sequences=True))(GRUs)\n",
    "hidden1 = concatenate([GlobalMaxPooling1D()(GRUs),GlobalAveragePooling1D()(GRUs) ])\n",
    "\n",
    "hidden2 = add([hidden1, Dense(512, activation='relu')(hidden1)])\n",
    "hidden3 = add([hidden2, Dense(512, activation='relu')(hidden2)])\n",
    "\n",
    "#Multi_Outputs\n",
    "result = Dense(1, activation='sigmoid',name='result')(hidden3) #target\n",
    "aux_result = Dense(y_train_aux_target.shape[1], activation='sigmoid',name='aux_result')(hidden3) #\n",
    "identity_result = Dense(y_train_identity.shape[1], activation='sigmoid',name='identity_result')(hidden3)\n",
    "\n",
    "model = Model(inputs=input_s, outputs=[result, aux_result,identity_result])\n",
    "adam = Adam(lr= 0.0006)\n",
    "model.compile(loss='binary_crossentropy', optimizer=adam, metrics=['accuracy'])\n",
    "print(model.summary())"
   ]
  },
  {
   "cell_type": "code",
   "execution_count": 0,
   "metadata": {
    "colab": {},
    "colab_type": "code",
    "id": "0LvPcbHKNby5",
    "outputId": "ea434305-4d85-46e5-f5f5-14f8daac8645"
   },
   "outputs": [
    {
     "name": "stdout",
     "output_type": "stream",
     "text": [
      "Train on 1249618 samples, validate on 535551 samples\n",
      "Epoch 1/4\n",
      " 298496/1249618 [======>.......................] - ETA: 6:51:40 - loss: 0.2906 - result_loss: 0.1944 - aux_result_loss: 0.0451 - identity_result_loss: 0.0511 - result_acc: 0.9322 - aux_result_acc: 0.9876 - identity_result_acc: 0.9861"
     ]
    }
   ],
   "source": [
    "history = model.fit(\n",
    "{'input_s': X_train_ints},\n",
    "{'result': y_train_target,\n",
    "    'aux_result':y_train_aux_target,\n",
    "    'identity_result':y_train_identity},\n",
    "batch_size=512,\n",
    "epochs=4,\n",
    "validation_data=[{'input_s': X_test_ints},\n",
    "                  {'result': y_test_target,\n",
    "          'aux_result':y_test_aux_target,\n",
    "          'identity_result':y_test_identity}])"
   ]
  },
  {
   "cell_type": "code",
   "execution_count": 0,
   "metadata": {
    "colab": {},
    "colab_type": "code",
    "id": "uN8cD507Nby8",
    "outputId": "fe6dd357-b572-4629-a196-977e5643f35b"
   },
   "outputs": [
    {
     "data": {
      "text/html": [
       "<div>\n",
       "<style scoped>\n",
       "    .dataframe tbody tr th:only-of-type {\n",
       "        vertical-align: middle;\n",
       "    }\n",
       "\n",
       "    .dataframe tbody tr th {\n",
       "        vertical-align: top;\n",
       "    }\n",
       "\n",
       "    .dataframe thead th {\n",
       "        text-align: right;\n",
       "    }\n",
       "</style>\n",
       "<table border=\"1\" class=\"dataframe\">\n",
       "  <thead>\n",
       "    <tr style=\"text-align: right;\">\n",
       "      <th></th>\n",
       "      <th>aux_result_acc</th>\n",
       "      <th>aux_result_loss</th>\n",
       "      <th>identity_result_acc</th>\n",
       "      <th>identity_result_loss</th>\n",
       "      <th>loss</th>\n",
       "      <th>result_acc</th>\n",
       "      <th>result_loss</th>\n",
       "      <th>val_aux_result_acc</th>\n",
       "      <th>val_aux_result_loss</th>\n",
       "      <th>val_identity_result_acc</th>\n",
       "      <th>val_identity_result_loss</th>\n",
       "      <th>val_loss</th>\n",
       "      <th>val_result_acc</th>\n",
       "      <th>val_result_loss</th>\n",
       "    </tr>\n",
       "  </thead>\n",
       "  <tbody>\n",
       "    <tr>\n",
       "      <th>0</th>\n",
       "      <td>0.989538</td>\n",
       "      <td>0.034499</td>\n",
       "      <td>0.992251</td>\n",
       "      <td>0.024733</td>\n",
       "      <td>0.225061</td>\n",
       "      <td>0.939478</td>\n",
       "      <td>0.165829</td>\n",
       "      <td>0.989867</td>\n",
       "      <td>0.030094</td>\n",
       "      <td>0.996385</td>\n",
       "      <td>0.010376</td>\n",
       "      <td>0.193054</td>\n",
       "      <td>0.941003</td>\n",
       "      <td>0.152584</td>\n",
       "    </tr>\n",
       "    <tr>\n",
       "      <th>1</th>\n",
       "      <td>0.990756</td>\n",
       "      <td>0.027901</td>\n",
       "      <td>0.996242</td>\n",
       "      <td>0.010442</td>\n",
       "      <td>0.181899</td>\n",
       "      <td>0.945788</td>\n",
       "      <td>0.143556</td>\n",
       "      <td>0.990254</td>\n",
       "      <td>0.028192</td>\n",
       "      <td>0.996741</td>\n",
       "      <td>0.009067</td>\n",
       "      <td>0.182248</td>\n",
       "      <td>0.943636</td>\n",
       "      <td>0.144990</td>\n",
       "    </tr>\n",
       "    <tr>\n",
       "      <th>2</th>\n",
       "      <td>0.991033</td>\n",
       "      <td>0.026496</td>\n",
       "      <td>0.996598</td>\n",
       "      <td>0.009376</td>\n",
       "      <td>0.173214</td>\n",
       "      <td>0.947805</td>\n",
       "      <td>0.137342</td>\n",
       "      <td>0.989904</td>\n",
       "      <td>0.028607</td>\n",
       "      <td>0.996760</td>\n",
       "      <td>0.008939</td>\n",
       "      <td>0.185810</td>\n",
       "      <td>0.941750</td>\n",
       "      <td>0.148265</td>\n",
       "    </tr>\n",
       "    <tr>\n",
       "      <th>3</th>\n",
       "      <td>0.991199</td>\n",
       "      <td>0.025709</td>\n",
       "      <td>0.996747</td>\n",
       "      <td>0.008941</td>\n",
       "      <td>0.168440</td>\n",
       "      <td>0.948536</td>\n",
       "      <td>0.133790</td>\n",
       "      <td>0.990508</td>\n",
       "      <td>0.027050</td>\n",
       "      <td>0.996938</td>\n",
       "      <td>0.008527</td>\n",
       "      <td>0.177589</td>\n",
       "      <td>0.944000</td>\n",
       "      <td>0.142012</td>\n",
       "    </tr>\n",
       "  </tbody>\n",
       "</table>\n",
       "</div>"
      ],
      "text/plain": [
       "   aux_result_acc  aux_result_loss  identity_result_acc  identity_result_loss  \\\n",
       "0        0.989538         0.034499             0.992251              0.024733   \n",
       "1        0.990756         0.027901             0.996242              0.010442   \n",
       "2        0.991033         0.026496             0.996598              0.009376   \n",
       "3        0.991199         0.025709             0.996747              0.008941   \n",
       "\n",
       "       loss  result_acc  result_loss  val_aux_result_acc  val_aux_result_loss  \\\n",
       "0  0.225061    0.939478     0.165829            0.989867             0.030094   \n",
       "1  0.181899    0.945788     0.143556            0.990254             0.028192   \n",
       "2  0.173214    0.947805     0.137342            0.989904             0.028607   \n",
       "3  0.168440    0.948536     0.133790            0.990508             0.027050   \n",
       "\n",
       "   val_identity_result_acc  val_identity_result_loss  val_loss  \\\n",
       "0                 0.996385                  0.010376  0.193054   \n",
       "1                 0.996741                  0.009067  0.182248   \n",
       "2                 0.996760                  0.008939  0.185810   \n",
       "3                 0.996938                  0.008527  0.177589   \n",
       "\n",
       "   val_result_acc  val_result_loss  \n",
       "0        0.941003         0.152584  \n",
       "1        0.943636         0.144990  \n",
       "2        0.941750         0.148265  \n",
       "3        0.944000         0.142012  "
      ]
     },
     "execution_count": 51,
     "metadata": {
      "tags": []
     },
     "output_type": "execute_result"
    }
   ],
   "source": [
    "#History of fitting\n",
    "pd.DataFrame(history.history)"
   ]
  },
  {
   "cell_type": "code",
   "execution_count": 0,
   "metadata": {
    "colab": {},
    "colab_type": "code",
    "id": "yIr7CaHA15re"
   },
   "outputs": [],
   "source": [
    "downloaded = drive.CreateFile({'id':'1OYzd8cAlefRcDPM3TGc9zosvGDwYbYei'})\n",
    "downloaded.GetContentFile('GRU_128_model.h5')"
   ]
  },
  {
   "cell_type": "code",
   "execution_count": 18,
   "metadata": {
    "colab": {
     "base_uri": "https://localhost:8080/",
     "height": 343
    },
    "colab_type": "code",
    "id": "xy-azeOINby_",
    "outputId": "8abcefbf-c762-4c6b-ccd0-ac8ada776ede"
   },
   "outputs": [
    {
     "name": "stdout",
     "output_type": "stream",
     "text": [
      "WARNING:tensorflow:From /usr/local/lib/python3.6/dist-packages/keras/backend/tensorflow_backend.py:541: The name tf.placeholder is deprecated. Please use tf.compat.v1.placeholder instead.\n",
      "\n",
      "WARNING:tensorflow:From /usr/local/lib/python3.6/dist-packages/keras/backend/tensorflow_backend.py:66: The name tf.get_default_graph is deprecated. Please use tf.compat.v1.get_default_graph instead.\n",
      "\n",
      "WARNING:tensorflow:From /usr/local/lib/python3.6/dist-packages/keras/backend/tensorflow_backend.py:4432: The name tf.random_uniform is deprecated. Please use tf.random.uniform instead.\n",
      "\n",
      "WARNING:tensorflow:From /usr/local/lib/python3.6/dist-packages/keras/backend/tensorflow_backend.py:148: The name tf.placeholder_with_default is deprecated. Please use tf.compat.v1.placeholder_with_default instead.\n",
      "\n",
      "WARNING:tensorflow:From /usr/local/lib/python3.6/dist-packages/keras/backend/tensorflow_backend.py:3733: calling dropout (from tensorflow.python.ops.nn_ops) with keep_prob is deprecated and will be removed in a future version.\n",
      "Instructions for updating:\n",
      "Please use `rate` instead of `keep_prob`. Rate should be set to `rate = 1 - keep_prob`.\n",
      "WARNING:tensorflow:From /usr/local/lib/python3.6/dist-packages/keras/backend/tensorflow_backend.py:190: The name tf.get_default_session is deprecated. Please use tf.compat.v1.get_default_session instead.\n",
      "\n",
      "WARNING:tensorflow:From /usr/local/lib/python3.6/dist-packages/keras/optimizers.py:793: The name tf.train.Optimizer is deprecated. Please use tf.compat.v1.train.Optimizer instead.\n",
      "\n",
      "WARNING:tensorflow:From /usr/local/lib/python3.6/dist-packages/tensorflow/python/ops/nn_impl.py:180: add_dispatch_support.<locals>.wrapper (from tensorflow.python.ops.array_ops) is deprecated and will be removed in a future version.\n",
      "Instructions for updating:\n",
      "Use tf.where in 2.0, which has the same broadcast rule as np.where\n"
     ]
    }
   ],
   "source": [
    "#model.save('GRU_128_model.h5')\n",
    "model_GRU = load_model('GRU_128_model.h5')"
   ]
  },
  {
   "cell_type": "markdown",
   "metadata": {
    "colab_type": "text",
    "id": "VnS_yQCxuogp"
   },
   "source": [
    "### Evaluating the GRU Model"
   ]
  },
  {
   "cell_type": "code",
   "execution_count": 0,
   "metadata": {
    "colab": {},
    "colab_type": "code",
    "id": "eafV8EbhNbzC"
   },
   "outputs": [],
   "source": [
    "prediction_train_GRU = model_GRU.predict(X_train_ints,batch_size=1024)\n",
    "\n",
    "\n",
    "results_train_GRU   = final_AUC_metric(y_true=y_train, y_predicted=np.hstack((prediction_train_GRU[0],prediction_train_GRU[1],prediction_train_GRU[2]))\n",
    "                          ,final_AUC_metric_alone=False)"
   ]
  },
  {
   "cell_type": "code",
   "execution_count": 20,
   "metadata": {
    "colab": {
     "base_uri": "https://localhost:8080/",
     "height": 393
    },
    "colab_type": "code",
    "id": "tuo4XQHbNbzF",
    "outputId": "c84b84d3-dffc-4330-d365-1cbc8c4e0f07"
   },
   "outputs": [
    {
     "name": "stdout",
     "output_type": "stream",
     "text": [
      "Individual AUCs for all identity lables in train data.\n",
      "-----------------------------------------------------------\n"
     ]
    },
    {
     "data": {
      "text/html": [
       "<div>\n",
       "<style scoped>\n",
       "    .dataframe tbody tr th:only-of-type {\n",
       "        vertical-align: middle;\n",
       "    }\n",
       "\n",
       "    .dataframe tbody tr th {\n",
       "        vertical-align: top;\n",
       "    }\n",
       "\n",
       "    .dataframe thead th {\n",
       "        text-align: right;\n",
       "    }\n",
       "</style>\n",
       "<table border=\"1\" class=\"dataframe\">\n",
       "  <thead>\n",
       "    <tr style=\"text-align: right;\">\n",
       "      <th></th>\n",
       "      <th>SUB</th>\n",
       "      <th>BPSN</th>\n",
       "      <th>BNSP</th>\n",
       "    </tr>\n",
       "  </thead>\n",
       "  <tbody>\n",
       "    <tr>\n",
       "      <th>male</th>\n",
       "      <td>0.919915</td>\n",
       "      <td>0.899428</td>\n",
       "      <td>0.970506</td>\n",
       "    </tr>\n",
       "    <tr>\n",
       "      <th>female</th>\n",
       "      <td>0.920779</td>\n",
       "      <td>0.903863</td>\n",
       "      <td>0.969247</td>\n",
       "    </tr>\n",
       "    <tr>\n",
       "      <th>homosexual_gay_or_lesbian</th>\n",
       "      <td>0.839443</td>\n",
       "      <td>0.803015</td>\n",
       "      <td>0.974197</td>\n",
       "    </tr>\n",
       "    <tr>\n",
       "      <th>christian</th>\n",
       "      <td>0.928425</td>\n",
       "      <td>0.940823</td>\n",
       "      <td>0.951624</td>\n",
       "    </tr>\n",
       "    <tr>\n",
       "      <th>jewish</th>\n",
       "      <td>0.891134</td>\n",
       "      <td>0.870905</td>\n",
       "      <td>0.969504</td>\n",
       "    </tr>\n",
       "    <tr>\n",
       "      <th>muslim</th>\n",
       "      <td>0.858035</td>\n",
       "      <td>0.822108</td>\n",
       "      <td>0.97438</td>\n",
       "    </tr>\n",
       "    <tr>\n",
       "      <th>black</th>\n",
       "      <td>0.837163</td>\n",
       "      <td>0.787605</td>\n",
       "      <td>0.976653</td>\n",
       "    </tr>\n",
       "    <tr>\n",
       "      <th>white</th>\n",
       "      <td>0.851046</td>\n",
       "      <td>0.79152</td>\n",
       "      <td>0.978752</td>\n",
       "    </tr>\n",
       "    <tr>\n",
       "      <th>psychiatric_or_mental_illness</th>\n",
       "      <td>0.924017</td>\n",
       "      <td>0.893697</td>\n",
       "      <td>0.972906</td>\n",
       "    </tr>\n",
       "    <tr>\n",
       "      <th>Mp</th>\n",
       "      <td>0.880937</td>\n",
       "      <td>0.847051</td>\n",
       "      <td>0.970687</td>\n",
       "    </tr>\n",
       "  </tbody>\n",
       "</table>\n",
       "</div>"
      ],
      "text/plain": [
       "                                    SUB      BPSN      BNSP\n",
       "male                           0.919915  0.899428  0.970506\n",
       "female                         0.920779  0.903863  0.969247\n",
       "homosexual_gay_or_lesbian      0.839443  0.803015  0.974197\n",
       "christian                      0.928425  0.940823  0.951624\n",
       "jewish                         0.891134  0.870905  0.969504\n",
       "muslim                         0.858035  0.822108   0.97438\n",
       "black                          0.837163  0.787605  0.976653\n",
       "white                          0.851046   0.79152  0.978752\n",
       "psychiatric_or_mental_illness  0.924017  0.893697  0.972906\n",
       "Mp                             0.880937  0.847051  0.970687"
      ]
     },
     "execution_count": 20,
     "metadata": {
      "tags": []
     },
     "output_type": "execute_result"
    }
   ],
   "source": [
    "print(\"Individual AUCs for all identity lables in train data.\")\n",
    "print(\"-----------------------------------------------------------\")\n",
    "results_train_GRU[1]"
   ]
  },
  {
   "cell_type": "code",
   "execution_count": 21,
   "metadata": {
    "colab": {
     "base_uri": "https://localhost:8080/",
     "height": 51
    },
    "colab_type": "code",
    "id": "dJJCnKSYNbzL",
    "outputId": "4202159b-75ea-458d-f269-9f8e010ac1e7"
   },
   "outputs": [
    {
     "name": "stdout",
     "output_type": "stream",
     "text": [
      "Final AUC value for Train data:\n"
     ]
    },
    {
     "data": {
      "text/plain": [
       "0.9143455883287539"
      ]
     },
     "execution_count": 21,
     "metadata": {
      "tags": []
     },
     "output_type": "execute_result"
    }
   ],
   "source": [
    "print(\"Final AUC value for Train data:\")\n",
    "results_train_GRU[0]"
   ]
  },
  {
   "cell_type": "code",
   "execution_count": 0,
   "metadata": {
    "colab": {},
    "colab_type": "code",
    "id": "Wl0vUvuiNbzO"
   },
   "outputs": [],
   "source": [
    "prediction_test_GRU = model_GRU.predict(X_test_ints,batch_size=1024)\n",
    "\n",
    "\n",
    "results_test_GRU   = final_AUC_metric(y_true=y_test, y_predicted=np.hstack((prediction_test_GRU[0],prediction_test_GRU[1],prediction_test_GRU[2]))\n",
    "                          ,final_AUC_metric_alone=False)"
   ]
  },
  {
   "cell_type": "code",
   "execution_count": 23,
   "metadata": {
    "colab": {
     "base_uri": "https://localhost:8080/",
     "height": 393
    },
    "colab_type": "code",
    "id": "QZqAvDjINbzR",
    "outputId": "0a21a9b7-c0dc-4e2f-ec67-1a02694e7847"
   },
   "outputs": [
    {
     "name": "stdout",
     "output_type": "stream",
     "text": [
      "Individual AUCs for all identity lables in Test data.\n",
      "-----------------------------------------------------------\n"
     ]
    },
    {
     "data": {
      "text/html": [
       "<div>\n",
       "<style scoped>\n",
       "    .dataframe tbody tr th:only-of-type {\n",
       "        vertical-align: middle;\n",
       "    }\n",
       "\n",
       "    .dataframe tbody tr th {\n",
       "        vertical-align: top;\n",
       "    }\n",
       "\n",
       "    .dataframe thead th {\n",
       "        text-align: right;\n",
       "    }\n",
       "</style>\n",
       "<table border=\"1\" class=\"dataframe\">\n",
       "  <thead>\n",
       "    <tr style=\"text-align: right;\">\n",
       "      <th></th>\n",
       "      <th>SUB</th>\n",
       "      <th>BPSN</th>\n",
       "      <th>BNSP</th>\n",
       "    </tr>\n",
       "  </thead>\n",
       "  <tbody>\n",
       "    <tr>\n",
       "      <th>male</th>\n",
       "      <td>0.90492</td>\n",
       "      <td>0.883349</td>\n",
       "      <td>0.964173</td>\n",
       "    </tr>\n",
       "    <tr>\n",
       "      <th>female</th>\n",
       "      <td>0.904801</td>\n",
       "      <td>0.893481</td>\n",
       "      <td>0.959032</td>\n",
       "    </tr>\n",
       "    <tr>\n",
       "      <th>homosexual_gay_or_lesbian</th>\n",
       "      <td>0.824629</td>\n",
       "      <td>0.792441</td>\n",
       "      <td>0.968468</td>\n",
       "    </tr>\n",
       "    <tr>\n",
       "      <th>christian</th>\n",
       "      <td>0.921393</td>\n",
       "      <td>0.931261</td>\n",
       "      <td>0.944542</td>\n",
       "    </tr>\n",
       "    <tr>\n",
       "      <th>jewish</th>\n",
       "      <td>0.872002</td>\n",
       "      <td>0.844679</td>\n",
       "      <td>0.964684</td>\n",
       "    </tr>\n",
       "    <tr>\n",
       "      <th>muslim</th>\n",
       "      <td>0.855626</td>\n",
       "      <td>0.8085</td>\n",
       "      <td>0.97034</td>\n",
       "    </tr>\n",
       "    <tr>\n",
       "      <th>black</th>\n",
       "      <td>0.822899</td>\n",
       "      <td>0.755966</td>\n",
       "      <td>0.975351</td>\n",
       "    </tr>\n",
       "    <tr>\n",
       "      <th>white</th>\n",
       "      <td>0.833</td>\n",
       "      <td>0.759401</td>\n",
       "      <td>0.976705</td>\n",
       "    </tr>\n",
       "    <tr>\n",
       "      <th>psychiatric_or_mental_illness</th>\n",
       "      <td>0.882848</td>\n",
       "      <td>0.858177</td>\n",
       "      <td>0.962593</td>\n",
       "    </tr>\n",
       "    <tr>\n",
       "      <th>Mp</th>\n",
       "      <td>0.864885</td>\n",
       "      <td>0.824491</td>\n",
       "      <td>0.964836</td>\n",
       "    </tr>\n",
       "  </tbody>\n",
       "</table>\n",
       "</div>"
      ],
      "text/plain": [
       "                                    SUB      BPSN      BNSP\n",
       "male                            0.90492  0.883349  0.964173\n",
       "female                         0.904801  0.893481  0.959032\n",
       "homosexual_gay_or_lesbian      0.824629  0.792441  0.968468\n",
       "christian                      0.921393  0.931261  0.944542\n",
       "jewish                         0.872002  0.844679  0.964684\n",
       "muslim                         0.855626    0.8085   0.97034\n",
       "black                          0.822899  0.755966  0.975351\n",
       "white                             0.833  0.759401  0.976705\n",
       "psychiatric_or_mental_illness  0.882848  0.858177  0.962593\n",
       "Mp                             0.864885  0.824491  0.964836"
      ]
     },
     "execution_count": 23,
     "metadata": {
      "tags": []
     },
     "output_type": "execute_result"
    }
   ],
   "source": [
    "print(\"Individual AUCs for all identity lables in Test data.\")\n",
    "print(\"-----------------------------------------------------------\")\n",
    "results_test_GRU[1]"
   ]
  },
  {
   "cell_type": "code",
   "execution_count": 24,
   "metadata": {
    "colab": {
     "base_uri": "https://localhost:8080/",
     "height": 51
    },
    "colab_type": "code",
    "id": "8UyDRRktNbzX",
    "outputId": "2d00df17-bb64-4eb4-a9ef-496d539c052a"
   },
   "outputs": [
    {
     "name": "stdout",
     "output_type": "stream",
     "text": [
      "Final AUC value for Test data:\n"
     ]
    },
    {
     "data": {
      "text/plain": [
       "0.9011745406654919"
      ]
     },
     "execution_count": 24,
     "metadata": {
      "tags": []
     },
     "output_type": "execute_result"
    }
   ],
   "source": [
    "print(\"Final AUC value for Test data:\")\n",
    "results_test_GRU[0]"
   ]
  },
  {
   "cell_type": "markdown",
   "metadata": {
    "colab_type": "text",
    "id": "UrkW4874uohE"
   },
   "source": [
    "### 2. Bidirectional-LSTM"
   ]
  },
  {
   "cell_type": "code",
   "execution_count": 0,
   "metadata": {
    "colab": {
     "base_uri": "https://localhost:8080/",
     "height": 731
    },
    "colab_type": "code",
    "id": "EkHsl2k4Nbzc",
    "outputId": "172592a4-d637-4651-b972-1ca90ef1c598"
   },
   "outputs": [
    {
     "name": "stdout",
     "output_type": "stream",
     "text": [
      "Model: \"model_2\"\n",
      "__________________________________________________________________________________________________\n",
      "Layer (type)                    Output Shape         Param #     Connected to                     \n",
      "==================================================================================================\n",
      "input_s (InputLayer)            (None, 500)          0                                            \n",
      "__________________________________________________________________________________________________\n",
      "embedding_2 (Embedding)         (None, 500, 100)     21726600    input_s[0][0]                    \n",
      "__________________________________________________________________________________________________\n",
      "spatial_dropout1d_2 (SpatialDro (None, 500, 100)     0           embedding_2[0][0]                \n",
      "__________________________________________________________________________________________________\n",
      "bidirectional_3 (Bidirectional) (None, 500, 256)     235520      spatial_dropout1d_2[0][0]        \n",
      "__________________________________________________________________________________________________\n",
      "bidirectional_4 (Bidirectional) (None, 500, 256)     395264      bidirectional_3[0][0]            \n",
      "__________________________________________________________________________________________________\n",
      "global_max_pooling1d_2 (GlobalM (None, 256)          0           bidirectional_4[0][0]            \n",
      "__________________________________________________________________________________________________\n",
      "global_average_pooling1d_2 (Glo (None, 256)          0           bidirectional_4[0][0]            \n",
      "__________________________________________________________________________________________________\n",
      "concatenate_2 (Concatenate)     (None, 512)          0           global_max_pooling1d_2[0][0]     \n",
      "                                                                 global_average_pooling1d_2[0][0] \n",
      "__________________________________________________________________________________________________\n",
      "dense_3 (Dense)                 (None, 512)          262656      concatenate_2[0][0]              \n",
      "__________________________________________________________________________________________________\n",
      "add_3 (Add)                     (None, 512)          0           concatenate_2[0][0]              \n",
      "                                                                 dense_3[0][0]                    \n",
      "__________________________________________________________________________________________________\n",
      "dense_4 (Dense)                 (None, 512)          262656      add_3[0][0]                      \n",
      "__________________________________________________________________________________________________\n",
      "add_4 (Add)                     (None, 512)          0           add_3[0][0]                      \n",
      "                                                                 dense_4[0][0]                    \n",
      "__________________________________________________________________________________________________\n",
      "result (Dense)                  (None, 1)            513         add_4[0][0]                      \n",
      "__________________________________________________________________________________________________\n",
      "aux_result (Dense)              (None, 6)            3078        add_4[0][0]                      \n",
      "__________________________________________________________________________________________________\n",
      "identity_result (Dense)         (None, 9)            4617        add_4[0][0]                      \n",
      "==================================================================================================\n",
      "Total params: 22,890,904\n",
      "Trainable params: 1,164,304\n",
      "Non-trainable params: 21,726,600\n",
      "__________________________________________________________________________________________________\n",
      "None\n"
     ]
    }
   ],
   "source": [
    "input_s = Input(shape=(max_length,), dtype='int32', name='input_s')\n",
    "\n",
    "LSTMs = Embedding(input_dim=vocab_size,input_length=max_length,weights=[embedding_matrix],trainable=False,output_dim=embedding_matrix.shape[1])(input_s)\n",
    "\n",
    "LSTMs = SpatialDropout1D(0.3)(LSTMs)\n",
    "\n",
    "LSTMs = Bidirectional(CuDNNLSTM(128, return_sequences=True))(LSTMs)\n",
    "LSTMs = Bidirectional(CuDNNLSTM(128, return_sequences=True))(LSTMs)\n",
    "hidden1 = concatenate([GlobalMaxPooling1D()(LSTMs),GlobalAveragePooling1D()(LSTMs)])\n",
    "\n",
    "hidden2 = add([hidden1, Dense(512, activation='relu')(hidden1)])\n",
    "hidden3 = add([hidden2, Dense(512, activation='relu')(hidden2)])\n",
    "\n",
    "#Multi_Outputs\n",
    "result = Dense(1, activation='sigmoid',name='result')(hidden3) #target\n",
    "aux_result = Dense(y_train_aux_target.shape[1], activation='sigmoid',name='aux_result')(hidden3) #\n",
    "identity_result = Dense(y_train_identity.shape[1], activation='sigmoid',name='identity_result')(hidden3)\n",
    "\n",
    "model = Model(inputs=input_s, outputs=[result, aux_result,identity_result])\n",
    "adam = Adam(lr= 0.0006)\n",
    "model.compile(loss='binary_crossentropy', optimizer=adam, metrics=['accuracy'])\n",
    "print(model.summary())"
   ]
  },
  {
   "cell_type": "code",
   "execution_count": 0,
   "metadata": {
    "colab": {
     "base_uri": "https://localhost:8080/",
     "height": 190
    },
    "colab_type": "code",
    "id": "HpCFz4BiNbzi",
    "outputId": "39c69ed7-867b-4ae5-945c-0cc674324967"
   },
   "outputs": [
    {
     "name": "stdout",
     "output_type": "stream",
     "text": [
      "Train on 1249618 samples, validate on 535551 samples\n",
      "Epoch 1/4\n",
      "1249618/1249618 [==============================] - 3047s 2ms/step - loss: 0.1813 - result_loss: 0.1426 - aux_result_loss: 0.0279 - identity_result_loss: 0.0107 - result_acc: 0.9460 - aux_result_acc: 0.9907 - identity_result_acc: 0.9961 - val_loss: 0.1811 - val_result_loss: 0.1443 - val_aux_result_loss: 0.0279 - val_identity_result_loss: 0.0088 - val_result_acc: 0.9434 - val_aux_result_acc: 0.9903 - val_identity_result_acc: 0.9968\n",
      "Epoch 2/4\n",
      "1249618/1249618 [==============================] - 3050s 2ms/step - loss: 0.1724 - result_loss: 0.1368 - aux_result_loss: 0.0264 - identity_result_loss: 0.0092 - result_acc: 0.9477 - aux_result_acc: 0.9910 - identity_result_acc: 0.9966 - val_loss: 0.1801 - val_result_loss: 0.1439 - val_aux_result_loss: 0.0277 - val_identity_result_loss: 0.0085 - val_result_acc: 0.9432 - val_aux_result_acc: 0.9902 - val_identity_result_acc: 0.9969\n",
      "Epoch 3/4\n",
      "1249618/1249618 [==============================] - 3054s 2ms/step - loss: 0.1668 - result_loss: 0.1327 - aux_result_loss: 0.0254 - identity_result_loss: 0.0086 - result_acc: 0.9488 - aux_result_acc: 0.9912 - identity_result_acc: 0.9968 - val_loss: 0.1732 - val_result_loss: 0.1386 - val_aux_result_loss: 0.0265 - val_identity_result_loss: 0.0082 - val_result_acc: 0.9456 - val_aux_result_acc: 0.9906 - val_identity_result_acc: 0.9970\n",
      "Epoch 4/4\n",
      "1249618/1249618 [==============================] - 3048s 2ms/step - loss: 0.1633 - result_loss: 0.1301 - aux_result_loss: 0.0249 - identity_result_loss: 0.0084 - result_acc: 0.9498 - aux_result_acc: 0.9913 - identity_result_acc: 0.9969 - val_loss: 0.1759 - val_result_loss: 0.1407 - val_aux_result_loss: 0.0270 - val_identity_result_loss: 0.0082 - val_result_acc: 0.9444 - val_aux_result_acc: 0.9903 - val_identity_result_acc: 0.9969\n"
     ]
    }
   ],
   "source": [
    "history2 = model.fit(\n",
    "{'input_s': X_train_ints},\n",
    "{'result': y_train_target,\n",
    "    'aux_result':y_train_aux_target,\n",
    "    'identity_result':y_train_identity},\n",
    "batch_size=512,\n",
    "epochs=4,\n",
    "validation_data=[{'input_s': X_test_ints},\n",
    "                  {'result': y_test_target,\n",
    "          'aux_result':y_test_aux_target,\n",
    "          'identity_result':y_test_identity}])"
   ]
  },
  {
   "cell_type": "code",
   "execution_count": 0,
   "metadata": {
    "colab": {
     "base_uri": "https://localhost:8080/",
     "height": 193
    },
    "colab_type": "code",
    "id": "1fF9DjfrNbzk",
    "outputId": "ca2590e8-f48e-40b4-c796-28eae0ecca0a"
   },
   "outputs": [
    {
     "data": {
      "text/html": [
       "<div>\n",
       "<style scoped>\n",
       "    .dataframe tbody tr th:only-of-type {\n",
       "        vertical-align: middle;\n",
       "    }\n",
       "\n",
       "    .dataframe tbody tr th {\n",
       "        vertical-align: top;\n",
       "    }\n",
       "\n",
       "    .dataframe thead th {\n",
       "        text-align: right;\n",
       "    }\n",
       "</style>\n",
       "<table border=\"1\" class=\"dataframe\">\n",
       "  <thead>\n",
       "    <tr style=\"text-align: right;\">\n",
       "      <th></th>\n",
       "      <th>val_loss</th>\n",
       "      <th>val_result_loss</th>\n",
       "      <th>val_aux_result_loss</th>\n",
       "      <th>val_identity_result_loss</th>\n",
       "      <th>val_result_acc</th>\n",
       "      <th>val_aux_result_acc</th>\n",
       "      <th>val_identity_result_acc</th>\n",
       "      <th>loss</th>\n",
       "      <th>result_loss</th>\n",
       "      <th>aux_result_loss</th>\n",
       "      <th>identity_result_loss</th>\n",
       "      <th>result_acc</th>\n",
       "      <th>aux_result_acc</th>\n",
       "      <th>identity_result_acc</th>\n",
       "    </tr>\n",
       "  </thead>\n",
       "  <tbody>\n",
       "    <tr>\n",
       "      <th>0</th>\n",
       "      <td>0.181065</td>\n",
       "      <td>0.144323</td>\n",
       "      <td>0.027929</td>\n",
       "      <td>0.008814</td>\n",
       "      <td>0.943376</td>\n",
       "      <td>0.990332</td>\n",
       "      <td>0.996846</td>\n",
       "      <td>0.181293</td>\n",
       "      <td>0.142645</td>\n",
       "      <td>0.027932</td>\n",
       "      <td>0.010716</td>\n",
       "      <td>0.946046</td>\n",
       "      <td>0.990726</td>\n",
       "      <td>0.996118</td>\n",
       "    </tr>\n",
       "    <tr>\n",
       "      <th>1</th>\n",
       "      <td>0.180093</td>\n",
       "      <td>0.143864</td>\n",
       "      <td>0.027730</td>\n",
       "      <td>0.008500</td>\n",
       "      <td>0.943221</td>\n",
       "      <td>0.990188</td>\n",
       "      <td>0.996912</td>\n",
       "      <td>0.172393</td>\n",
       "      <td>0.136766</td>\n",
       "      <td>0.026383</td>\n",
       "      <td>0.009244</td>\n",
       "      <td>0.947725</td>\n",
       "      <td>0.991018</td>\n",
       "      <td>0.996632</td>\n",
       "    </tr>\n",
       "    <tr>\n",
       "      <th>2</th>\n",
       "      <td>0.173211</td>\n",
       "      <td>0.138562</td>\n",
       "      <td>0.026483</td>\n",
       "      <td>0.008166</td>\n",
       "      <td>0.945553</td>\n",
       "      <td>0.990601</td>\n",
       "      <td>0.997029</td>\n",
       "      <td>0.166786</td>\n",
       "      <td>0.132715</td>\n",
       "      <td>0.025423</td>\n",
       "      <td>0.008649</td>\n",
       "      <td>0.948801</td>\n",
       "      <td>0.991216</td>\n",
       "      <td>0.996832</td>\n",
       "    </tr>\n",
       "    <tr>\n",
       "      <th>3</th>\n",
       "      <td>0.175894</td>\n",
       "      <td>0.140708</td>\n",
       "      <td>0.026990</td>\n",
       "      <td>0.008196</td>\n",
       "      <td>0.944368</td>\n",
       "      <td>0.990302</td>\n",
       "      <td>0.996942</td>\n",
       "      <td>0.163348</td>\n",
       "      <td>0.130132</td>\n",
       "      <td>0.024850</td>\n",
       "      <td>0.008366</td>\n",
       "      <td>0.949770</td>\n",
       "      <td>0.991329</td>\n",
       "      <td>0.996926</td>\n",
       "    </tr>\n",
       "  </tbody>\n",
       "</table>\n",
       "</div>"
      ],
      "text/plain": [
       "   val_loss  val_result_loss  ...  aux_result_acc  identity_result_acc\n",
       "0  0.181065         0.144323  ...        0.990726             0.996118\n",
       "1  0.180093         0.143864  ...        0.991018             0.996632\n",
       "2  0.173211         0.138562  ...        0.991216             0.996832\n",
       "3  0.175894         0.140708  ...        0.991329             0.996926\n",
       "\n",
       "[4 rows x 14 columns]"
      ]
     },
     "execution_count": 22,
     "metadata": {
      "tags": []
     },
     "output_type": "execute_result"
    }
   ],
   "source": [
    "pd.DataFrame(history2.history)"
   ]
  },
  {
   "cell_type": "code",
   "execution_count": 0,
   "metadata": {
    "colab": {},
    "colab_type": "code",
    "id": "HsxISOdTxD9H"
   },
   "outputs": [],
   "source": [
    "downloaded = drive.CreateFile({'id':'1CH5hrfHfMXkmZykXTy1CCmuk23mTRGzE'})\n",
    "downloaded.GetContentFile('LSTM_128_model.h5')"
   ]
  },
  {
   "cell_type": "code",
   "execution_count": 0,
   "metadata": {
    "colab": {},
    "colab_type": "code",
    "id": "dEryLlpgNbzm"
   },
   "outputs": [],
   "source": [
    "#model.save('LSTM_128_model.h5')\n",
    "model_LSTM = load_model('LSTM_128_model.h5')"
   ]
  },
  {
   "cell_type": "markdown",
   "metadata": {},
   "source": [
    "### Evaluating the LSTM model"
   ]
  },
  {
   "cell_type": "code",
   "execution_count": 0,
   "metadata": {
    "colab": {},
    "colab_type": "code",
    "id": "HGhWDhQ2Nbzq"
   },
   "outputs": [],
   "source": [
    "prediction_test_LSTM = model_LSTM.predict(X_test_ints,batch_size=1024)\n",
    "\n",
    "results_test_LSTM = final_AUC_metric(y_true=y_test, y_predicted=np.hstack((prediction_test_LSTM[0],prediction_test_LSTM[1],prediction_test_LSTM[2]))\n",
    "                          ,final_AUC_metric_alone=False)"
   ]
  },
  {
   "cell_type": "code",
   "execution_count": 0,
   "metadata": {
    "colab": {},
    "colab_type": "code",
    "id": "sQqLXFxNuohU"
   },
   "outputs": [],
   "source": [
    "prediction_train_LSTM = model_LSTM.predict(X_test_ints,batch_size=1024)\n",
    "\n",
    "results_train_LSTM = final_AUC_metric(y_true=y_test, y_predicted=np.hstack((prediction_train_LSTM[0],prediction_train_LSTM[1],prediction_train_LSTM[2]))\n",
    "                          ,final_AUC_metric_alone=False)"
   ]
  },
  {
   "cell_type": "code",
   "execution_count": 29,
   "metadata": {
    "colab": {
     "base_uri": "https://localhost:8080/",
     "height": 393
    },
    "colab_type": "code",
    "id": "NkPvMqsvuohX",
    "outputId": "7a293225-b3e6-4760-8172-d2f58afa7f70",
    "scrolled": true
   },
   "outputs": [
    {
     "name": "stdout",
     "output_type": "stream",
     "text": [
      "Individual AUCs for all identity lables in train data\n",
      "-----------------------------------------------------------\n"
     ]
    },
    {
     "data": {
      "text/html": [
       "<div>\n",
       "<style scoped>\n",
       "    .dataframe tbody tr th:only-of-type {\n",
       "        vertical-align: middle;\n",
       "    }\n",
       "\n",
       "    .dataframe tbody tr th {\n",
       "        vertical-align: top;\n",
       "    }\n",
       "\n",
       "    .dataframe thead th {\n",
       "        text-align: right;\n",
       "    }\n",
       "</style>\n",
       "<table border=\"1\" class=\"dataframe\">\n",
       "  <thead>\n",
       "    <tr style=\"text-align: right;\">\n",
       "      <th></th>\n",
       "      <th>SUB</th>\n",
       "      <th>BPSN</th>\n",
       "      <th>BNSP</th>\n",
       "    </tr>\n",
       "  </thead>\n",
       "  <tbody>\n",
       "    <tr>\n",
       "      <th>male</th>\n",
       "      <td>0.909608</td>\n",
       "      <td>0.913021</td>\n",
       "      <td>0.953612</td>\n",
       "    </tr>\n",
       "    <tr>\n",
       "      <th>female</th>\n",
       "      <td>0.909311</td>\n",
       "      <td>0.929136</td>\n",
       "      <td>0.941677</td>\n",
       "    </tr>\n",
       "    <tr>\n",
       "      <th>homosexual_gay_or_lesbian</th>\n",
       "      <td>0.833091</td>\n",
       "      <td>0.815263</td>\n",
       "      <td>0.96553</td>\n",
       "    </tr>\n",
       "    <tr>\n",
       "      <th>christian</th>\n",
       "      <td>0.925166</td>\n",
       "      <td>0.944067</td>\n",
       "      <td>0.937236</td>\n",
       "    </tr>\n",
       "    <tr>\n",
       "      <th>jewish</th>\n",
       "      <td>0.871444</td>\n",
       "      <td>0.906045</td>\n",
       "      <td>0.936999</td>\n",
       "    </tr>\n",
       "    <tr>\n",
       "      <th>muslim</th>\n",
       "      <td>0.857696</td>\n",
       "      <td>0.866571</td>\n",
       "      <td>0.954591</td>\n",
       "    </tr>\n",
       "    <tr>\n",
       "      <th>black</th>\n",
       "      <td>0.835007</td>\n",
       "      <td>0.80147</td>\n",
       "      <td>0.969378</td>\n",
       "    </tr>\n",
       "    <tr>\n",
       "      <th>white</th>\n",
       "      <td>0.837532</td>\n",
       "      <td>0.813361</td>\n",
       "      <td>0.967609</td>\n",
       "    </tr>\n",
       "    <tr>\n",
       "      <th>psychiatric_or_mental_illness</th>\n",
       "      <td>0.890834</td>\n",
       "      <td>0.893438</td>\n",
       "      <td>0.953436</td>\n",
       "    </tr>\n",
       "    <tr>\n",
       "      <th>Mp</th>\n",
       "      <td>0.870565</td>\n",
       "      <td>0.866693</td>\n",
       "      <td>0.952895</td>\n",
       "    </tr>\n",
       "  </tbody>\n",
       "</table>\n",
       "</div>"
      ],
      "text/plain": [
       "                                    SUB      BPSN      BNSP\n",
       "male                           0.909608  0.913021  0.953612\n",
       "female                         0.909311  0.929136  0.941677\n",
       "homosexual_gay_or_lesbian      0.833091  0.815263   0.96553\n",
       "christian                      0.925166  0.944067  0.937236\n",
       "jewish                         0.871444  0.906045  0.936999\n",
       "muslim                         0.857696  0.866571  0.954591\n",
       "black                          0.835007   0.80147  0.969378\n",
       "white                          0.837532  0.813361  0.967609\n",
       "psychiatric_or_mental_illness  0.890834  0.893438  0.953436\n",
       "Mp                             0.870565  0.866693  0.952895"
      ]
     },
     "execution_count": 29,
     "metadata": {
      "tags": []
     },
     "output_type": "execute_result"
    }
   ],
   "source": [
    "print(\"Individual AUCs for all identity lables in train data\")\n",
    "print(\"-----------------------------------------------------------\")\n",
    "results_train_LSTM[1]"
   ]
  },
  {
   "cell_type": "code",
   "execution_count": 30,
   "metadata": {
    "colab": {
     "base_uri": "https://localhost:8080/",
     "height": 51
    },
    "colab_type": "code",
    "id": "UYKTd-b5uohb",
    "outputId": "ab08a23d-41ae-4b36-9d8d-038bd2dc11fd"
   },
   "outputs": [
    {
     "name": "stdout",
     "output_type": "stream",
     "text": [
      "Final AUC value on train data:\n"
     ]
    },
    {
     "data": {
      "text/plain": [
       "0.9106687690024847"
      ]
     },
     "execution_count": 30,
     "metadata": {
      "tags": []
     },
     "output_type": "execute_result"
    }
   ],
   "source": [
    "print(\"Final AUC value on train data:\")\n",
    "results_train_LSTM[0]"
   ]
  },
  {
   "cell_type": "code",
   "execution_count": 31,
   "metadata": {
    "colab": {
     "base_uri": "https://localhost:8080/",
     "height": 393
    },
    "colab_type": "code",
    "id": "dsIF4Y39Nbzs",
    "outputId": "edb02888-d70a-451d-9f41-9f7f5639a6fb"
   },
   "outputs": [
    {
     "name": "stdout",
     "output_type": "stream",
     "text": [
      "Individual AUCs for all identity lables in test data.\n",
      "-----------------------------------------------------------\n"
     ]
    },
    {
     "data": {
      "text/html": [
       "<div>\n",
       "<style scoped>\n",
       "    .dataframe tbody tr th:only-of-type {\n",
       "        vertical-align: middle;\n",
       "    }\n",
       "\n",
       "    .dataframe tbody tr th {\n",
       "        vertical-align: top;\n",
       "    }\n",
       "\n",
       "    .dataframe thead th {\n",
       "        text-align: right;\n",
       "    }\n",
       "</style>\n",
       "<table border=\"1\" class=\"dataframe\">\n",
       "  <thead>\n",
       "    <tr style=\"text-align: right;\">\n",
       "      <th></th>\n",
       "      <th>SUB</th>\n",
       "      <th>BPSN</th>\n",
       "      <th>BNSP</th>\n",
       "    </tr>\n",
       "  </thead>\n",
       "  <tbody>\n",
       "    <tr>\n",
       "      <th>male</th>\n",
       "      <td>0.909608</td>\n",
       "      <td>0.913021</td>\n",
       "      <td>0.953612</td>\n",
       "    </tr>\n",
       "    <tr>\n",
       "      <th>female</th>\n",
       "      <td>0.909311</td>\n",
       "      <td>0.929136</td>\n",
       "      <td>0.941677</td>\n",
       "    </tr>\n",
       "    <tr>\n",
       "      <th>homosexual_gay_or_lesbian</th>\n",
       "      <td>0.833091</td>\n",
       "      <td>0.815263</td>\n",
       "      <td>0.96553</td>\n",
       "    </tr>\n",
       "    <tr>\n",
       "      <th>christian</th>\n",
       "      <td>0.925166</td>\n",
       "      <td>0.944067</td>\n",
       "      <td>0.937236</td>\n",
       "    </tr>\n",
       "    <tr>\n",
       "      <th>jewish</th>\n",
       "      <td>0.871444</td>\n",
       "      <td>0.906045</td>\n",
       "      <td>0.936999</td>\n",
       "    </tr>\n",
       "    <tr>\n",
       "      <th>muslim</th>\n",
       "      <td>0.857696</td>\n",
       "      <td>0.866571</td>\n",
       "      <td>0.954591</td>\n",
       "    </tr>\n",
       "    <tr>\n",
       "      <th>black</th>\n",
       "      <td>0.835007</td>\n",
       "      <td>0.80147</td>\n",
       "      <td>0.969378</td>\n",
       "    </tr>\n",
       "    <tr>\n",
       "      <th>white</th>\n",
       "      <td>0.837532</td>\n",
       "      <td>0.813361</td>\n",
       "      <td>0.967609</td>\n",
       "    </tr>\n",
       "    <tr>\n",
       "      <th>psychiatric_or_mental_illness</th>\n",
       "      <td>0.890834</td>\n",
       "      <td>0.893438</td>\n",
       "      <td>0.953436</td>\n",
       "    </tr>\n",
       "    <tr>\n",
       "      <th>Mp</th>\n",
       "      <td>0.870565</td>\n",
       "      <td>0.866693</td>\n",
       "      <td>0.952895</td>\n",
       "    </tr>\n",
       "  </tbody>\n",
       "</table>\n",
       "</div>"
      ],
      "text/plain": [
       "                                    SUB      BPSN      BNSP\n",
       "male                           0.909608  0.913021  0.953612\n",
       "female                         0.909311  0.929136  0.941677\n",
       "homosexual_gay_or_lesbian      0.833091  0.815263   0.96553\n",
       "christian                      0.925166  0.944067  0.937236\n",
       "jewish                         0.871444  0.906045  0.936999\n",
       "muslim                         0.857696  0.866571  0.954591\n",
       "black                          0.835007   0.80147  0.969378\n",
       "white                          0.837532  0.813361  0.967609\n",
       "psychiatric_or_mental_illness  0.890834  0.893438  0.953436\n",
       "Mp                             0.870565  0.866693  0.952895"
      ]
     },
     "execution_count": 31,
     "metadata": {
      "tags": []
     },
     "output_type": "execute_result"
    }
   ],
   "source": [
    "print(\"Individual AUCs for all identity lables in test data.\")\n",
    "print(\"-----------------------------------------------------------\")\n",
    "results_test_LSTM[1]"
   ]
  },
  {
   "cell_type": "code",
   "execution_count": 32,
   "metadata": {
    "colab": {
     "base_uri": "https://localhost:8080/",
     "height": 51
    },
    "colab_type": "code",
    "id": "KEZXQ6AzNbzv",
    "outputId": "4b664555-7a5b-4cf2-8981-20f30a22ec3f"
   },
   "outputs": [
    {
     "name": "stdout",
     "output_type": "stream",
     "text": [
      "Final AUC value on Test data:\n"
     ]
    },
    {
     "data": {
      "text/plain": [
       "0.9106687690024847"
      ]
     },
     "execution_count": 32,
     "metadata": {
      "tags": []
     },
     "output_type": "execute_result"
    }
   ],
   "source": [
    "print(\"Final AUC value on Test data:\")\n",
    "results_test_LSTM[0]"
   ]
  },
  {
   "cell_type": "markdown",
   "metadata": {},
   "source": [
    "### Results"
   ]
  },
  {
   "cell_type": "code",
   "execution_count": 33,
   "metadata": {
    "colab": {
     "base_uri": "https://localhost:8080/",
     "height": 111
    },
    "colab_type": "code",
    "id": "LGKTqYqBuohh",
    "outputId": "720fcae7-4bf5-457f-a1a6-8735512258e0"
   },
   "outputs": [
    {
     "data": {
      "text/html": [
       "<div>\n",
       "<style scoped>\n",
       "    .dataframe tbody tr th:only-of-type {\n",
       "        vertical-align: middle;\n",
       "    }\n",
       "\n",
       "    .dataframe tbody tr th {\n",
       "        vertical-align: top;\n",
       "    }\n",
       "\n",
       "    .dataframe thead th {\n",
       "        text-align: right;\n",
       "    }\n",
       "</style>\n",
       "<table border=\"1\" class=\"dataframe\">\n",
       "  <thead>\n",
       "    <tr style=\"text-align: right;\">\n",
       "      <th></th>\n",
       "      <th>Test_Toxic_AUC</th>\n",
       "      <th>Train_Toxic_AUC</th>\n",
       "    </tr>\n",
       "  </thead>\n",
       "  <tbody>\n",
       "    <tr>\n",
       "      <th>LSTM</th>\n",
       "      <td>0.910669</td>\n",
       "      <td>0.901175</td>\n",
       "    </tr>\n",
       "    <tr>\n",
       "      <th>GRU</th>\n",
       "      <td>0.910669</td>\n",
       "      <td>0.914346</td>\n",
       "    </tr>\n",
       "  </tbody>\n",
       "</table>\n",
       "</div>"
      ],
      "text/plain": [
       "      Test_Toxic_AUC  Train_Toxic_AUC\n",
       "LSTM        0.910669         0.901175\n",
       "GRU         0.910669         0.914346"
      ]
     },
     "execution_count": 33,
     "metadata": {
      "tags": []
     },
     "output_type": "execute_result"
    }
   ],
   "source": [
    "pd.DataFrame(zip((results_test_LSTM[0],results_train_LSTM[0]),(results_test_GRU[0],results_train_GRU[0])),\n",
    "             columns=['Test_Toxic_AUC','Train_Toxic_AUC'],index=['LSTM','GRU'])"
   ]
  },
  {
   "cell_type": "markdown",
   "metadata": {},
   "source": [
    "#### This result shows that using Bi-directional LSTM/GRU, even though the comment contains the identity labels,model has no confusion to determine whether the comment is toxic or not with 91.066% of chance."
   ]
  }
 ],
 "metadata": {
  "accelerator": "GPU",
  "colab": {
   "name": "Part_final_trained_colab.ipynb",
   "provenance": [],
   "toc_visible": true
  },
  "kernelspec": {
   "display_name": "Python 3",
   "language": "python",
   "name": "python3"
  },
  "language_info": {
   "codemirror_mode": {
    "name": "ipython",
    "version": 3
   },
   "file_extension": ".py",
   "mimetype": "text/x-python",
   "name": "python",
   "nbconvert_exporter": "python",
   "pygments_lexer": "ipython3",
   "version": "3.7.3"
  }
 },
 "nbformat": 4,
 "nbformat_minor": 1
}
