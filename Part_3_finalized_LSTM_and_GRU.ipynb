{
 "cells": [
  {
   "cell_type": "markdown",
   "metadata": {
    "colab_type": "text",
    "id": "DdZMAb-XNbyU"
   },
   "source": [
    "# Jigsaw Unintended Bias in Toxicity Classification"
   ]
  },
  {
   "cell_type": "markdown",
   "metadata": {
    "colab_type": "text",
    "id": "MSYZZrtQNbyV"
   },
   "source": [
    "#### Since the data we have contains sequence pattren, Here in this file I am trying the same problem with using bidirectional LSTM and GRU, which typically perfroms great on sequential data."
   ]
  },
  {
   "cell_type": "markdown",
   "metadata": {},
   "source": [
    "##### Reference  :https://www.theseus.fi/bitstream/handle/10024/226938/Quan_Do.pdf?sequence=2&isAllowed=y"
   ]
  },
  {
   "cell_type": "code",
   "execution_count": null,
   "metadata": {
    "colab": {
     "base_uri": "https://localhost:8080/",
     "height": 34
    },
    "colab_type": "code",
    "id": "iAa-EQjgNbyW",
    "outputId": "ca0b118d-70b0-4a01-ae60-fbb9cdaf7643"
   },
   "outputs": [],
   "source": [
    "#For Data loading and preprocessing\n",
    "import pandas as pd\n",
    "\n",
    "#For matrix operations\n",
    "import numpy as np\n",
    "\n",
    "#For Ploting\n",
    "import matplotlib.pyplot as plt\n",
    "%matplotlib inline\n",
    "\n",
    "#Useful in text-preprocessing\n",
    "import re\n",
    "from bs4 import BeautifulSoup\n",
    "from sklearn.feature_extraction.text import TfidfVectorizer\n",
    "\n",
    "#Importing all keras necessary modules\n",
    "import keras\n",
    "from keras.models import Sequential,Model,load_model\n",
    "from keras.layers import Dense,Dropout\n",
    "from keras.layers import LSTM\n",
    "from keras.layers.embeddings import Embedding\n",
    "from keras.layers import Bidirectional,add,GRU,Input,concatenate,GlobalMaxPooling1D,GlobalAveragePooling1D,SpatialDropout1D,CuDNNLSTM,CuDNNGRU\n",
    "from keras.preprocessing import sequence\n",
    "from keras.preprocessing.sequence import pad_sequences\n",
    "from keras.preprocessing.text import Tokenizer\n",
    "from keras.optimizers import *\n",
    "\n",
    "##To see the progress of the iterations\n",
    "from tqdm import tqdm\n",
    "\n",
    "#For splitting the data\n",
    "from sklearn.model_selection import train_test_split\n",
    "\n",
    "#Performance metrices\n",
    "from sklearn import metrics\n",
    "from sklearn.metrics import roc_auc_score,roc_curve,auc,log_loss,confusion_matrix,make_scorer\n",
    "\n",
    "#For ignoring deprication warnings\n",
    "import warnings\n",
    "warnings.filterwarnings(\"ignore\")\n",
    "import keras.backend as K\n",
    "from keras.models import load_model"
   ]
  },
  {
   "cell_type": "code",
   "execution_count": 0,
   "metadata": {
    "colab": {},
    "colab_type": "code",
    "id": "Rtfzp0iVN0lt"
   },
   "outputs": [],
   "source": [
    "#To read the file form google-drive\n",
    "#Ref: https://www.youtube.com/watch?v=oqMImCeXi6o\n",
    "#!pip install -U -q PyDrive\n",
    "from pydrive.auth import GoogleAuth\n",
    "from pydrive.drive import GoogleDrive\n",
    "from google.colab import auth\n",
    "from oauth2client.client import GoogleCredentials"
   ]
  },
  {
   "cell_type": "code",
   "execution_count": 0,
   "metadata": {
    "colab": {},
    "colab_type": "code",
    "id": "GcTPqD6EOe0F"
   },
   "outputs": [],
   "source": [
    "#Getting authorization from drive to read the file\n",
    "#Ref: https://www.youtube.com/watch?v=oqMImCeXi6o\n",
    "auth.authenticate_user()\n",
    "gauth = GoogleAuth()\n",
    "gauth.credentials = GoogleCredentials.get_application_default()\n",
    "drive = GoogleDrive(gauth)"
   ]
  },
  {
   "cell_type": "code",
   "execution_count": 0,
   "metadata": {
    "colab": {},
    "colab_type": "code",
    "id": "basIDQVlOljf"
   },
   "outputs": [],
   "source": [
    "downloaded = drive.CreateFile({'id':'1bVz4c1W16bTmEWThVuVQ9haktmlCXn4i'})\n",
    "downloaded.GetContentFile('data_processed.csv')"
   ]
  },
  {
   "cell_type": "code",
   "execution_count": 6,
   "metadata": {
    "colab": {
     "base_uri": "https://localhost:8080/",
     "height": 292
    },
    "colab_type": "code",
    "id": "4t_z-kf9Nbya",
    "outputId": "8b2ed3a6-b3ad-4d28-d76e-4c8f7da23611"
   },
   "outputs": [
    {
     "data": {
      "text/html": [
       "<div>\n",
       "<style scoped>\n",
       "    .dataframe tbody tr th:only-of-type {\n",
       "        vertical-align: middle;\n",
       "    }\n",
       "\n",
       "    .dataframe tbody tr th {\n",
       "        vertical-align: top;\n",
       "    }\n",
       "\n",
       "    .dataframe thead th {\n",
       "        text-align: right;\n",
       "    }\n",
       "</style>\n",
       "<table border=\"1\" class=\"dataframe\">\n",
       "  <thead>\n",
       "    <tr style=\"text-align: right;\">\n",
       "      <th></th>\n",
       "      <th>target</th>\n",
       "      <th>severe_toxicity</th>\n",
       "      <th>obscene</th>\n",
       "      <th>threat</th>\n",
       "      <th>insult</th>\n",
       "      <th>identity_attack</th>\n",
       "      <th>sexual_explicit</th>\n",
       "      <th>male</th>\n",
       "      <th>female</th>\n",
       "      <th>homosexual_gay_or_lesbian</th>\n",
       "      <th>christian</th>\n",
       "      <th>jewish</th>\n",
       "      <th>muslim</th>\n",
       "      <th>black</th>\n",
       "      <th>white</th>\n",
       "      <th>psychiatric_or_mental_illness</th>\n",
       "      <th>preprocessed_reviews</th>\n",
       "      <th>word_count</th>\n",
       "      <th>comment_length</th>\n",
       "      <th>num_bad_words</th>\n",
       "      <th>len_bad_words</th>\n",
       "      <th>profinity_frequency</th>\n",
       "      <th>profinity_len_frequency</th>\n",
       "      <th>profinity_mul</th>\n",
       "      <th>profinity_sum</th>\n",
       "      <th>profinity_HM</th>\n",
       "    </tr>\n",
       "  </thead>\n",
       "  <tbody>\n",
       "    <tr>\n",
       "      <th>0</th>\n",
       "      <td>0</td>\n",
       "      <td>0</td>\n",
       "      <td>0</td>\n",
       "      <td>0</td>\n",
       "      <td>0</td>\n",
       "      <td>0</td>\n",
       "      <td>0</td>\n",
       "      <td>0</td>\n",
       "      <td>0</td>\n",
       "      <td>0</td>\n",
       "      <td>0</td>\n",
       "      <td>0</td>\n",
       "      <td>0</td>\n",
       "      <td>0</td>\n",
       "      <td>0</td>\n",
       "      <td>0</td>\n",
       "      <td>cool like would want mother read really great ...</td>\n",
       "      <td>11</td>\n",
       "      <td>60</td>\n",
       "      <td>0</td>\n",
       "      <td>0</td>\n",
       "      <td>0.0</td>\n",
       "      <td>0.0</td>\n",
       "      <td>0.0</td>\n",
       "      <td>0.0</td>\n",
       "      <td>0.0</td>\n",
       "    </tr>\n",
       "    <tr>\n",
       "      <th>1</th>\n",
       "      <td>0</td>\n",
       "      <td>0</td>\n",
       "      <td>0</td>\n",
       "      <td>0</td>\n",
       "      <td>0</td>\n",
       "      <td>0</td>\n",
       "      <td>0</td>\n",
       "      <td>0</td>\n",
       "      <td>0</td>\n",
       "      <td>0</td>\n",
       "      <td>0</td>\n",
       "      <td>0</td>\n",
       "      <td>0</td>\n",
       "      <td>0</td>\n",
       "      <td>0</td>\n",
       "      <td>0</td>\n",
       "      <td>thank would make life lot less anxiety inducin...</td>\n",
       "      <td>14</td>\n",
       "      <td>75</td>\n",
       "      <td>0</td>\n",
       "      <td>0</td>\n",
       "      <td>0.0</td>\n",
       "      <td>0.0</td>\n",
       "      <td>0.0</td>\n",
       "      <td>0.0</td>\n",
       "      <td>0.0</td>\n",
       "    </tr>\n",
       "    <tr>\n",
       "      <th>2</th>\n",
       "      <td>0</td>\n",
       "      <td>0</td>\n",
       "      <td>0</td>\n",
       "      <td>0</td>\n",
       "      <td>0</td>\n",
       "      <td>0</td>\n",
       "      <td>0</td>\n",
       "      <td>0</td>\n",
       "      <td>0</td>\n",
       "      <td>0</td>\n",
       "      <td>0</td>\n",
       "      <td>0</td>\n",
       "      <td>0</td>\n",
       "      <td>0</td>\n",
       "      <td>0</td>\n",
       "      <td>0</td>\n",
       "      <td>urgent design problem kudos taking impressive</td>\n",
       "      <td>6</td>\n",
       "      <td>45</td>\n",
       "      <td>0</td>\n",
       "      <td>0</td>\n",
       "      <td>0.0</td>\n",
       "      <td>0.0</td>\n",
       "      <td>0.0</td>\n",
       "      <td>0.0</td>\n",
       "      <td>0.0</td>\n",
       "    </tr>\n",
       "    <tr>\n",
       "      <th>3</th>\n",
       "      <td>0</td>\n",
       "      <td>0</td>\n",
       "      <td>0</td>\n",
       "      <td>0</td>\n",
       "      <td>0</td>\n",
       "      <td>0</td>\n",
       "      <td>0</td>\n",
       "      <td>0</td>\n",
       "      <td>0</td>\n",
       "      <td>0</td>\n",
       "      <td>0</td>\n",
       "      <td>0</td>\n",
       "      <td>0</td>\n",
       "      <td>0</td>\n",
       "      <td>0</td>\n",
       "      <td>0</td>\n",
       "      <td>something able install site releasing</td>\n",
       "      <td>5</td>\n",
       "      <td>37</td>\n",
       "      <td>0</td>\n",
       "      <td>0</td>\n",
       "      <td>0.0</td>\n",
       "      <td>0.0</td>\n",
       "      <td>0.0</td>\n",
       "      <td>0.0</td>\n",
       "      <td>0.0</td>\n",
       "    </tr>\n",
       "    <tr>\n",
       "      <th>4</th>\n",
       "      <td>1</td>\n",
       "      <td>0</td>\n",
       "      <td>0</td>\n",
       "      <td>0</td>\n",
       "      <td>1</td>\n",
       "      <td>0</td>\n",
       "      <td>0</td>\n",
       "      <td>0</td>\n",
       "      <td>0</td>\n",
       "      <td>0</td>\n",
       "      <td>0</td>\n",
       "      <td>0</td>\n",
       "      <td>0</td>\n",
       "      <td>0</td>\n",
       "      <td>0</td>\n",
       "      <td>0</td>\n",
       "      <td>haha guys bunch losers</td>\n",
       "      <td>4</td>\n",
       "      <td>22</td>\n",
       "      <td>0</td>\n",
       "      <td>0</td>\n",
       "      <td>0.0</td>\n",
       "      <td>0.0</td>\n",
       "      <td>0.0</td>\n",
       "      <td>0.0</td>\n",
       "      <td>0.0</td>\n",
       "    </tr>\n",
       "  </tbody>\n",
       "</table>\n",
       "</div>"
      ],
      "text/plain": [
       "   target  severe_toxicity  obscene  ...  profinity_mul  profinity_sum  profinity_HM\n",
       "0       0                0        0  ...            0.0            0.0           0.0\n",
       "1       0                0        0  ...            0.0            0.0           0.0\n",
       "2       0                0        0  ...            0.0            0.0           0.0\n",
       "3       0                0        0  ...            0.0            0.0           0.0\n",
       "4       1                0        0  ...            0.0            0.0           0.0\n",
       "\n",
       "[5 rows x 26 columns]"
      ]
     },
     "execution_count": 6,
     "metadata": {
      "tags": []
     },
     "output_type": "execute_result"
    }
   ],
   "source": [
    "#Getting all preprocessed data\n",
    "data = pd.read_csv(\"data_processed.csv\")\n",
    "data.head()"
   ]
  },
  {
   "cell_type": "code",
   "execution_count": 0,
   "metadata": {
    "colab": {},
    "colab_type": "code",
    "id": "DyU1JgyFNbye"
   },
   "outputs": [],
   "source": [
    "#For appling DL algorithms we do not require hand crafted features (of course that's the beauty of DL)\n",
    "X = data['preprocessed_reviews'] #Hence taking only preprocessed text as input\n",
    "\n",
    "\n",
    "#Taking all output labels  \n",
    "Y = data[['target',\n",
    " 'severe_toxicity',\n",
    " 'obscene',\n",
    " 'threat',\n",
    " 'insult',\n",
    " 'identity_attack',\n",
    " 'sexual_explicit',\n",
    " 'male',\n",
    " 'female',\n",
    " 'homosexual_gay_or_lesbian',\n",
    " 'christian',\n",
    " 'jewish',\n",
    " 'muslim',\n",
    " 'black',\n",
    " 'white',\n",
    " 'psychiatric_or_mental_illness']]\n",
    "\n",
    "#Spliting the data\n",
    "X_train, X_test, y_train, y_test = train_test_split(X, Y, test_size=0.30, random_state=42,shuffle=False)"
   ]
  },
  {
   "cell_type": "code",
   "execution_count": 8,
   "metadata": {
    "colab": {
     "base_uri": "https://localhost:8080/",
     "height": 289
    },
    "colab_type": "code",
    "id": "IM1ecdJKNbyi",
    "outputId": "8fe4336b-6b6a-4db3-905c-55405d68bf1c"
   },
   "outputs": [
    {
     "data": {
      "text/plain": [
       "['target',\n",
       " 'severe_toxicity',\n",
       " 'obscene',\n",
       " 'threat',\n",
       " 'insult',\n",
       " 'identity_attack',\n",
       " 'sexual_explicit',\n",
       " 'male',\n",
       " 'female',\n",
       " 'homosexual_gay_or_lesbian',\n",
       " 'christian',\n",
       " 'jewish',\n",
       " 'muslim',\n",
       " 'black',\n",
       " 'white',\n",
       " 'psychiatric_or_mental_illness']"
      ]
     },
     "execution_count": 8,
     "metadata": {
      "tags": []
     },
     "output_type": "execute_result"
    }
   ],
   "source": [
    "ALL_labels= Y.columns.to_list() # list of all output label names  \n",
    "ALL_labels"
   ]
  },
  {
   "cell_type": "code",
   "execution_count": 0,
   "metadata": {
    "colab": {},
    "colab_type": "code",
    "id": "uBtWxUFsNbyl"
   },
   "outputs": [],
   "source": [
    "def get_aux_labels(df):\n",
    "    return df[['target']],df[['severe_toxicity','obscene','threat','insult','identity_attack',\n",
    " 'sexual_explicit']],df[['male','female','homosexual_gay_or_lesbian','christian','jewish','muslim','black','white','psychiatric_or_mental_illness']]"
   ]
  },
  {
   "cell_type": "code",
   "execution_count": 0,
   "metadata": {
    "colab": {},
    "colab_type": "code",
    "id": "Zkb3ZBvVNbyo"
   },
   "outputs": [],
   "source": [
    "y_train_target,y_train_aux_target,y_train_identity = get_aux_labels(y_train)\n",
    "\n",
    "y_test_target,y_test_aux_target,y_test_identity = get_aux_labels(y_test)"
   ]
  },
  {
   "cell_type": "code",
   "execution_count": 0,
   "metadata": {
    "colab": {},
    "colab_type": "code",
    "id": "8N0ReejKNbyr"
   },
   "outputs": [],
   "source": [
    "# Defing own AUC based metric,specially mentioned for this competition\n",
    "# This code was inspired from :https://www.kaggle.com/kenkrige/subgroup-analysis\n",
    "\n",
    "def AUC(df_y):\n",
    "\n",
    "    fpr, tpr, thresholds = roc_curve(df_y[\"actual\"],df_y[\"predict\"],pos_label=1)\n",
    "    return auc(fpr, tpr)\n",
    "\n",
    "def Mp(data, p=-5.0):\n",
    "    return np.average(data.astype(float) ** p) ** (1/p)\n",
    "\n",
    "\n",
    "def final_AUC_metric(y_true, y_predicted,final_AUC_metric_alone=True):\n",
    "        \n",
    "    IDENTITY_labels = [\"male\",\n",
    "                       \"female\",\n",
    "                       \"homosexual_gay_or_lesbian\",\n",
    "                       \"christian\",\n",
    "                       \"jewish\",\n",
    "                       \"muslim\",\n",
    "                       \"black\",\n",
    "                       \"white\",\n",
    "                       \"psychiatric_or_mental_illness\"]\n",
    "    y_true= pd.DataFrame(y_true, columns=ALL_labels).reset_index(drop=True)  #Converting Actual output arrays to dataframes with same labels  \n",
    "    y_predicted= pd.DataFrame(y_predicted, columns=ALL_labels).reset_index(drop=True) #Converting Predicted output arrays to dataframes with same labels  \n",
    "    \n",
    "    y_df = pd.DataFrame(y_true['target'].to_list(), columns=[\"actual\"]) #putting only ['target'] values of both \"y_true\" and \"y_predicted\" into single DF\n",
    "    y_df[\"predict\"]=y_predicted['target'].to_list()\n",
    "    \n",
    "\n",
    "    \n",
    "    results = pd.DataFrame(columns = ['SUB', 'BPSN', 'BNSP'], index = IDENTITY_labels) # Created to collect all AUCs\n",
    "    \n",
    "    overall = AUC(df_y=y_df)  #This overall AUC (diretly between (y_true['target'],y_predicted['target']  )\n",
    "    \n",
    "    for label in IDENTITY_labels: # Calculating BPSN and BNSP for each identity label \n",
    "        y_true[label] = y_true[label] == 1\n",
    "        y_true['target'] = y_true['target']==1\n",
    "        \n",
    "        bpsn = y_true[label]^y_true['target']    \n",
    "        bnsp = ~(y_true[label]^y_true['target'])\n",
    "        \n",
    "        results.loc[label,'BPSN']= AUC(df_y = y_df[bpsn]) \n",
    "        results.loc[label,'BNSP']= AUC(df_y = y_df[bnsp])\n",
    "        results.loc[label,'SUB']=  AUC(df_y = y_df[y_true[label]])\n",
    "\n",
    "    results.loc['Mp',:] = results.apply(Mp, axis= 0)\n",
    "\n",
    "    \n",
    "\n",
    "    final_auc = ((results.loc['Mp',:].sum()) + overall) / 4\n",
    "\n",
    "    if final_AUC_metric_alone:\n",
    "        return final_auc\n",
    "    else:\n",
    "        return final_auc, results\n",
    "#final_AUC = make_scorer(final_AUC_metric, greater_is_better=True,final_AUC_metric_alone=True)"
   ]
  },
  {
   "cell_type": "code",
   "execution_count": 0,
   "metadata": {
    "colab": {},
    "colab_type": "code",
    "id": "GEUS-0p4Nbyt",
    "scrolled": true
   },
   "outputs": [],
   "source": [
    "#Ref: https://machinelearningmastery.com/use-word-embedding-layers-deep-learning-keras/\n",
    "tokens = Tokenizer()\n",
    "tokens.fit_on_texts(X_train)\n",
    "vocab_size = len(tokens.word_index) + 1\n",
    "# integer encode the documents\n",
    "X_train_ints = tokens.texts_to_sequences(X_train)\n",
    "\n",
    "X_test_ints = tokens.texts_to_sequences(X_test)\n",
    "\n",
    "max_length = 500 #Setting equal length of 500 for every comment_text\n",
    "X_train_ints = pad_sequences(X_train_ints, maxlen=max_length, padding='post')\n",
    "\n",
    "X_test_ints = pad_sequences(X_test_ints, maxlen=max_length, padding='post')"
   ]
  },
  {
   "cell_type": "code",
   "execution_count": 0,
   "metadata": {
    "colab": {},
    "colab_type": "code",
    "id": "xCUtjEffQK8D"
   },
   "outputs": [],
   "source": [
    "#Getting 'glove.6B.100d.txt' file \n",
    "downloaded = drive.CreateFile({'id':'11hKZPIxqRbmisbmfUW36VM8RNzfkYkYF'}) # replace the id with id of file you want to access\n",
    "downloaded.GetContentFile('glove.6B.100d.txt') "
   ]
  },
  {
   "cell_type": "code",
   "execution_count": 14,
   "metadata": {
    "colab": {
     "base_uri": "https://localhost:8080/",
     "height": 34
    },
    "colab_type": "code",
    "id": "3AbiaqgpNbyw",
    "outputId": "4c3585a3-476c-4ed1-ef95-19c8079273e9"
   },
   "outputs": [
    {
     "name": "stdout",
     "output_type": "stream",
     "text": [
      "Loaded 400000 word vectors.\n"
     ]
    }
   ],
   "source": [
    "# load the whole embedding into memory\n",
    "embeddings_index = dict()\n",
    "f = open('glove.6B.100d.txt')\n",
    "for line in f:\n",
    "    values = line.split()\n",
    "    word = values[0]\n",
    "    coefs = np.asarray(values[1:], dtype='float32')\n",
    "    embeddings_index[word] = coefs\n",
    "f.close()\n",
    "print('Loaded %s word vectors.' % len(embeddings_index))"
   ]
  },
  {
   "cell_type": "code",
   "execution_count": 15,
   "metadata": {
    "colab": {
     "base_uri": "https://localhost:8080/",
     "height": 34
    },
    "colab_type": "code",
    "id": "MaaSIQm7Nbyz",
    "outputId": "c55aee20-230b-488e-a2ec-ffe720899a83"
   },
   "outputs": [
    {
     "name": "stderr",
     "output_type": "stream",
     "text": [
      "100%|██████████| 217265/217265 [00:00<00:00, 524255.73it/s]\n"
     ]
    }
   ],
   "source": [
    "# create a weight matrix for words in training docs\n",
    "embedding_matrix = np.zeros((vocab_size, 100))\n",
    "for word, i in tqdm(tokens.word_index.items()):\n",
    "    embedding_vector = embeddings_index.get(word)\n",
    "    if embedding_vector is not None:\n",
    "        embedding_matrix[i] = embedding_vector"
   ]
  },
  {
   "cell_type": "markdown",
   "metadata": {
    "colab_type": "text",
    "id": "yy0-eRuJuoga"
   },
   "source": [
    "### 1. Bi-directional GRU (Two 128-units) "
   ]
  },
  {
   "cell_type": "code",
   "execution_count": 0,
   "metadata": {
    "colab": {},
    "colab_type": "code",
    "id": "djfxDLTnNby2",
    "outputId": "3bacb7d2-3fb6-44d7-ecb5-0ab8410534a3"
   },
   "outputs": [
    {
     "name": "stdout",
     "output_type": "stream",
     "text": [
      "__________________________________________________________________________________________________\n",
      "Layer (type)                    Output Shape         Param #     Connected to                     \n",
      "==================================================================================================\n",
      "input_s (InputLayer)            (None, 500)          0                                            \n",
      "__________________________________________________________________________________________________\n",
      "embedding_12 (Embedding)        (None, 500, 100)     21726600    input_s[0][0]                    \n",
      "__________________________________________________________________________________________________\n",
      "spatial_dropout1d_12 (SpatialDr (None, 500, 100)     0           embedding_12[0][0]               \n",
      "__________________________________________________________________________________________________\n",
      "bidirectional_21 (Bidirectional (None, 500, 256)     175872      spatial_dropout1d_12[0][0]       \n",
      "__________________________________________________________________________________________________\n",
      "bidirectional_22 (Bidirectional (None, 500, 256)     295680      bidirectional_21[0][0]           \n",
      "__________________________________________________________________________________________________\n",
      "global_max_pooling1d_11 (Global (None, 256)          0           bidirectional_22[0][0]           \n",
      "__________________________________________________________________________________________________\n",
      "global_average_pooling1d_11 (Gl (None, 256)          0           bidirectional_22[0][0]           \n",
      "__________________________________________________________________________________________________\n",
      "concatenate_11 (Concatenate)    (None, 512)          0           global_max_pooling1d_11[0][0]    \n",
      "                                                                 global_average_pooling1d_11[0][0]\n",
      "__________________________________________________________________________________________________\n",
      "dense_41 (Dense)                (None, 512)          262656      concatenate_11[0][0]             \n",
      "__________________________________________________________________________________________________\n",
      "add_17 (Add)                    (None, 512)          0           concatenate_11[0][0]             \n",
      "                                                                 dense_41[0][0]                   \n",
      "__________________________________________________________________________________________________\n",
      "dense_42 (Dense)                (None, 512)          262656      add_17[0][0]                     \n",
      "__________________________________________________________________________________________________\n",
      "add_18 (Add)                    (None, 512)          0           add_17[0][0]                     \n",
      "                                                                 dense_42[0][0]                   \n",
      "__________________________________________________________________________________________________\n",
      "result (Dense)                  (None, 1)            513         add_18[0][0]                     \n",
      "__________________________________________________________________________________________________\n",
      "aux_result (Dense)              (None, 6)            3078        add_18[0][0]                     \n",
      "__________________________________________________________________________________________________\n",
      "identity_result (Dense)         (None, 9)            4617        add_18[0][0]                     \n",
      "==================================================================================================\n",
      "Total params: 22,731,672\n",
      "Trainable params: 1,005,072\n",
      "Non-trainable params: 21,726,600\n",
      "__________________________________________________________________________________________________\n",
      "None\n"
     ]
    }
   ],
   "source": [
    "\n",
    "input_s = Input(shape=(max_length,), dtype='int32', name='input_s')\n",
    "\n",
    "GRUs = Embedding(input_dim=vocab_size,input_length=max_length,weights=[embedding_matrix],trainable=False,output_dim=embedding_matrix.shape[1])(input_s)\n",
    "\n",
    "GRUs = SpatialDropout1D(0.3)(GRUs)\n",
    "\n",
    "GRUs = Bidirectional(GRU(128, return_sequences=True))(GRUs)\n",
    "GRUs = Bidirectional(GRU(128, return_sequences=True))(GRUs)\n",
    "hidden1 = concatenate([GlobalMaxPooling1D()(GRUs),GlobalAveragePooling1D()(GRUs) ])\n",
    "\n",
    "hidden2 = add([hidden1, Dense(512, activation='relu')(hidden1)])\n",
    "hidden3 = add([hidden2, Dense(512, activation='relu')(hidden2)])\n",
    "\n",
    "#Multi_Outputs\n",
    "result = Dense(1, activation='sigmoid',name='result')(hidden3) #target\n",
    "aux_result = Dense(y_train_aux_target.shape[1], activation='sigmoid',name='aux_result')(hidden3) #\n",
    "identity_result = Dense(y_train_identity.shape[1], activation='sigmoid',name='identity_result')(hidden3)\n",
    "\n",
    "model = Model(inputs=input_s, outputs=[result, aux_result,identity_result])\n",
    "adam = Adam(lr= 0.0006)\n",
    "model.compile(loss='binary_crossentropy', optimizer=adam, metrics=['accuracy'])\n",
    "print(model.summary())"
   ]
  },
  {
   "cell_type": "code",
   "execution_count": 0,
   "metadata": {
    "colab": {},
    "colab_type": "code",
    "id": "0LvPcbHKNby5",
    "outputId": "ea434305-4d85-46e5-f5f5-14f8daac8645"
   },
   "outputs": [
    {
     "name": "stdout",
     "output_type": "stream",
     "text": [
      "Train on 1249618 samples, validate on 535551 samples\n",
      "Epoch 1/4\n",
      " 298496/1249618 [======>.......................] - ETA: 6:51:40 - loss: 0.2906 - result_loss: 0.1944 - aux_result_loss: 0.0451 - identity_result_loss: 0.0511 - result_acc: 0.9322 - aux_result_acc: 0.9876 - identity_result_acc: 0.9861"
     ]
    }
   ],
   "source": [
    "history = model.fit(\n",
    "{'input_s': X_train_ints},\n",
    "{'result': y_train_target,\n",
    "    'aux_result':y_train_aux_target,\n",
    "    'identity_result':y_train_identity},\n",
    "batch_size=512,\n",
    "epochs=4,\n",
    "validation_data=[{'input_s': X_test_ints},\n",
    "                  {'result': y_test_target,\n",
    "          'aux_result':y_test_aux_target,\n",
    "          'identity_result':y_test_identity}])"
   ]
  },
  {
   "cell_type": "code",
   "execution_count": 0,
   "metadata": {
    "colab": {},
    "colab_type": "code",
    "id": "uN8cD507Nby8",
    "outputId": "fe6dd357-b572-4629-a196-977e5643f35b"
   },
   "outputs": [
    {
     "data": {
      "text/html": [
       "<div>\n",
       "<style scoped>\n",
       "    .dataframe tbody tr th:only-of-type {\n",
       "        vertical-align: middle;\n",
       "    }\n",
       "\n",
       "    .dataframe tbody tr th {\n",
       "        vertical-align: top;\n",
       "    }\n",
       "\n",
       "    .dataframe thead th {\n",
       "        text-align: right;\n",
       "    }\n",
       "</style>\n",
       "<table border=\"1\" class=\"dataframe\">\n",
       "  <thead>\n",
       "    <tr style=\"text-align: right;\">\n",
       "      <th></th>\n",
       "      <th>aux_result_acc</th>\n",
       "      <th>aux_result_loss</th>\n",
       "      <th>identity_result_acc</th>\n",
       "      <th>identity_result_loss</th>\n",
       "      <th>loss</th>\n",
       "      <th>result_acc</th>\n",
       "      <th>result_loss</th>\n",
       "      <th>val_aux_result_acc</th>\n",
       "      <th>val_aux_result_loss</th>\n",
       "      <th>val_identity_result_acc</th>\n",
       "      <th>val_identity_result_loss</th>\n",
       "      <th>val_loss</th>\n",
       "      <th>val_result_acc</th>\n",
       "      <th>val_result_loss</th>\n",
       "    </tr>\n",
       "  </thead>\n",
       "  <tbody>\n",
       "    <tr>\n",
       "      <th>0</th>\n",
       "      <td>0.989538</td>\n",
       "      <td>0.034499</td>\n",
       "      <td>0.992251</td>\n",
       "      <td>0.024733</td>\n",
       "      <td>0.225061</td>\n",
       "      <td>0.939478</td>\n",
       "      <td>0.165829</td>\n",
       "      <td>0.989867</td>\n",
       "      <td>0.030094</td>\n",
       "      <td>0.996385</td>\n",
       "      <td>0.010376</td>\n",
       "      <td>0.193054</td>\n",
       "      <td>0.941003</td>\n",
       "      <td>0.152584</td>\n",
       "    </tr>\n",
       "    <tr>\n",
       "      <th>1</th>\n",
       "      <td>0.990756</td>\n",
       "      <td>0.027901</td>\n",
       "      <td>0.996242</td>\n",
       "      <td>0.010442</td>\n",
       "      <td>0.181899</td>\n",
       "      <td>0.945788</td>\n",
       "      <td>0.143556</td>\n",
       "      <td>0.990254</td>\n",
       "      <td>0.028192</td>\n",
       "      <td>0.996741</td>\n",
       "      <td>0.009067</td>\n",
       "      <td>0.182248</td>\n",
       "      <td>0.943636</td>\n",
       "      <td>0.144990</td>\n",
       "    </tr>\n",
       "    <tr>\n",
       "      <th>2</th>\n",
       "      <td>0.991033</td>\n",
       "      <td>0.026496</td>\n",
       "      <td>0.996598</td>\n",
       "      <td>0.009376</td>\n",
       "      <td>0.173214</td>\n",
       "      <td>0.947805</td>\n",
       "      <td>0.137342</td>\n",
       "      <td>0.989904</td>\n",
       "      <td>0.028607</td>\n",
       "      <td>0.996760</td>\n",
       "      <td>0.008939</td>\n",
       "      <td>0.185810</td>\n",
       "      <td>0.941750</td>\n",
       "      <td>0.148265</td>\n",
       "    </tr>\n",
       "    <tr>\n",
       "      <th>3</th>\n",
       "      <td>0.991199</td>\n",
       "      <td>0.025709</td>\n",
       "      <td>0.996747</td>\n",
       "      <td>0.008941</td>\n",
       "      <td>0.168440</td>\n",
       "      <td>0.948536</td>\n",
       "      <td>0.133790</td>\n",
       "      <td>0.990508</td>\n",
       "      <td>0.027050</td>\n",
       "      <td>0.996938</td>\n",
       "      <td>0.008527</td>\n",
       "      <td>0.177589</td>\n",
       "      <td>0.944000</td>\n",
       "      <td>0.142012</td>\n",
       "    </tr>\n",
       "  </tbody>\n",
       "</table>\n",
       "</div>"
      ],
      "text/plain": [
       "   aux_result_acc  aux_result_loss  identity_result_acc  identity_result_loss  \\\n",
       "0        0.989538         0.034499             0.992251              0.024733   \n",
       "1        0.990756         0.027901             0.996242              0.010442   \n",
       "2        0.991033         0.026496             0.996598              0.009376   \n",
       "3        0.991199         0.025709             0.996747              0.008941   \n",
       "\n",
       "       loss  result_acc  result_loss  val_aux_result_acc  val_aux_result_loss  \\\n",
       "0  0.225061    0.939478     0.165829            0.989867             0.030094   \n",
       "1  0.181899    0.945788     0.143556            0.990254             0.028192   \n",
       "2  0.173214    0.947805     0.137342            0.989904             0.028607   \n",
       "3  0.168440    0.948536     0.133790            0.990508             0.027050   \n",
       "\n",
       "   val_identity_result_acc  val_identity_result_loss  val_loss  \\\n",
       "0                 0.996385                  0.010376  0.193054   \n",
       "1                 0.996741                  0.009067  0.182248   \n",
       "2                 0.996760                  0.008939  0.185810   \n",
       "3                 0.996938                  0.008527  0.177589   \n",
       "\n",
       "   val_result_acc  val_result_loss  \n",
       "0        0.941003         0.152584  \n",
       "1        0.943636         0.144990  \n",
       "2        0.941750         0.148265  \n",
       "3        0.944000         0.142012  "
      ]
     },
     "execution_count": 51,
     "metadata": {
      "tags": []
     },
     "output_type": "execute_result"
    }
   ],
   "source": [
    "#History of fitting\n",
    "pd.DataFrame(history.history)"
   ]
  },
  {
   "cell_type": "code",
   "execution_count": 0,
   "metadata": {
    "colab": {},
    "colab_type": "code",
    "id": "yIr7CaHA15re"
   },
   "outputs": [],
   "source": [
    "downloaded = drive.CreateFile({'id':'1OYzd8cAlefRcDPM3TGc9zosvGDwYbYei'})\n",
    "downloaded.GetContentFile('GRU_128_model.h5')"
   ]
  },
  {
   "cell_type": "code",
   "execution_count": 17,
   "metadata": {
    "colab": {
     "base_uri": "https://localhost:8080/",
     "height": 615
    },
    "colab_type": "code",
    "id": "xy-azeOINby_",
    "outputId": "be37cedf-b12a-44e1-9ba1-c123bca6f35e"
   },
   "outputs": [
    {
     "name": "stdout",
     "output_type": "stream",
     "text": [
      "WARNING:tensorflow:From /usr/local/lib/python3.6/dist-packages/keras/backend/tensorflow_backend.py:541: The name tf.placeholder is deprecated. Please use tf.compat.v1.placeholder instead.\n",
      "\n",
      "WARNING:tensorflow:From /usr/local/lib/python3.6/dist-packages/keras/backend/tensorflow_backend.py:66: The name tf.get_default_graph is deprecated. Please use tf.compat.v1.get_default_graph instead.\n",
      "\n",
      "WARNING:tensorflow:From /usr/local/lib/python3.6/dist-packages/keras/backend/tensorflow_backend.py:4432: The name tf.random_uniform is deprecated. Please use tf.random.uniform instead.\n",
      "\n",
      "WARNING:tensorflow:From /usr/local/lib/python3.6/dist-packages/keras/backend/tensorflow_backend.py:148: The name tf.placeholder_with_default is deprecated. Please use tf.compat.v1.placeholder_with_default instead.\n",
      "\n",
      "WARNING:tensorflow:From /usr/local/lib/python3.6/dist-packages/keras/backend/tensorflow_backend.py:3733: calling dropout (from tensorflow.python.ops.nn_ops) with keep_prob is deprecated and will be removed in a future version.\n",
      "Instructions for updating:\n",
      "Please use `rate` instead of `keep_prob`. Rate should be set to `rate = 1 - keep_prob`.\n",
      "WARNING:tensorflow:From /usr/local/lib/python3.6/dist-packages/keras/backend/tensorflow_backend.py:190: The name tf.get_default_session is deprecated. Please use tf.compat.v1.get_default_session instead.\n",
      "\n",
      "WARNING:tensorflow:From /usr/local/lib/python3.6/dist-packages/keras/backend/tensorflow_backend.py:197: The name tf.ConfigProto is deprecated. Please use tf.compat.v1.ConfigProto instead.\n",
      "\n",
      "WARNING:tensorflow:From /usr/local/lib/python3.6/dist-packages/keras/backend/tensorflow_backend.py:203: The name tf.Session is deprecated. Please use tf.compat.v1.Session instead.\n",
      "\n",
      "WARNING:tensorflow:From /usr/local/lib/python3.6/dist-packages/keras/backend/tensorflow_backend.py:207: The name tf.global_variables is deprecated. Please use tf.compat.v1.global_variables instead.\n",
      "\n",
      "WARNING:tensorflow:From /usr/local/lib/python3.6/dist-packages/keras/backend/tensorflow_backend.py:216: The name tf.is_variable_initialized is deprecated. Please use tf.compat.v1.is_variable_initialized instead.\n",
      "\n",
      "WARNING:tensorflow:From /usr/local/lib/python3.6/dist-packages/keras/backend/tensorflow_backend.py:223: The name tf.variables_initializer is deprecated. Please use tf.compat.v1.variables_initializer instead.\n",
      "\n",
      "WARNING:tensorflow:From /usr/local/lib/python3.6/dist-packages/keras/optimizers.py:793: The name tf.train.Optimizer is deprecated. Please use tf.compat.v1.train.Optimizer instead.\n",
      "\n",
      "WARNING:tensorflow:From /usr/local/lib/python3.6/dist-packages/keras/backend/tensorflow_backend.py:3657: The name tf.log is deprecated. Please use tf.math.log instead.\n",
      "\n",
      "WARNING:tensorflow:From /usr/local/lib/python3.6/dist-packages/tensorflow_core/python/ops/nn_impl.py:183: where (from tensorflow.python.ops.array_ops) is deprecated and will be removed in a future version.\n",
      "Instructions for updating:\n",
      "Use tf.where in 2.0, which has the same broadcast rule as np.where\n",
      "WARNING:tensorflow:From /usr/local/lib/python3.6/dist-packages/keras/backend/tensorflow_backend.py:1033: The name tf.assign_add is deprecated. Please use tf.compat.v1.assign_add instead.\n",
      "\n",
      "WARNING:tensorflow:From /usr/local/lib/python3.6/dist-packages/keras/backend/tensorflow_backend.py:1020: The name tf.assign is deprecated. Please use tf.compat.v1.assign instead.\n",
      "\n"
     ]
    }
   ],
   "source": [
    "#model.save('GRU_128_model.h5')\n",
    "model_1 = load_model('GRU_128_model.h5')"
   ]
  },
  {
   "cell_type": "code",
   "execution_count": 0,
   "metadata": {
    "colab": {},
    "colab_type": "code",
    "id": "eafV8EbhNbzC"
   },
   "outputs": [],
   "source": [
    "prediction_train_GRU = model_1.predict(X_train_ints,batch_size=1024)\n",
    "\n",
    "\n",
    "results_train_GRU   = final_AUC_metric(y_true=y_train, y_predicted=np.hstack((prediction_train_GRU[0],prediction_train_GRU[1],prediction_train_GRU[2]))\n",
    "                          ,final_AUC_metric_alone=False)"
   ]
  },
  {
   "cell_type": "code",
   "execution_count": 19,
   "metadata": {
    "colab": {
     "base_uri": "https://localhost:8080/",
     "height": 393
    },
    "colab_type": "code",
    "id": "tuo4XQHbNbzF",
    "outputId": "722bf7e7-1c55-41be-9f94-c5d9f0168248"
   },
   "outputs": [
    {
     "name": "stdout",
     "output_type": "stream",
     "text": [
      "Individual AUCs for all identity lables in train data.\n",
      "-----------------------------------------------------------\n"
     ]
    },
    {
     "data": {
      "text/html": [
       "<div>\n",
       "<style scoped>\n",
       "    .dataframe tbody tr th:only-of-type {\n",
       "        vertical-align: middle;\n",
       "    }\n",
       "\n",
       "    .dataframe tbody tr th {\n",
       "        vertical-align: top;\n",
       "    }\n",
       "\n",
       "    .dataframe thead th {\n",
       "        text-align: right;\n",
       "    }\n",
       "</style>\n",
       "<table border=\"1\" class=\"dataframe\">\n",
       "  <thead>\n",
       "    <tr style=\"text-align: right;\">\n",
       "      <th></th>\n",
       "      <th>SUB</th>\n",
       "      <th>BPSN</th>\n",
       "      <th>BNSP</th>\n",
       "    </tr>\n",
       "  </thead>\n",
       "  <tbody>\n",
       "    <tr>\n",
       "      <th>male</th>\n",
       "      <td>0.919915</td>\n",
       "      <td>0.899428</td>\n",
       "      <td>0.970506</td>\n",
       "    </tr>\n",
       "    <tr>\n",
       "      <th>female</th>\n",
       "      <td>0.920779</td>\n",
       "      <td>0.903863</td>\n",
       "      <td>0.969247</td>\n",
       "    </tr>\n",
       "    <tr>\n",
       "      <th>homosexual_gay_or_lesbian</th>\n",
       "      <td>0.839443</td>\n",
       "      <td>0.803015</td>\n",
       "      <td>0.974197</td>\n",
       "    </tr>\n",
       "    <tr>\n",
       "      <th>christian</th>\n",
       "      <td>0.928425</td>\n",
       "      <td>0.940823</td>\n",
       "      <td>0.951624</td>\n",
       "    </tr>\n",
       "    <tr>\n",
       "      <th>jewish</th>\n",
       "      <td>0.891134</td>\n",
       "      <td>0.870905</td>\n",
       "      <td>0.969504</td>\n",
       "    </tr>\n",
       "    <tr>\n",
       "      <th>muslim</th>\n",
       "      <td>0.858035</td>\n",
       "      <td>0.822108</td>\n",
       "      <td>0.97438</td>\n",
       "    </tr>\n",
       "    <tr>\n",
       "      <th>black</th>\n",
       "      <td>0.837163</td>\n",
       "      <td>0.787605</td>\n",
       "      <td>0.976653</td>\n",
       "    </tr>\n",
       "    <tr>\n",
       "      <th>white</th>\n",
       "      <td>0.851046</td>\n",
       "      <td>0.79152</td>\n",
       "      <td>0.978752</td>\n",
       "    </tr>\n",
       "    <tr>\n",
       "      <th>psychiatric_or_mental_illness</th>\n",
       "      <td>0.924017</td>\n",
       "      <td>0.893697</td>\n",
       "      <td>0.972906</td>\n",
       "    </tr>\n",
       "    <tr>\n",
       "      <th>Mp</th>\n",
       "      <td>0.880937</td>\n",
       "      <td>0.847051</td>\n",
       "      <td>0.970687</td>\n",
       "    </tr>\n",
       "  </tbody>\n",
       "</table>\n",
       "</div>"
      ],
      "text/plain": [
       "                                    SUB      BPSN      BNSP\n",
       "male                           0.919915  0.899428  0.970506\n",
       "female                         0.920779  0.903863  0.969247\n",
       "homosexual_gay_or_lesbian      0.839443  0.803015  0.974197\n",
       "christian                      0.928425  0.940823  0.951624\n",
       "jewish                         0.891134  0.870905  0.969504\n",
       "muslim                         0.858035  0.822108   0.97438\n",
       "black                          0.837163  0.787605  0.976653\n",
       "white                          0.851046   0.79152  0.978752\n",
       "psychiatric_or_mental_illness  0.924017  0.893697  0.972906\n",
       "Mp                             0.880937  0.847051  0.970687"
      ]
     },
     "execution_count": 19,
     "metadata": {
      "tags": []
     },
     "output_type": "execute_result"
    }
   ],
   "source": [
    "print(\"Individual AUCs for all identity lables in train data.\")\n",
    "print(\"-----------------------------------------------------------\")\n",
    "results_train_GRU[1]"
   ]
  },
  {
   "cell_type": "code",
   "execution_count": 20,
   "metadata": {
    "colab": {
     "base_uri": "https://localhost:8080/",
     "height": 51
    },
    "colab_type": "code",
    "id": "dJJCnKSYNbzL",
    "outputId": "58548df1-64b5-4a58-fbdf-db0a22cfe065",
    "scrolled": true
   },
   "outputs": [
    {
     "name": "stdout",
     "output_type": "stream",
     "text": [
      "Final AUC value for Train data:\n"
     ]
    },
    {
     "data": {
      "text/plain": [
       "0.9143455841898749"
      ]
     },
     "execution_count": 20,
     "metadata": {
      "tags": []
     },
     "output_type": "execute_result"
    }
   ],
   "source": [
    "print(\"Final AUC value for Train data:\")\n",
    "results_train_GRU[0]"
   ]
  },
  {
   "cell_type": "code",
   "execution_count": 0,
   "metadata": {
    "colab": {},
    "colab_type": "code",
    "id": "Wl0vUvuiNbzO"
   },
   "outputs": [],
   "source": [
    "prediction_test_GRU = model_1.predict(X_test_ints,batch_size=1024)\n",
    "\n",
    "\n",
    "results_test_GRU   = final_AUC_metric(y_true=y_test, y_predicted=np.hstack((prediction_test_GRU[0],prediction_test_GRU[1],prediction_test_GRU[2]))\n",
    "                          ,final_AUC_metric_alone=False)"
   ]
  },
  {
   "cell_type": "code",
   "execution_count": 22,
   "metadata": {
    "colab": {
     "base_uri": "https://localhost:8080/",
     "height": 393
    },
    "colab_type": "code",
    "id": "QZqAvDjINbzR",
    "outputId": "5a3ec966-fc0d-41d6-f4f2-a36cef78f933"
   },
   "outputs": [
    {
     "name": "stdout",
     "output_type": "stream",
     "text": [
      "Individual AUCs for all identity lables in Test data.\n",
      "-----------------------------------------------------------\n"
     ]
    },
    {
     "data": {
      "text/html": [
       "<div>\n",
       "<style scoped>\n",
       "    .dataframe tbody tr th:only-of-type {\n",
       "        vertical-align: middle;\n",
       "    }\n",
       "\n",
       "    .dataframe tbody tr th {\n",
       "        vertical-align: top;\n",
       "    }\n",
       "\n",
       "    .dataframe thead th {\n",
       "        text-align: right;\n",
       "    }\n",
       "</style>\n",
       "<table border=\"1\" class=\"dataframe\">\n",
       "  <thead>\n",
       "    <tr style=\"text-align: right;\">\n",
       "      <th></th>\n",
       "      <th>SUB</th>\n",
       "      <th>BPSN</th>\n",
       "      <th>BNSP</th>\n",
       "    </tr>\n",
       "  </thead>\n",
       "  <tbody>\n",
       "    <tr>\n",
       "      <th>male</th>\n",
       "      <td>0.90492</td>\n",
       "      <td>0.883349</td>\n",
       "      <td>0.964173</td>\n",
       "    </tr>\n",
       "    <tr>\n",
       "      <th>female</th>\n",
       "      <td>0.904801</td>\n",
       "      <td>0.893481</td>\n",
       "      <td>0.959032</td>\n",
       "    </tr>\n",
       "    <tr>\n",
       "      <th>homosexual_gay_or_lesbian</th>\n",
       "      <td>0.824629</td>\n",
       "      <td>0.792441</td>\n",
       "      <td>0.968468</td>\n",
       "    </tr>\n",
       "    <tr>\n",
       "      <th>christian</th>\n",
       "      <td>0.921393</td>\n",
       "      <td>0.931261</td>\n",
       "      <td>0.944542</td>\n",
       "    </tr>\n",
       "    <tr>\n",
       "      <th>jewish</th>\n",
       "      <td>0.872002</td>\n",
       "      <td>0.844679</td>\n",
       "      <td>0.964684</td>\n",
       "    </tr>\n",
       "    <tr>\n",
       "      <th>muslim</th>\n",
       "      <td>0.855626</td>\n",
       "      <td>0.8085</td>\n",
       "      <td>0.97034</td>\n",
       "    </tr>\n",
       "    <tr>\n",
       "      <th>black</th>\n",
       "      <td>0.822899</td>\n",
       "      <td>0.755966</td>\n",
       "      <td>0.975351</td>\n",
       "    </tr>\n",
       "    <tr>\n",
       "      <th>white</th>\n",
       "      <td>0.833</td>\n",
       "      <td>0.759401</td>\n",
       "      <td>0.976705</td>\n",
       "    </tr>\n",
       "    <tr>\n",
       "      <th>psychiatric_or_mental_illness</th>\n",
       "      <td>0.882848</td>\n",
       "      <td>0.858177</td>\n",
       "      <td>0.962593</td>\n",
       "    </tr>\n",
       "    <tr>\n",
       "      <th>Mp</th>\n",
       "      <td>0.864885</td>\n",
       "      <td>0.824491</td>\n",
       "      <td>0.964836</td>\n",
       "    </tr>\n",
       "  </tbody>\n",
       "</table>\n",
       "</div>"
      ],
      "text/plain": [
       "                                    SUB      BPSN      BNSP\n",
       "male                            0.90492  0.883349  0.964173\n",
       "female                         0.904801  0.893481  0.959032\n",
       "homosexual_gay_or_lesbian      0.824629  0.792441  0.968468\n",
       "christian                      0.921393  0.931261  0.944542\n",
       "jewish                         0.872002  0.844679  0.964684\n",
       "muslim                         0.855626    0.8085   0.97034\n",
       "black                          0.822899  0.755966  0.975351\n",
       "white                             0.833  0.759401  0.976705\n",
       "psychiatric_or_mental_illness  0.882848  0.858177  0.962593\n",
       "Mp                             0.864885  0.824491  0.964836"
      ]
     },
     "execution_count": 22,
     "metadata": {
      "tags": []
     },
     "output_type": "execute_result"
    }
   ],
   "source": [
    "print(\"Individual AUCs for all identity lables in Test data.\")\n",
    "print(\"-----------------------------------------------------------\")\n",
    "results_test_GRU[1]"
   ]
  },
  {
   "cell_type": "code",
   "execution_count": 23,
   "metadata": {
    "colab": {
     "base_uri": "https://localhost:8080/",
     "height": 51
    },
    "colab_type": "code",
    "id": "8UyDRRktNbzX",
    "outputId": "c2ef4aad-724d-479e-ca4f-3390c303c276"
   },
   "outputs": [
    {
     "name": "stdout",
     "output_type": "stream",
     "text": [
      "Final AUC value for Test data:\n"
     ]
    },
    {
     "data": {
      "text/plain": [
       "0.9011745407645806"
      ]
     },
     "execution_count": 23,
     "metadata": {
      "tags": []
     },
     "output_type": "execute_result"
    }
   ],
   "source": [
    "print(\"Final AUC value for Test data:\")\n",
    "results_test_GRU[0]"
   ]
  },
  {
   "cell_type": "markdown",
   "metadata": {
    "colab_type": "text",
    "id": "UrkW4874uohE"
   },
   "source": [
    "### 2. Bidirectional-LSTM  (Two 128-units)"
   ]
  },
  {
   "cell_type": "code",
   "execution_count": 0,
   "metadata": {
    "colab": {
     "base_uri": "https://localhost:8080/",
     "height": 731
    },
    "colab_type": "code",
    "id": "EkHsl2k4Nbzc",
    "outputId": "172592a4-d637-4651-b972-1ca90ef1c598"
   },
   "outputs": [
    {
     "name": "stdout",
     "output_type": "stream",
     "text": [
      "Model: \"model_2\"\n",
      "__________________________________________________________________________________________________\n",
      "Layer (type)                    Output Shape         Param #     Connected to                     \n",
      "==================================================================================================\n",
      "input_s (InputLayer)            (None, 500)          0                                            \n",
      "__________________________________________________________________________________________________\n",
      "embedding_2 (Embedding)         (None, 500, 100)     21726600    input_s[0][0]                    \n",
      "__________________________________________________________________________________________________\n",
      "spatial_dropout1d_2 (SpatialDro (None, 500, 100)     0           embedding_2[0][0]                \n",
      "__________________________________________________________________________________________________\n",
      "bidirectional_3 (Bidirectional) (None, 500, 256)     235520      spatial_dropout1d_2[0][0]        \n",
      "__________________________________________________________________________________________________\n",
      "bidirectional_4 (Bidirectional) (None, 500, 256)     395264      bidirectional_3[0][0]            \n",
      "__________________________________________________________________________________________________\n",
      "global_max_pooling1d_2 (GlobalM (None, 256)          0           bidirectional_4[0][0]            \n",
      "__________________________________________________________________________________________________\n",
      "global_average_pooling1d_2 (Glo (None, 256)          0           bidirectional_4[0][0]            \n",
      "__________________________________________________________________________________________________\n",
      "concatenate_2 (Concatenate)     (None, 512)          0           global_max_pooling1d_2[0][0]     \n",
      "                                                                 global_average_pooling1d_2[0][0] \n",
      "__________________________________________________________________________________________________\n",
      "dense_3 (Dense)                 (None, 512)          262656      concatenate_2[0][0]              \n",
      "__________________________________________________________________________________________________\n",
      "add_3 (Add)                     (None, 512)          0           concatenate_2[0][0]              \n",
      "                                                                 dense_3[0][0]                    \n",
      "__________________________________________________________________________________________________\n",
      "dense_4 (Dense)                 (None, 512)          262656      add_3[0][0]                      \n",
      "__________________________________________________________________________________________________\n",
      "add_4 (Add)                     (None, 512)          0           add_3[0][0]                      \n",
      "                                                                 dense_4[0][0]                    \n",
      "__________________________________________________________________________________________________\n",
      "result (Dense)                  (None, 1)            513         add_4[0][0]                      \n",
      "__________________________________________________________________________________________________\n",
      "aux_result (Dense)              (None, 6)            3078        add_4[0][0]                      \n",
      "__________________________________________________________________________________________________\n",
      "identity_result (Dense)         (None, 9)            4617        add_4[0][0]                      \n",
      "==================================================================================================\n",
      "Total params: 22,890,904\n",
      "Trainable params: 1,164,304\n",
      "Non-trainable params: 21,726,600\n",
      "__________________________________________________________________________________________________\n",
      "None\n"
     ]
    }
   ],
   "source": [
    "input_s = Input(shape=(max_length,), dtype='int32', name='input_s')\n",
    "\n",
    "LSTMs = Embedding(input_dim=vocab_size,input_length=max_length,weights=[embedding_matrix],trainable=False,output_dim=embedding_matrix.shape[1])(input_s)\n",
    "\n",
    "LSTMs = SpatialDropout1D(0.3)(LSTMs)\n",
    "\n",
    "LSTMs = Bidirectional(CuDNNLSTM(128, return_sequences=True))(LSTMs)\n",
    "LSTMs = Bidirectional(CuDNNLSTM(128, return_sequences=True))(LSTMs)\n",
    "hidden1 = concatenate([GlobalMaxPooling1D()(LSTMs),GlobalAveragePooling1D()(LSTMs)])\n",
    "\n",
    "hidden2 = add([hidden1, Dense(512, activation='relu')(hidden1)])\n",
    "hidden3 = add([hidden2, Dense(512, activation='relu')(hidden2)])\n",
    "\n",
    "#Multi_Outputs\n",
    "result = Dense(1, activation='sigmoid',name='result')(hidden3) #target\n",
    "aux_result = Dense(y_train_aux_target.shape[1], activation='sigmoid',name='aux_result')(hidden3) #\n",
    "identity_result = Dense(y_train_identity.shape[1], activation='sigmoid',name='identity_result')(hidden3)\n",
    "\n",
    "model = Model(inputs=input_s, outputs=[result, aux_result,identity_result])\n",
    "adam = Adam(lr= 0.0006)\n",
    "model.compile(loss='binary_crossentropy', optimizer=adam, metrics=['accuracy'])\n",
    "print(model.summary())"
   ]
  },
  {
   "cell_type": "code",
   "execution_count": 0,
   "metadata": {
    "colab": {
     "base_uri": "https://localhost:8080/",
     "height": 190
    },
    "colab_type": "code",
    "id": "HpCFz4BiNbzi",
    "outputId": "39c69ed7-867b-4ae5-945c-0cc674324967"
   },
   "outputs": [
    {
     "name": "stdout",
     "output_type": "stream",
     "text": [
      "Train on 1249618 samples, validate on 535551 samples\n",
      "Epoch 1/4\n",
      "1249618/1249618 [==============================] - 3047s 2ms/step - loss: 0.1813 - result_loss: 0.1426 - aux_result_loss: 0.0279 - identity_result_loss: 0.0107 - result_acc: 0.9460 - aux_result_acc: 0.9907 - identity_result_acc: 0.9961 - val_loss: 0.1811 - val_result_loss: 0.1443 - val_aux_result_loss: 0.0279 - val_identity_result_loss: 0.0088 - val_result_acc: 0.9434 - val_aux_result_acc: 0.9903 - val_identity_result_acc: 0.9968\n",
      "Epoch 2/4\n",
      "1249618/1249618 [==============================] - 3050s 2ms/step - loss: 0.1724 - result_loss: 0.1368 - aux_result_loss: 0.0264 - identity_result_loss: 0.0092 - result_acc: 0.9477 - aux_result_acc: 0.9910 - identity_result_acc: 0.9966 - val_loss: 0.1801 - val_result_loss: 0.1439 - val_aux_result_loss: 0.0277 - val_identity_result_loss: 0.0085 - val_result_acc: 0.9432 - val_aux_result_acc: 0.9902 - val_identity_result_acc: 0.9969\n",
      "Epoch 3/4\n",
      "1249618/1249618 [==============================] - 3054s 2ms/step - loss: 0.1668 - result_loss: 0.1327 - aux_result_loss: 0.0254 - identity_result_loss: 0.0086 - result_acc: 0.9488 - aux_result_acc: 0.9912 - identity_result_acc: 0.9968 - val_loss: 0.1732 - val_result_loss: 0.1386 - val_aux_result_loss: 0.0265 - val_identity_result_loss: 0.0082 - val_result_acc: 0.9456 - val_aux_result_acc: 0.9906 - val_identity_result_acc: 0.9970\n",
      "Epoch 4/4\n",
      "1249618/1249618 [==============================] - 3048s 2ms/step - loss: 0.1633 - result_loss: 0.1301 - aux_result_loss: 0.0249 - identity_result_loss: 0.0084 - result_acc: 0.9498 - aux_result_acc: 0.9913 - identity_result_acc: 0.9969 - val_loss: 0.1759 - val_result_loss: 0.1407 - val_aux_result_loss: 0.0270 - val_identity_result_loss: 0.0082 - val_result_acc: 0.9444 - val_aux_result_acc: 0.9903 - val_identity_result_acc: 0.9969\n"
     ]
    }
   ],
   "source": [
    "history2 = model.fit(\n",
    "{'input_s': X_train_ints},\n",
    "{'result': y_train_target,\n",
    "    'aux_result':y_train_aux_target,\n",
    "    'identity_result':y_train_identity},\n",
    "batch_size=512,\n",
    "epochs=4,\n",
    "validation_data=[{'input_s': X_test_ints},\n",
    "                  {'result': y_test_target,\n",
    "          'aux_result':y_test_aux_target,\n",
    "          'identity_result':y_test_identity}])"
   ]
  },
  {
   "cell_type": "code",
   "execution_count": 0,
   "metadata": {
    "colab": {
     "base_uri": "https://localhost:8080/",
     "height": 193
    },
    "colab_type": "code",
    "id": "1fF9DjfrNbzk",
    "outputId": "ca2590e8-f48e-40b4-c796-28eae0ecca0a"
   },
   "outputs": [
    {
     "data": {
      "text/html": [
       "<div>\n",
       "<style scoped>\n",
       "    .dataframe tbody tr th:only-of-type {\n",
       "        vertical-align: middle;\n",
       "    }\n",
       "\n",
       "    .dataframe tbody tr th {\n",
       "        vertical-align: top;\n",
       "    }\n",
       "\n",
       "    .dataframe thead th {\n",
       "        text-align: right;\n",
       "    }\n",
       "</style>\n",
       "<table border=\"1\" class=\"dataframe\">\n",
       "  <thead>\n",
       "    <tr style=\"text-align: right;\">\n",
       "      <th></th>\n",
       "      <th>val_loss</th>\n",
       "      <th>val_result_loss</th>\n",
       "      <th>val_aux_result_loss</th>\n",
       "      <th>val_identity_result_loss</th>\n",
       "      <th>val_result_acc</th>\n",
       "      <th>val_aux_result_acc</th>\n",
       "      <th>val_identity_result_acc</th>\n",
       "      <th>loss</th>\n",
       "      <th>result_loss</th>\n",
       "      <th>aux_result_loss</th>\n",
       "      <th>identity_result_loss</th>\n",
       "      <th>result_acc</th>\n",
       "      <th>aux_result_acc</th>\n",
       "      <th>identity_result_acc</th>\n",
       "    </tr>\n",
       "  </thead>\n",
       "  <tbody>\n",
       "    <tr>\n",
       "      <th>0</th>\n",
       "      <td>0.181065</td>\n",
       "      <td>0.144323</td>\n",
       "      <td>0.027929</td>\n",
       "      <td>0.008814</td>\n",
       "      <td>0.943376</td>\n",
       "      <td>0.990332</td>\n",
       "      <td>0.996846</td>\n",
       "      <td>0.181293</td>\n",
       "      <td>0.142645</td>\n",
       "      <td>0.027932</td>\n",
       "      <td>0.010716</td>\n",
       "      <td>0.946046</td>\n",
       "      <td>0.990726</td>\n",
       "      <td>0.996118</td>\n",
       "    </tr>\n",
       "    <tr>\n",
       "      <th>1</th>\n",
       "      <td>0.180093</td>\n",
       "      <td>0.143864</td>\n",
       "      <td>0.027730</td>\n",
       "      <td>0.008500</td>\n",
       "      <td>0.943221</td>\n",
       "      <td>0.990188</td>\n",
       "      <td>0.996912</td>\n",
       "      <td>0.172393</td>\n",
       "      <td>0.136766</td>\n",
       "      <td>0.026383</td>\n",
       "      <td>0.009244</td>\n",
       "      <td>0.947725</td>\n",
       "      <td>0.991018</td>\n",
       "      <td>0.996632</td>\n",
       "    </tr>\n",
       "    <tr>\n",
       "      <th>2</th>\n",
       "      <td>0.173211</td>\n",
       "      <td>0.138562</td>\n",
       "      <td>0.026483</td>\n",
       "      <td>0.008166</td>\n",
       "      <td>0.945553</td>\n",
       "      <td>0.990601</td>\n",
       "      <td>0.997029</td>\n",
       "      <td>0.166786</td>\n",
       "      <td>0.132715</td>\n",
       "      <td>0.025423</td>\n",
       "      <td>0.008649</td>\n",
       "      <td>0.948801</td>\n",
       "      <td>0.991216</td>\n",
       "      <td>0.996832</td>\n",
       "    </tr>\n",
       "    <tr>\n",
       "      <th>3</th>\n",
       "      <td>0.175894</td>\n",
       "      <td>0.140708</td>\n",
       "      <td>0.026990</td>\n",
       "      <td>0.008196</td>\n",
       "      <td>0.944368</td>\n",
       "      <td>0.990302</td>\n",
       "      <td>0.996942</td>\n",
       "      <td>0.163348</td>\n",
       "      <td>0.130132</td>\n",
       "      <td>0.024850</td>\n",
       "      <td>0.008366</td>\n",
       "      <td>0.949770</td>\n",
       "      <td>0.991329</td>\n",
       "      <td>0.996926</td>\n",
       "    </tr>\n",
       "  </tbody>\n",
       "</table>\n",
       "</div>"
      ],
      "text/plain": [
       "   val_loss  val_result_loss  ...  aux_result_acc  identity_result_acc\n",
       "0  0.181065         0.144323  ...        0.990726             0.996118\n",
       "1  0.180093         0.143864  ...        0.991018             0.996632\n",
       "2  0.173211         0.138562  ...        0.991216             0.996832\n",
       "3  0.175894         0.140708  ...        0.991329             0.996926\n",
       "\n",
       "[4 rows x 14 columns]"
      ]
     },
     "execution_count": 22,
     "metadata": {
      "tags": []
     },
     "output_type": "execute_result"
    }
   ],
   "source": [
    "pd.DataFrame(history2.history)"
   ]
  },
  {
   "cell_type": "code",
   "execution_count": 0,
   "metadata": {
    "colab": {},
    "colab_type": "code",
    "id": "HsxISOdTxD9H"
   },
   "outputs": [],
   "source": [
    "downloaded = drive.CreateFile({'id':'1CH5hrfHfMXkmZykXTy1CCmuk23mTRGzE'})\n",
    "downloaded.GetContentFile('LSTM_128_model.h5')"
   ]
  },
  {
   "cell_type": "code",
   "execution_count": 0,
   "metadata": {
    "colab": {},
    "colab_type": "code",
    "id": "dEryLlpgNbzm"
   },
   "outputs": [],
   "source": [
    "#model.save('LSTM_128_model.h5')\n",
    "model_LSTM = load_model('LSTM_128_model.h5')"
   ]
  },
  {
   "cell_type": "code",
   "execution_count": 0,
   "metadata": {
    "colab": {},
    "colab_type": "code",
    "id": "HGhWDhQ2Nbzq"
   },
   "outputs": [],
   "source": [
    "prediction_test_LSTM = model_LSTM.predict(X_test_ints,batch_size=1024)\n",
    "\n",
    "results_test_LSTM = final_AUC_metric(y_true=y_test, y_predicted=np.hstack((prediction_test_LSTM[0],prediction_test_LSTM[1],prediction_test_LSTM[2]))\n",
    "                          ,final_AUC_metric_alone=False)"
   ]
  },
  {
   "cell_type": "code",
   "execution_count": 0,
   "metadata": {
    "colab": {},
    "colab_type": "code",
    "id": "sQqLXFxNuohU"
   },
   "outputs": [],
   "source": [
    "prediction_train_LSTM = model_LSTM.predict(X_test_ints,batch_size=1024)\n",
    "\n",
    "results_train_LSTM = final_AUC_metric(y_true=y_test, y_predicted=np.hstack((prediction_train_LSTM[0],prediction_train_LSTM[1],prediction_train_LSTM[2]))\n",
    "                          ,final_AUC_metric_alone=False)"
   ]
  },
  {
   "cell_type": "code",
   "execution_count": 28,
   "metadata": {
    "colab": {
     "base_uri": "https://localhost:8080/",
     "height": 393
    },
    "colab_type": "code",
    "id": "NkPvMqsvuohX",
    "outputId": "ddc2c260-926d-4f58-c77d-92bca2d57951",
    "scrolled": true
   },
   "outputs": [
    {
     "name": "stdout",
     "output_type": "stream",
     "text": [
      "Individual AUCs for all identity lables in train data\n",
      "-----------------------------------------------------------\n"
     ]
    },
    {
     "data": {
      "text/html": [
       "<div>\n",
       "<style scoped>\n",
       "    .dataframe tbody tr th:only-of-type {\n",
       "        vertical-align: middle;\n",
       "    }\n",
       "\n",
       "    .dataframe tbody tr th {\n",
       "        vertical-align: top;\n",
       "    }\n",
       "\n",
       "    .dataframe thead th {\n",
       "        text-align: right;\n",
       "    }\n",
       "</style>\n",
       "<table border=\"1\" class=\"dataframe\">\n",
       "  <thead>\n",
       "    <tr style=\"text-align: right;\">\n",
       "      <th></th>\n",
       "      <th>SUB</th>\n",
       "      <th>BPSN</th>\n",
       "      <th>BNSP</th>\n",
       "    </tr>\n",
       "  </thead>\n",
       "  <tbody>\n",
       "    <tr>\n",
       "      <th>male</th>\n",
       "      <td>0.909608</td>\n",
       "      <td>0.913021</td>\n",
       "      <td>0.953612</td>\n",
       "    </tr>\n",
       "    <tr>\n",
       "      <th>female</th>\n",
       "      <td>0.909311</td>\n",
       "      <td>0.929136</td>\n",
       "      <td>0.941677</td>\n",
       "    </tr>\n",
       "    <tr>\n",
       "      <th>homosexual_gay_or_lesbian</th>\n",
       "      <td>0.833091</td>\n",
       "      <td>0.815263</td>\n",
       "      <td>0.96553</td>\n",
       "    </tr>\n",
       "    <tr>\n",
       "      <th>christian</th>\n",
       "      <td>0.925166</td>\n",
       "      <td>0.944067</td>\n",
       "      <td>0.937236</td>\n",
       "    </tr>\n",
       "    <tr>\n",
       "      <th>jewish</th>\n",
       "      <td>0.871444</td>\n",
       "      <td>0.906045</td>\n",
       "      <td>0.936999</td>\n",
       "    </tr>\n",
       "    <tr>\n",
       "      <th>muslim</th>\n",
       "      <td>0.857696</td>\n",
       "      <td>0.866571</td>\n",
       "      <td>0.954591</td>\n",
       "    </tr>\n",
       "    <tr>\n",
       "      <th>black</th>\n",
       "      <td>0.835007</td>\n",
       "      <td>0.80147</td>\n",
       "      <td>0.969378</td>\n",
       "    </tr>\n",
       "    <tr>\n",
       "      <th>white</th>\n",
       "      <td>0.837532</td>\n",
       "      <td>0.813361</td>\n",
       "      <td>0.967609</td>\n",
       "    </tr>\n",
       "    <tr>\n",
       "      <th>psychiatric_or_mental_illness</th>\n",
       "      <td>0.890834</td>\n",
       "      <td>0.893438</td>\n",
       "      <td>0.953436</td>\n",
       "    </tr>\n",
       "    <tr>\n",
       "      <th>Mp</th>\n",
       "      <td>0.870565</td>\n",
       "      <td>0.866693</td>\n",
       "      <td>0.952895</td>\n",
       "    </tr>\n",
       "  </tbody>\n",
       "</table>\n",
       "</div>"
      ],
      "text/plain": [
       "                                    SUB      BPSN      BNSP\n",
       "male                           0.909608  0.913021  0.953612\n",
       "female                         0.909311  0.929136  0.941677\n",
       "homosexual_gay_or_lesbian      0.833091  0.815263   0.96553\n",
       "christian                      0.925166  0.944067  0.937236\n",
       "jewish                         0.871444  0.906045  0.936999\n",
       "muslim                         0.857696  0.866571  0.954591\n",
       "black                          0.835007   0.80147  0.969378\n",
       "white                          0.837532  0.813361  0.967609\n",
       "psychiatric_or_mental_illness  0.890834  0.893438  0.953436\n",
       "Mp                             0.870565  0.866693  0.952895"
      ]
     },
     "execution_count": 28,
     "metadata": {
      "tags": []
     },
     "output_type": "execute_result"
    }
   ],
   "source": [
    "print(\"Individual AUCs for all identity lables in train data\")\n",
    "print(\"-----------------------------------------------------------\")\n",
    "results_train_LSTM[1]"
   ]
  },
  {
   "cell_type": "code",
   "execution_count": 29,
   "metadata": {
    "colab": {
     "base_uri": "https://localhost:8080/",
     "height": 51
    },
    "colab_type": "code",
    "id": "UYKTd-b5uohb",
    "outputId": "520a67f7-fb06-4c27-f852-ec222366faed"
   },
   "outputs": [
    {
     "name": "stdout",
     "output_type": "stream",
     "text": [
      "Final AUC value on train data:\n"
     ]
    },
    {
     "data": {
      "text/plain": [
       "0.9106687666503256"
      ]
     },
     "execution_count": 29,
     "metadata": {
      "tags": []
     },
     "output_type": "execute_result"
    }
   ],
   "source": [
    "print(\"Final AUC value on train data:\")\n",
    "results_train_LSTM[0]"
   ]
  },
  {
   "cell_type": "code",
   "execution_count": 30,
   "metadata": {
    "colab": {
     "base_uri": "https://localhost:8080/",
     "height": 393
    },
    "colab_type": "code",
    "id": "dsIF4Y39Nbzs",
    "outputId": "fced97b4-92af-4aa2-f2ed-d92fa9011b80"
   },
   "outputs": [
    {
     "name": "stdout",
     "output_type": "stream",
     "text": [
      "Individual AUCs for all identity lables in test data.\n",
      "-----------------------------------------------------------\n"
     ]
    },
    {
     "data": {
      "text/html": [
       "<div>\n",
       "<style scoped>\n",
       "    .dataframe tbody tr th:only-of-type {\n",
       "        vertical-align: middle;\n",
       "    }\n",
       "\n",
       "    .dataframe tbody tr th {\n",
       "        vertical-align: top;\n",
       "    }\n",
       "\n",
       "    .dataframe thead th {\n",
       "        text-align: right;\n",
       "    }\n",
       "</style>\n",
       "<table border=\"1\" class=\"dataframe\">\n",
       "  <thead>\n",
       "    <tr style=\"text-align: right;\">\n",
       "      <th></th>\n",
       "      <th>SUB</th>\n",
       "      <th>BPSN</th>\n",
       "      <th>BNSP</th>\n",
       "    </tr>\n",
       "  </thead>\n",
       "  <tbody>\n",
       "    <tr>\n",
       "      <th>male</th>\n",
       "      <td>0.909608</td>\n",
       "      <td>0.913021</td>\n",
       "      <td>0.953612</td>\n",
       "    </tr>\n",
       "    <tr>\n",
       "      <th>female</th>\n",
       "      <td>0.909311</td>\n",
       "      <td>0.929136</td>\n",
       "      <td>0.941677</td>\n",
       "    </tr>\n",
       "    <tr>\n",
       "      <th>homosexual_gay_or_lesbian</th>\n",
       "      <td>0.833091</td>\n",
       "      <td>0.815263</td>\n",
       "      <td>0.96553</td>\n",
       "    </tr>\n",
       "    <tr>\n",
       "      <th>christian</th>\n",
       "      <td>0.925166</td>\n",
       "      <td>0.944067</td>\n",
       "      <td>0.937236</td>\n",
       "    </tr>\n",
       "    <tr>\n",
       "      <th>jewish</th>\n",
       "      <td>0.871444</td>\n",
       "      <td>0.906045</td>\n",
       "      <td>0.936999</td>\n",
       "    </tr>\n",
       "    <tr>\n",
       "      <th>muslim</th>\n",
       "      <td>0.857696</td>\n",
       "      <td>0.866571</td>\n",
       "      <td>0.954591</td>\n",
       "    </tr>\n",
       "    <tr>\n",
       "      <th>black</th>\n",
       "      <td>0.835007</td>\n",
       "      <td>0.80147</td>\n",
       "      <td>0.969378</td>\n",
       "    </tr>\n",
       "    <tr>\n",
       "      <th>white</th>\n",
       "      <td>0.837532</td>\n",
       "      <td>0.813361</td>\n",
       "      <td>0.967609</td>\n",
       "    </tr>\n",
       "    <tr>\n",
       "      <th>psychiatric_or_mental_illness</th>\n",
       "      <td>0.890834</td>\n",
       "      <td>0.893438</td>\n",
       "      <td>0.953436</td>\n",
       "    </tr>\n",
       "    <tr>\n",
       "      <th>Mp</th>\n",
       "      <td>0.870565</td>\n",
       "      <td>0.866693</td>\n",
       "      <td>0.952895</td>\n",
       "    </tr>\n",
       "  </tbody>\n",
       "</table>\n",
       "</div>"
      ],
      "text/plain": [
       "                                    SUB      BPSN      BNSP\n",
       "male                           0.909608  0.913021  0.953612\n",
       "female                         0.909311  0.929136  0.941677\n",
       "homosexual_gay_or_lesbian      0.833091  0.815263   0.96553\n",
       "christian                      0.925166  0.944067  0.937236\n",
       "jewish                         0.871444  0.906045  0.936999\n",
       "muslim                         0.857696  0.866571  0.954591\n",
       "black                          0.835007   0.80147  0.969378\n",
       "white                          0.837532  0.813361  0.967609\n",
       "psychiatric_or_mental_illness  0.890834  0.893438  0.953436\n",
       "Mp                             0.870565  0.866693  0.952895"
      ]
     },
     "execution_count": 30,
     "metadata": {
      "tags": []
     },
     "output_type": "execute_result"
    }
   ],
   "source": [
    "print(\"Individual AUCs for all identity lables in test data.\")\n",
    "print(\"-----------------------------------------------------------\")\n",
    "results_test_LSTM[1]"
   ]
  },
  {
   "cell_type": "code",
   "execution_count": 31,
   "metadata": {
    "colab": {
     "base_uri": "https://localhost:8080/",
     "height": 51
    },
    "colab_type": "code",
    "id": "KEZXQ6AzNbzv",
    "outputId": "704e5ba2-3a22-4fde-ff9c-0351977854b7"
   },
   "outputs": [
    {
     "name": "stdout",
     "output_type": "stream",
     "text": [
      "Final AUC value on Test data:\n"
     ]
    },
    {
     "data": {
      "text/plain": [
       "0.9106687666503256"
      ]
     },
     "execution_count": 31,
     "metadata": {
      "tags": []
     },
     "output_type": "execute_result"
    }
   ],
   "source": [
    "print(\"Final AUC value on Test data:\")\n",
    "results_test_LSTM[0]"
   ]
  },
  {
   "cell_type": "markdown",
   "metadata": {
    "colab_type": "text",
    "id": "NkkKPy8odikn"
   },
   "source": [
    "### 3.  LSTM  (One - 256 hidden states) \n"
   ]
  },
  {
   "cell_type": "code",
   "execution_count": 0,
   "metadata": {
    "colab": {
     "base_uri": "https://localhost:8080/",
     "height": 1000
    },
    "colab_type": "code",
    "id": "lm5dWQ1Gdiko",
    "outputId": "d49ce489-8231-4039-94d3-c386c6bb9c68"
   },
   "outputs": [
    {
     "name": "stdout",
     "output_type": "stream",
     "text": [
      "WARNING:tensorflow:From /usr/local/lib/python3.6/dist-packages/keras/backend/tensorflow_backend.py:541: The name tf.placeholder is deprecated. Please use tf.compat.v1.placeholder instead.\n",
      "\n",
      "WARNING:tensorflow:From /usr/local/lib/python3.6/dist-packages/keras/backend/tensorflow_backend.py:66: The name tf.get_default_graph is deprecated. Please use tf.compat.v1.get_default_graph instead.\n",
      "\n",
      "WARNING:tensorflow:From /usr/local/lib/python3.6/dist-packages/keras/backend/tensorflow_backend.py:4432: The name tf.random_uniform is deprecated. Please use tf.random.uniform instead.\n",
      "\n",
      "WARNING:tensorflow:From /usr/local/lib/python3.6/dist-packages/keras/backend/tensorflow_backend.py:190: The name tf.get_default_session is deprecated. Please use tf.compat.v1.get_default_session instead.\n",
      "\n",
      "WARNING:tensorflow:From /usr/local/lib/python3.6/dist-packages/keras/backend/tensorflow_backend.py:197: The name tf.ConfigProto is deprecated. Please use tf.compat.v1.ConfigProto instead.\n",
      "\n",
      "WARNING:tensorflow:From /usr/local/lib/python3.6/dist-packages/keras/backend/tensorflow_backend.py:203: The name tf.Session is deprecated. Please use tf.compat.v1.Session instead.\n",
      "\n",
      "WARNING:tensorflow:From /usr/local/lib/python3.6/dist-packages/keras/backend/tensorflow_backend.py:207: The name tf.global_variables is deprecated. Please use tf.compat.v1.global_variables instead.\n",
      "\n",
      "WARNING:tensorflow:From /usr/local/lib/python3.6/dist-packages/keras/backend/tensorflow_backend.py:216: The name tf.is_variable_initialized is deprecated. Please use tf.compat.v1.is_variable_initialized instead.\n",
      "\n",
      "WARNING:tensorflow:From /usr/local/lib/python3.6/dist-packages/keras/backend/tensorflow_backend.py:223: The name tf.variables_initializer is deprecated. Please use tf.compat.v1.variables_initializer instead.\n",
      "\n",
      "WARNING:tensorflow:From /usr/local/lib/python3.6/dist-packages/keras/backend/tensorflow_backend.py:148: The name tf.placeholder_with_default is deprecated. Please use tf.compat.v1.placeholder_with_default instead.\n",
      "\n",
      "WARNING:tensorflow:From /usr/local/lib/python3.6/dist-packages/keras/backend/tensorflow_backend.py:3733: calling dropout (from tensorflow.python.ops.nn_ops) with keep_prob is deprecated and will be removed in a future version.\n",
      "Instructions for updating:\n",
      "Please use `rate` instead of `keep_prob`. Rate should be set to `rate = 1 - keep_prob`.\n",
      "WARNING:tensorflow:From /usr/local/lib/python3.6/dist-packages/keras/optimizers.py:793: The name tf.train.Optimizer is deprecated. Please use tf.compat.v1.train.Optimizer instead.\n",
      "\n",
      "WARNING:tensorflow:From /usr/local/lib/python3.6/dist-packages/keras/backend/tensorflow_backend.py:3657: The name tf.log is deprecated. Please use tf.math.log instead.\n",
      "\n",
      "WARNING:tensorflow:From /usr/local/lib/python3.6/dist-packages/tensorflow_core/python/ops/nn_impl.py:183: where (from tensorflow.python.ops.array_ops) is deprecated and will be removed in a future version.\n",
      "Instructions for updating:\n",
      "Use tf.where in 2.0, which has the same broadcast rule as np.where\n",
      "Model: \"model_1\"\n",
      "__________________________________________________________________________________________________\n",
      "Layer (type)                    Output Shape         Param #     Connected to                     \n",
      "==================================================================================================\n",
      "input_s (InputLayer)            (None, 500)          0                                            \n",
      "__________________________________________________________________________________________________\n",
      "embedding_1 (Embedding)         (None, 500, 100)     21726600    input_s[0][0]                    \n",
      "__________________________________________________________________________________________________\n",
      "spatial_dropout1d_1 (SpatialDro (None, 500, 100)     0           embedding_1[0][0]                \n",
      "__________________________________________________________________________________________________\n",
      "bidirectional_1 (Bidirectional) (None, 500, 512)     733184      spatial_dropout1d_1[0][0]        \n",
      "__________________________________________________________________________________________________\n",
      "global_max_pooling1d_1 (GlobalM (None, 512)          0           bidirectional_1[0][0]            \n",
      "__________________________________________________________________________________________________\n",
      "global_average_pooling1d_1 (Glo (None, 512)          0           bidirectional_1[0][0]            \n",
      "__________________________________________________________________________________________________\n",
      "concatenate_1 (Concatenate)     (None, 1024)         0           global_max_pooling1d_1[0][0]     \n",
      "                                                                 global_average_pooling1d_1[0][0] \n",
      "__________________________________________________________________________________________________\n",
      "dense_1 (Dense)                 (None, 1024)         1049600     concatenate_1[0][0]              \n",
      "__________________________________________________________________________________________________\n",
      "add_1 (Add)                     (None, 1024)         0           concatenate_1[0][0]              \n",
      "                                                                 dense_1[0][0]                    \n",
      "__________________________________________________________________________________________________\n",
      "result (Dense)                  (None, 1)            1025        add_1[0][0]                      \n",
      "__________________________________________________________________________________________________\n",
      "aux_result (Dense)              (None, 6)            6150        add_1[0][0]                      \n",
      "__________________________________________________________________________________________________\n",
      "identity_result (Dense)         (None, 9)            9225        add_1[0][0]                      \n",
      "==================================================================================================\n",
      "Total params: 23,525,784\n",
      "Trainable params: 1,799,184\n",
      "Non-trainable params: 21,726,600\n",
      "__________________________________________________________________________________________________\n",
      "None\n"
     ]
    }
   ],
   "source": [
    "input_s = Input(shape=(max_length,), dtype='int32', name='input_s')\n",
    "\n",
    "LSTMs = Embedding(input_dim=vocab_size,input_length=max_length,weights=[embedding_matrix],trainable=False,output_dim=embedding_matrix.shape[1])(input_s)\n",
    "\n",
    "LSTMs = SpatialDropout1D(0.3)(LSTMs)\n",
    "\n",
    "LSTMs = Bidirectional(CuDNNLSTM(256, return_sequences=True))(LSTMs)\n",
    "hidden1 = concatenate([GlobalMaxPooling1D()(LSTMs),GlobalAveragePooling1D()(LSTMs)])\n",
    "hidden2 = add([hidden1, Dense(1024, activation='relu')(hidden1)])\n",
    "\n",
    "#Multi_Outputs\n",
    "result = Dense(1, activation='sigmoid',name='result')(hidden2) #target\n",
    "aux_result = Dense(y_train_aux_target.shape[1], activation='sigmoid',name='aux_result')(hidden2) #\n",
    "identity_result = Dense(y_train_identity.shape[1], activation='sigmoid',name='identity_result')(hidden2)\n",
    "\n",
    "model = Model(inputs=input_s, outputs=[result, aux_result,identity_result])\n",
    "adam = Adam(lr= 0.0007)\n",
    "model.compile(loss='binary_crossentropy', optimizer=adam, metrics=['accuracy'])\n",
    "print(model.summary())"
   ]
  },
  {
   "cell_type": "code",
   "execution_count": 0,
   "metadata": {
    "colab": {
     "base_uri": "https://localhost:8080/",
     "height": 258
    },
    "colab_type": "code",
    "id": "5_8bYYTCdikq",
    "outputId": "f076fe0b-a99b-4d36-be9c-c4a6b168262e"
   },
   "outputs": [
    {
     "name": "stdout",
     "output_type": "stream",
     "text": [
      "WARNING:tensorflow:From /usr/local/lib/python3.6/dist-packages/keras/backend/tensorflow_backend.py:1033: The name tf.assign_add is deprecated. Please use tf.compat.v1.assign_add instead.\n",
      "\n",
      "WARNING:tensorflow:From /usr/local/lib/python3.6/dist-packages/keras/backend/tensorflow_backend.py:1020: The name tf.assign is deprecated. Please use tf.compat.v1.assign instead.\n",
      "\n",
      "Train on 1249618 samples, validate on 535551 samples\n",
      "Epoch 1/4\n",
      "1249618/1249618 [==============================] - 2866s 2ms/step - loss: 0.2279 - result_loss: 0.1677 - aux_result_loss: 0.0349 - identity_result_loss: 0.0253 - result_acc: 0.9390 - aux_result_acc: 0.9896 - identity_result_acc: 0.9922 - val_loss: 0.1946 - val_result_loss: 0.1534 - val_aux_result_loss: 0.0306 - val_identity_result_loss: 0.0106 - val_result_acc: 0.9414 - val_aux_result_acc: 0.9898 - val_identity_result_acc: 0.9963\n",
      "Epoch 2/4\n",
      "1249618/1249618 [==============================] - 2863s 2ms/step - loss: 0.1848 - result_loss: 0.1457 - aux_result_loss: 0.0284 - identity_result_loss: 0.0106 - result_acc: 0.9449 - aux_result_acc: 0.9906 - identity_result_acc: 0.9961 - val_loss: 0.1892 - val_result_loss: 0.1499 - val_aux_result_loss: 0.0297 - val_identity_result_loss: 0.0095 - val_result_acc: 0.9411 - val_aux_result_acc: 0.9897 - val_identity_result_acc: 0.9966\n",
      "Epoch 3/4\n",
      "1249618/1249618 [==============================] - 2861s 2ms/step - loss: 0.1761 - result_loss: 0.1396 - aux_result_loss: 0.0270 - identity_result_loss: 0.0094 - result_acc: 0.9468 - aux_result_acc: 0.9909 - identity_result_acc: 0.9966 - val_loss: 0.1864 - val_result_loss: 0.1486 - val_aux_result_loss: 0.0286 - val_identity_result_loss: 0.0092 - val_result_acc: 0.9421 - val_aux_result_acc: 0.9901 - val_identity_result_acc: 0.9967\n",
      "Epoch 4/4\n",
      "1249618/1249618 [==============================] - 2873s 2ms/step - loss: 0.1711 - result_loss: 0.1360 - aux_result_loss: 0.0262 - identity_result_loss: 0.0089 - result_acc: 0.9480 - aux_result_acc: 0.9910 - identity_result_acc: 0.9967 - val_loss: 0.1770 - val_result_loss: 0.1411 - val_aux_result_loss: 0.0273 - val_identity_result_loss: 0.0087 - val_result_acc: 0.9445 - val_aux_result_acc: 0.9903 - val_identity_result_acc: 0.9968\n"
     ]
    }
   ],
   "source": [
    "history3 = model.fit(\n",
    "{'input_s': X_train_ints},\n",
    "{'result': y_train_target,\n",
    "    'aux_result':y_train_aux_target,\n",
    "    'identity_result':y_train_identity},\n",
    "batch_size=512,\n",
    "epochs=4,\n",
    "validation_data=[{'input_s': X_test_ints},\n",
    "                  {'result': y_test_target,\n",
    "          'aux_result':y_test_aux_target,\n",
    "          'identity_result':y_test_identity}])"
   ]
  },
  {
   "cell_type": "code",
   "execution_count": 0,
   "metadata": {
    "colab": {
     "base_uri": "https://localhost:8080/",
     "height": 193
    },
    "colab_type": "code",
    "id": "9QF9jCfYdikt",
    "outputId": "6adfde05-8fac-4aa0-fad0-eb315abfa56e"
   },
   "outputs": [
    {
     "data": {
      "text/html": [
       "<div>\n",
       "<style scoped>\n",
       "    .dataframe tbody tr th:only-of-type {\n",
       "        vertical-align: middle;\n",
       "    }\n",
       "\n",
       "    .dataframe tbody tr th {\n",
       "        vertical-align: top;\n",
       "    }\n",
       "\n",
       "    .dataframe thead th {\n",
       "        text-align: right;\n",
       "    }\n",
       "</style>\n",
       "<table border=\"1\" class=\"dataframe\">\n",
       "  <thead>\n",
       "    <tr style=\"text-align: right;\">\n",
       "      <th></th>\n",
       "      <th>val_loss</th>\n",
       "      <th>val_result_loss</th>\n",
       "      <th>val_aux_result_loss</th>\n",
       "      <th>val_identity_result_loss</th>\n",
       "      <th>val_result_acc</th>\n",
       "      <th>val_aux_result_acc</th>\n",
       "      <th>val_identity_result_acc</th>\n",
       "      <th>loss</th>\n",
       "      <th>result_loss</th>\n",
       "      <th>aux_result_loss</th>\n",
       "      <th>identity_result_loss</th>\n",
       "      <th>result_acc</th>\n",
       "      <th>aux_result_acc</th>\n",
       "      <th>identity_result_acc</th>\n",
       "    </tr>\n",
       "  </thead>\n",
       "  <tbody>\n",
       "    <tr>\n",
       "      <th>0</th>\n",
       "      <td>0.194591</td>\n",
       "      <td>0.153394</td>\n",
       "      <td>0.030552</td>\n",
       "      <td>0.010645</td>\n",
       "      <td>0.941367</td>\n",
       "      <td>0.989836</td>\n",
       "      <td>0.996310</td>\n",
       "      <td>0.227909</td>\n",
       "      <td>0.167698</td>\n",
       "      <td>0.034901</td>\n",
       "      <td>0.025310</td>\n",
       "      <td>0.939030</td>\n",
       "      <td>0.989604</td>\n",
       "      <td>0.992207</td>\n",
       "    </tr>\n",
       "    <tr>\n",
       "      <th>1</th>\n",
       "      <td>0.189182</td>\n",
       "      <td>0.149889</td>\n",
       "      <td>0.029750</td>\n",
       "      <td>0.009543</td>\n",
       "      <td>0.941076</td>\n",
       "      <td>0.989679</td>\n",
       "      <td>0.996605</td>\n",
       "      <td>0.184755</td>\n",
       "      <td>0.145734</td>\n",
       "      <td>0.028380</td>\n",
       "      <td>0.010641</td>\n",
       "      <td>0.944915</td>\n",
       "      <td>0.990562</td>\n",
       "      <td>0.996145</td>\n",
       "    </tr>\n",
       "    <tr>\n",
       "      <th>2</th>\n",
       "      <td>0.186362</td>\n",
       "      <td>0.148611</td>\n",
       "      <td>0.028573</td>\n",
       "      <td>0.009178</td>\n",
       "      <td>0.942063</td>\n",
       "      <td>0.990146</td>\n",
       "      <td>0.996684</td>\n",
       "      <td>0.176091</td>\n",
       "      <td>0.139645</td>\n",
       "      <td>0.027030</td>\n",
       "      <td>0.009416</td>\n",
       "      <td>0.946781</td>\n",
       "      <td>0.990858</td>\n",
       "      <td>0.996583</td>\n",
       "    </tr>\n",
       "    <tr>\n",
       "      <th>3</th>\n",
       "      <td>0.177034</td>\n",
       "      <td>0.141100</td>\n",
       "      <td>0.027267</td>\n",
       "      <td>0.008667</td>\n",
       "      <td>0.944523</td>\n",
       "      <td>0.990323</td>\n",
       "      <td>0.996806</td>\n",
       "      <td>0.171139</td>\n",
       "      <td>0.136010</td>\n",
       "      <td>0.026207</td>\n",
       "      <td>0.008922</td>\n",
       "      <td>0.948019</td>\n",
       "      <td>0.991028</td>\n",
       "      <td>0.996736</td>\n",
       "    </tr>\n",
       "  </tbody>\n",
       "</table>\n",
       "</div>"
      ],
      "text/plain": [
       "   val_loss  val_result_loss  ...  aux_result_acc  identity_result_acc\n",
       "0  0.194591         0.153394  ...        0.989604             0.992207\n",
       "1  0.189182         0.149889  ...        0.990562             0.996145\n",
       "2  0.186362         0.148611  ...        0.990858             0.996583\n",
       "3  0.177034         0.141100  ...        0.991028             0.996736\n",
       "\n",
       "[4 rows x 14 columns]"
      ]
     },
     "execution_count": 29,
     "metadata": {
      "tags": []
     },
     "output_type": "execute_result"
    }
   ],
   "source": [
    "pd.DataFrame(history3.history)"
   ]
  },
  {
   "cell_type": "code",
   "execution_count": 0,
   "metadata": {
    "colab": {},
    "colab_type": "code",
    "id": "mF4cTsIP4lGm"
   },
   "outputs": [],
   "source": [
    "downloaded = drive.CreateFile({'id':'1z05A9DKdh-lL2B3Q6sbQZPOthr8Rjix2'})\n",
    "downloaded.GetContentFile('LSTM_1_256_model.h5')"
   ]
  },
  {
   "cell_type": "code",
   "execution_count": 0,
   "metadata": {
    "colab": {},
    "colab_type": "code",
    "id": "fxFVPD374h86"
   },
   "outputs": [],
   "source": [
    "#model.save('LSTM_1_256_model.h5')\n",
    "model_3 = load_model('LSTM_1_256_model.h5')\n"
   ]
  },
  {
   "cell_type": "code",
   "execution_count": 0,
   "metadata": {
    "colab": {},
    "colab_type": "code",
    "id": "CN-HwFKLdikx"
   },
   "outputs": [],
   "source": [
    "prediction_train_1_LSTM = model_3.predict(X_test_ints,batch_size=1024)\n",
    "\n",
    "results_train_1_LSTM = final_AUC_metric(y_true=y_test, y_predicted=np.hstack((prediction_train_1_LSTM[0],prediction_train_1_LSTM[1],prediction_train_1_LSTM[2]))\n",
    "                          ,final_AUC_metric_alone=False)\n"
   ]
  },
  {
   "cell_type": "code",
   "execution_count": 0,
   "metadata": {
    "colab": {},
    "colab_type": "code",
    "id": "T0XhCo2Wdik1"
   },
   "outputs": [],
   "source": [
    "prediction_test_1_LSTM = model_3.predict(X_test_ints,batch_size=1024)\n",
    "\n",
    "results_test_1_LSTM = final_AUC_metric(y_true=y_test, y_predicted=np.hstack((prediction_test_1_LSTM[0],prediction_test_1_LSTM[1],prediction_test_1_LSTM[2]))\n",
    "                          ,final_AUC_metric_alone=False)"
   ]
  },
  {
   "cell_type": "code",
   "execution_count": 36,
   "metadata": {
    "colab": {
     "base_uri": "https://localhost:8080/",
     "height": 393
    },
    "colab_type": "code",
    "id": "zKHEuT0Zdik3",
    "outputId": "7899d609-ec18-47f7-a563-5c8cad9c5548"
   },
   "outputs": [
    {
     "name": "stdout",
     "output_type": "stream",
     "text": [
      "Individual AUCs for all identity lables in train data\n",
      "-----------------------------------------------------------\n"
     ]
    },
    {
     "data": {
      "text/html": [
       "<div>\n",
       "<style scoped>\n",
       "    .dataframe tbody tr th:only-of-type {\n",
       "        vertical-align: middle;\n",
       "    }\n",
       "\n",
       "    .dataframe tbody tr th {\n",
       "        vertical-align: top;\n",
       "    }\n",
       "\n",
       "    .dataframe thead th {\n",
       "        text-align: right;\n",
       "    }\n",
       "</style>\n",
       "<table border=\"1\" class=\"dataframe\">\n",
       "  <thead>\n",
       "    <tr style=\"text-align: right;\">\n",
       "      <th></th>\n",
       "      <th>SUB</th>\n",
       "      <th>BPSN</th>\n",
       "      <th>BNSP</th>\n",
       "    </tr>\n",
       "  </thead>\n",
       "  <tbody>\n",
       "    <tr>\n",
       "      <th>male</th>\n",
       "      <td>0.904342</td>\n",
       "      <td>0.901972</td>\n",
       "      <td>0.954225</td>\n",
       "    </tr>\n",
       "    <tr>\n",
       "      <th>female</th>\n",
       "      <td>0.904459</td>\n",
       "      <td>0.909357</td>\n",
       "      <td>0.94949</td>\n",
       "    </tr>\n",
       "    <tr>\n",
       "      <th>homosexual_gay_or_lesbian</th>\n",
       "      <td>0.83211</td>\n",
       "      <td>0.794553</td>\n",
       "      <td>0.968925</td>\n",
       "    </tr>\n",
       "    <tr>\n",
       "      <th>christian</th>\n",
       "      <td>0.920784</td>\n",
       "      <td>0.932199</td>\n",
       "      <td>0.942574</td>\n",
       "    </tr>\n",
       "    <tr>\n",
       "      <th>jewish</th>\n",
       "      <td>0.878474</td>\n",
       "      <td>0.862827</td>\n",
       "      <td>0.959182</td>\n",
       "    </tr>\n",
       "    <tr>\n",
       "      <th>muslim</th>\n",
       "      <td>0.859851</td>\n",
       "      <td>0.822205</td>\n",
       "      <td>0.967435</td>\n",
       "    </tr>\n",
       "    <tr>\n",
       "      <th>black</th>\n",
       "      <td>0.829509</td>\n",
       "      <td>0.760894</td>\n",
       "      <td>0.974761</td>\n",
       "    </tr>\n",
       "    <tr>\n",
       "      <th>white</th>\n",
       "      <td>0.835397</td>\n",
       "      <td>0.781142</td>\n",
       "      <td>0.972463</td>\n",
       "    </tr>\n",
       "    <tr>\n",
       "      <th>psychiatric_or_mental_illness</th>\n",
       "      <td>0.881831</td>\n",
       "      <td>0.841916</td>\n",
       "      <td>0.966623</td>\n",
       "    </tr>\n",
       "    <tr>\n",
       "      <th>Mp</th>\n",
       "      <td>0.868237</td>\n",
       "      <td>0.833763</td>\n",
       "      <td>0.9614</td>\n",
       "    </tr>\n",
       "  </tbody>\n",
       "</table>\n",
       "</div>"
      ],
      "text/plain": [
       "                                    SUB      BPSN      BNSP\n",
       "male                           0.904342  0.901972  0.954225\n",
       "female                         0.904459  0.909357   0.94949\n",
       "homosexual_gay_or_lesbian       0.83211  0.794553  0.968925\n",
       "christian                      0.920784  0.932199  0.942574\n",
       "jewish                         0.878474  0.862827  0.959182\n",
       "muslim                         0.859851  0.822205  0.967435\n",
       "black                          0.829509  0.760894  0.974761\n",
       "white                          0.835397  0.781142  0.972463\n",
       "psychiatric_or_mental_illness  0.881831  0.841916  0.966623\n",
       "Mp                             0.868237  0.833763    0.9614"
      ]
     },
     "execution_count": 36,
     "metadata": {
      "tags": []
     },
     "output_type": "execute_result"
    }
   ],
   "source": [
    "print(\"Individual AUCs for all identity lables in train data\")\n",
    "print(\"-----------------------------------------------------------\")\n",
    "results_train_1_LSTM[1]"
   ]
  },
  {
   "cell_type": "code",
   "execution_count": 37,
   "metadata": {
    "colab": {
     "base_uri": "https://localhost:8080/",
     "height": 51
    },
    "colab_type": "code",
    "id": "xQBWlFpedik8",
    "outputId": "76d1a1e4-bdb5-470b-ba9b-0324a7130ea8"
   },
   "outputs": [
    {
     "name": "stdout",
     "output_type": "stream",
     "text": [
      "Final AUC value on train data:\n"
     ]
    },
    {
     "data": {
      "text/plain": [
       "0.9032849964785521"
      ]
     },
     "execution_count": 37,
     "metadata": {
      "tags": []
     },
     "output_type": "execute_result"
    }
   ],
   "source": [
    "print(\"Final AUC value on train data:\")\n",
    "results_train_1_LSTM[0]"
   ]
  },
  {
   "cell_type": "code",
   "execution_count": 38,
   "metadata": {
    "colab": {
     "base_uri": "https://localhost:8080/",
     "height": 393
    },
    "colab_type": "code",
    "id": "XhuOOpoadilC",
    "outputId": "a1ec5ea7-f1b7-4f08-f451-33adf584a11d"
   },
   "outputs": [
    {
     "name": "stdout",
     "output_type": "stream",
     "text": [
      "Individual AUCs for all identity lables in test data.\n",
      "-----------------------------------------------------------\n"
     ]
    },
    {
     "data": {
      "text/html": [
       "<div>\n",
       "<style scoped>\n",
       "    .dataframe tbody tr th:only-of-type {\n",
       "        vertical-align: middle;\n",
       "    }\n",
       "\n",
       "    .dataframe tbody tr th {\n",
       "        vertical-align: top;\n",
       "    }\n",
       "\n",
       "    .dataframe thead th {\n",
       "        text-align: right;\n",
       "    }\n",
       "</style>\n",
       "<table border=\"1\" class=\"dataframe\">\n",
       "  <thead>\n",
       "    <tr style=\"text-align: right;\">\n",
       "      <th></th>\n",
       "      <th>SUB</th>\n",
       "      <th>BPSN</th>\n",
       "      <th>BNSP</th>\n",
       "    </tr>\n",
       "  </thead>\n",
       "  <tbody>\n",
       "    <tr>\n",
       "      <th>male</th>\n",
       "      <td>0.904342</td>\n",
       "      <td>0.901972</td>\n",
       "      <td>0.954225</td>\n",
       "    </tr>\n",
       "    <tr>\n",
       "      <th>female</th>\n",
       "      <td>0.904459</td>\n",
       "      <td>0.909357</td>\n",
       "      <td>0.94949</td>\n",
       "    </tr>\n",
       "    <tr>\n",
       "      <th>homosexual_gay_or_lesbian</th>\n",
       "      <td>0.83211</td>\n",
       "      <td>0.794553</td>\n",
       "      <td>0.968925</td>\n",
       "    </tr>\n",
       "    <tr>\n",
       "      <th>christian</th>\n",
       "      <td>0.920784</td>\n",
       "      <td>0.932199</td>\n",
       "      <td>0.942574</td>\n",
       "    </tr>\n",
       "    <tr>\n",
       "      <th>jewish</th>\n",
       "      <td>0.878474</td>\n",
       "      <td>0.862827</td>\n",
       "      <td>0.959182</td>\n",
       "    </tr>\n",
       "    <tr>\n",
       "      <th>muslim</th>\n",
       "      <td>0.859851</td>\n",
       "      <td>0.822205</td>\n",
       "      <td>0.967435</td>\n",
       "    </tr>\n",
       "    <tr>\n",
       "      <th>black</th>\n",
       "      <td>0.829509</td>\n",
       "      <td>0.760894</td>\n",
       "      <td>0.974761</td>\n",
       "    </tr>\n",
       "    <tr>\n",
       "      <th>white</th>\n",
       "      <td>0.835397</td>\n",
       "      <td>0.781142</td>\n",
       "      <td>0.972463</td>\n",
       "    </tr>\n",
       "    <tr>\n",
       "      <th>psychiatric_or_mental_illness</th>\n",
       "      <td>0.881831</td>\n",
       "      <td>0.841916</td>\n",
       "      <td>0.966623</td>\n",
       "    </tr>\n",
       "    <tr>\n",
       "      <th>Mp</th>\n",
       "      <td>0.868237</td>\n",
       "      <td>0.833763</td>\n",
       "      <td>0.9614</td>\n",
       "    </tr>\n",
       "  </tbody>\n",
       "</table>\n",
       "</div>"
      ],
      "text/plain": [
       "                                    SUB      BPSN      BNSP\n",
       "male                           0.904342  0.901972  0.954225\n",
       "female                         0.904459  0.909357   0.94949\n",
       "homosexual_gay_or_lesbian       0.83211  0.794553  0.968925\n",
       "christian                      0.920784  0.932199  0.942574\n",
       "jewish                         0.878474  0.862827  0.959182\n",
       "muslim                         0.859851  0.822205  0.967435\n",
       "black                          0.829509  0.760894  0.974761\n",
       "white                          0.835397  0.781142  0.972463\n",
       "psychiatric_or_mental_illness  0.881831  0.841916  0.966623\n",
       "Mp                             0.868237  0.833763    0.9614"
      ]
     },
     "execution_count": 38,
     "metadata": {
      "tags": []
     },
     "output_type": "execute_result"
    }
   ],
   "source": [
    "print(\"Individual AUCs for all identity lables in test data.\")\n",
    "print(\"-----------------------------------------------------------\")\n",
    "results_test_1_LSTM[1]"
   ]
  },
  {
   "cell_type": "code",
   "execution_count": 39,
   "metadata": {
    "colab": {
     "base_uri": "https://localhost:8080/",
     "height": 51
    },
    "colab_type": "code",
    "id": "I3KDvnhidilF",
    "outputId": "1c564f9a-7c81-4b77-e679-4c6d97ba32ae"
   },
   "outputs": [
    {
     "name": "stdout",
     "output_type": "stream",
     "text": [
      "Final AUC value on Test data:\n"
     ]
    },
    {
     "data": {
      "text/plain": [
       "0.9032849964785521"
      ]
     },
     "execution_count": 39,
     "metadata": {
      "tags": []
     },
     "output_type": "execute_result"
    }
   ],
   "source": [
    "print(\"Final AUC value on Test data:\")\n",
    "results_test_1_LSTM[0]"
   ]
  },
  {
   "cell_type": "markdown",
   "metadata": {
    "colab_type": "text",
    "id": "t-VP1y5SdilJ"
   },
   "source": [
    "### 4. GRU  (One 256 hidden states)"
   ]
  },
  {
   "cell_type": "code",
   "execution_count": 0,
   "metadata": {
    "colab": {
     "base_uri": "https://localhost:8080/",
     "height": 612
    },
    "colab_type": "code",
    "id": "AyK9TnAtdilK",
    "outputId": "9ae3711d-4e12-4ce5-ab80-998d43c85cf5"
   },
   "outputs": [
    {
     "name": "stdout",
     "output_type": "stream",
     "text": [
      "Model: \"model_2\"\n",
      "__________________________________________________________________________________________________\n",
      "Layer (type)                    Output Shape         Param #     Connected to                     \n",
      "==================================================================================================\n",
      "input_s (InputLayer)            (None, 500)          0                                            \n",
      "__________________________________________________________________________________________________\n",
      "embedding_2 (Embedding)         (None, 500, 100)     21726600    input_s[0][0]                    \n",
      "__________________________________________________________________________________________________\n",
      "spatial_dropout1d_2 (SpatialDro (None, 500, 100)     0           embedding_2[0][0]                \n",
      "__________________________________________________________________________________________________\n",
      "bidirectional_2 (Bidirectional) (None, 500, 512)     549888      spatial_dropout1d_2[0][0]        \n",
      "__________________________________________________________________________________________________\n",
      "global_max_pooling1d_2 (GlobalM (None, 512)          0           bidirectional_2[0][0]            \n",
      "__________________________________________________________________________________________________\n",
      "global_average_pooling1d_2 (Glo (None, 512)          0           bidirectional_2[0][0]            \n",
      "__________________________________________________________________________________________________\n",
      "concatenate_2 (Concatenate)     (None, 1024)         0           global_max_pooling1d_2[0][0]     \n",
      "                                                                 global_average_pooling1d_2[0][0] \n",
      "__________________________________________________________________________________________________\n",
      "dense_2 (Dense)                 (None, 1024)         1049600     concatenate_2[0][0]              \n",
      "__________________________________________________________________________________________________\n",
      "add_2 (Add)                     (None, 1024)         0           concatenate_2[0][0]              \n",
      "                                                                 dense_2[0][0]                    \n",
      "__________________________________________________________________________________________________\n",
      "result (Dense)                  (None, 1)            1025        add_2[0][0]                      \n",
      "__________________________________________________________________________________________________\n",
      "aux_result (Dense)              (None, 6)            6150        add_2[0][0]                      \n",
      "__________________________________________________________________________________________________\n",
      "identity_result (Dense)         (None, 9)            9225        add_2[0][0]                      \n",
      "==================================================================================================\n",
      "Total params: 23,342,488\n",
      "Trainable params: 1,615,888\n",
      "Non-trainable params: 21,726,600\n",
      "__________________________________________________________________________________________________\n",
      "None\n"
     ]
    }
   ],
   "source": [
    "input_s = Input(shape=(max_length,), dtype='int32', name='input_s')\n",
    "\n",
    "GRUs = Embedding(input_dim=vocab_size,input_length=max_length,weights=[embedding_matrix],trainable=False,output_dim=embedding_matrix.shape[1])(input_s)\n",
    "\n",
    "GRUs = SpatialDropout1D(0.3)(GRUs)\n",
    "\n",
    "GRUs = Bidirectional(CuDNNGRU(256, return_sequences=True))(GRUs)\n",
    "\n",
    "hidden1 = concatenate([GlobalMaxPooling1D()(GRUs),GlobalAveragePooling1D()(GRUs)])\n",
    "hidden2 = add([hidden1, Dense(1024, activation='relu')(hidden1)])\n",
    "\n",
    "#Multi_Outputs\n",
    "result = Dense(1, activation='sigmoid',name='result')(hidden2) #target\n",
    "aux_result = Dense(y_train_aux_target.shape[1], activation='sigmoid',name='aux_result')(hidden2) #\n",
    "identity_result = Dense(y_train_identity.shape[1], activation='sigmoid',name='identity_result')(hidden2)\n",
    "\n",
    "model = Model(inputs=input_s, outputs=[result, aux_result,identity_result])\n",
    "adam = Adam(lr= 0.0005)\n",
    "model.compile(loss='binary_crossentropy', optimizer=adam, metrics=['accuracy'])\n",
    "print(model.summary())"
   ]
  },
  {
   "cell_type": "code",
   "execution_count": 0,
   "metadata": {
    "colab": {
     "base_uri": "https://localhost:8080/",
     "height": 190
    },
    "colab_type": "code",
    "id": "jNSeNWqUdilM",
    "outputId": "bf6c4ce7-7659-415e-bfe9-5913989dda61"
   },
   "outputs": [
    {
     "name": "stdout",
     "output_type": "stream",
     "text": [
      "Train on 1249618 samples, validate on 535551 samples\n",
      "Epoch 1/4\n",
      "1249618/1249618 [==============================] - 2487s 2ms/step - loss: 0.2312 - result_loss: 0.1691 - aux_result_loss: 0.0355 - identity_result_loss: 0.0266 - result_acc: 0.9385 - aux_result_acc: 0.9894 - identity_result_acc: 0.9920 - val_loss: 0.1953 - val_result_loss: 0.1532 - val_aux_result_loss: 0.0307 - val_identity_result_loss: 0.0114 - val_result_acc: 0.9409 - val_aux_result_acc: 0.9897 - val_identity_result_acc: 0.9960\n",
      "Epoch 2/4\n",
      "1249618/1249618 [==============================] - 2491s 2ms/step - loss: 0.1889 - result_loss: 0.1487 - aux_result_loss: 0.0290 - identity_result_loss: 0.0112 - result_acc: 0.9441 - aux_result_acc: 0.9905 - identity_result_acc: 0.9960 - val_loss: 0.1963 - val_result_loss: 0.1560 - val_aux_result_loss: 0.0298 - val_identity_result_loss: 0.0105 - val_result_acc: 0.9389 - val_aux_result_acc: 0.9897 - val_identity_result_acc: 0.9962\n",
      "Epoch 3/4\n",
      "1249618/1249618 [==============================] - 2487s 2ms/step - loss: 0.1808 - result_loss: 0.1431 - aux_result_loss: 0.0277 - identity_result_loss: 0.0100 - result_acc: 0.9458 - aux_result_acc: 0.9907 - identity_result_acc: 0.9964 - val_loss: 0.1968 - val_result_loss: 0.1560 - val_aux_result_loss: 0.0307 - val_identity_result_loss: 0.0101 - val_result_acc: 0.9380 - val_aux_result_acc: 0.9892 - val_identity_result_acc: 0.9964\n",
      "Epoch 4/4\n",
      "1249618/1249618 [==============================] - 2465s 2ms/step - loss: 0.1759 - result_loss: 0.1395 - aux_result_loss: 0.0269 - identity_result_loss: 0.0095 - result_acc: 0.9471 - aux_result_acc: 0.9909 - identity_result_acc: 0.9966 - val_loss: 0.1900 - val_result_loss: 0.1506 - val_aux_result_loss: 0.0293 - val_identity_result_loss: 0.0100 - val_result_acc: 0.9401 - val_aux_result_acc: 0.9897 - val_identity_result_acc: 0.9963\n"
     ]
    }
   ],
   "source": [
    "history4 = model.fit(\n",
    "{'input_s': X_train_ints},\n",
    "{'result': y_train_target,\n",
    "    'aux_result':y_train_aux_target,\n",
    "    'identity_result':y_train_identity},\n",
    "batch_size=512,\n",
    "epochs=4,\n",
    "validation_data=[{'input_s': X_test_ints},\n",
    "                  {'result': y_test_target,\n",
    "          'aux_result':y_test_aux_target,\n",
    "          'identity_result':y_test_identity}])"
   ]
  },
  {
   "cell_type": "code",
   "execution_count": 0,
   "metadata": {
    "colab": {
     "base_uri": "https://localhost:8080/",
     "height": 193
    },
    "colab_type": "code",
    "id": "ASFw1HrEdilO",
    "outputId": "d9b8f0c8-314e-4fc2-80ff-faf5dad70100"
   },
   "outputs": [
    {
     "data": {
      "text/html": [
       "<div>\n",
       "<style scoped>\n",
       "    .dataframe tbody tr th:only-of-type {\n",
       "        vertical-align: middle;\n",
       "    }\n",
       "\n",
       "    .dataframe tbody tr th {\n",
       "        vertical-align: top;\n",
       "    }\n",
       "\n",
       "    .dataframe thead th {\n",
       "        text-align: right;\n",
       "    }\n",
       "</style>\n",
       "<table border=\"1\" class=\"dataframe\">\n",
       "  <thead>\n",
       "    <tr style=\"text-align: right;\">\n",
       "      <th></th>\n",
       "      <th>val_loss</th>\n",
       "      <th>val_result_loss</th>\n",
       "      <th>val_aux_result_loss</th>\n",
       "      <th>val_identity_result_loss</th>\n",
       "      <th>val_result_acc</th>\n",
       "      <th>val_aux_result_acc</th>\n",
       "      <th>val_identity_result_acc</th>\n",
       "      <th>loss</th>\n",
       "      <th>result_loss</th>\n",
       "      <th>aux_result_loss</th>\n",
       "      <th>identity_result_loss</th>\n",
       "      <th>result_acc</th>\n",
       "      <th>aux_result_acc</th>\n",
       "      <th>identity_result_acc</th>\n",
       "    </tr>\n",
       "  </thead>\n",
       "  <tbody>\n",
       "    <tr>\n",
       "      <th>0</th>\n",
       "      <td>0.195335</td>\n",
       "      <td>0.153217</td>\n",
       "      <td>0.030708</td>\n",
       "      <td>0.011410</td>\n",
       "      <td>0.940906</td>\n",
       "      <td>0.989720</td>\n",
       "      <td>0.996038</td>\n",
       "      <td>0.231219</td>\n",
       "      <td>0.169134</td>\n",
       "      <td>0.035499</td>\n",
       "      <td>0.026586</td>\n",
       "      <td>0.938533</td>\n",
       "      <td>0.989436</td>\n",
       "      <td>0.991955</td>\n",
       "    </tr>\n",
       "    <tr>\n",
       "      <th>1</th>\n",
       "      <td>0.196322</td>\n",
       "      <td>0.156028</td>\n",
       "      <td>0.029822</td>\n",
       "      <td>0.010472</td>\n",
       "      <td>0.938940</td>\n",
       "      <td>0.989660</td>\n",
       "      <td>0.996193</td>\n",
       "      <td>0.188907</td>\n",
       "      <td>0.148745</td>\n",
       "      <td>0.028961</td>\n",
       "      <td>0.011201</td>\n",
       "      <td>0.944113</td>\n",
       "      <td>0.990497</td>\n",
       "      <td>0.995955</td>\n",
       "    </tr>\n",
       "    <tr>\n",
       "      <th>2</th>\n",
       "      <td>0.196817</td>\n",
       "      <td>0.156024</td>\n",
       "      <td>0.030717</td>\n",
       "      <td>0.010076</td>\n",
       "      <td>0.937978</td>\n",
       "      <td>0.989213</td>\n",
       "      <td>0.996365</td>\n",
       "      <td>0.180836</td>\n",
       "      <td>0.143124</td>\n",
       "      <td>0.027687</td>\n",
       "      <td>0.010026</td>\n",
       "      <td>0.945809</td>\n",
       "      <td>0.990725</td>\n",
       "      <td>0.996386</td>\n",
       "    </tr>\n",
       "    <tr>\n",
       "      <th>3</th>\n",
       "      <td>0.189954</td>\n",
       "      <td>0.150645</td>\n",
       "      <td>0.029276</td>\n",
       "      <td>0.010034</td>\n",
       "      <td>0.940054</td>\n",
       "      <td>0.989694</td>\n",
       "      <td>0.996335</td>\n",
       "      <td>0.175893</td>\n",
       "      <td>0.139526</td>\n",
       "      <td>0.026882</td>\n",
       "      <td>0.009486</td>\n",
       "      <td>0.947126</td>\n",
       "      <td>0.990891</td>\n",
       "      <td>0.996569</td>\n",
       "    </tr>\n",
       "  </tbody>\n",
       "</table>\n",
       "</div>"
      ],
      "text/plain": [
       "   val_loss  val_result_loss  ...  aux_result_acc  identity_result_acc\n",
       "0  0.195335         0.153217  ...        0.989436             0.991955\n",
       "1  0.196322         0.156028  ...        0.990497             0.995955\n",
       "2  0.196817         0.156024  ...        0.990725             0.996386\n",
       "3  0.189954         0.150645  ...        0.990891             0.996569\n",
       "\n",
       "[4 rows x 14 columns]"
      ]
     },
     "execution_count": 38,
     "metadata": {
      "tags": []
     },
     "output_type": "execute_result"
    }
   ],
   "source": [
    "model.save('GRU_1_256_model.h5')\n",
    "pd.DataFrame(history4.history)"
   ]
  },
  {
   "cell_type": "code",
   "execution_count": 0,
   "metadata": {
    "colab": {},
    "colab_type": "code",
    "id": "iedHZHUN5XVZ"
   },
   "outputs": [],
   "source": [
    "downloaded = drive.CreateFile({'id':'1VYdyO56a_1S5K_doQ6JbgImlkKqv8K-D'})\n",
    "downloaded.GetContentFile('GRU_1_256_model.h5')"
   ]
  },
  {
   "cell_type": "code",
   "execution_count": 0,
   "metadata": {
    "colab": {},
    "colab_type": "code",
    "id": "tsFXC6lv5pHU"
   },
   "outputs": [],
   "source": [
    "model_4 = load_model(\"GRU_1_256_model.h5\")"
   ]
  },
  {
   "cell_type": "code",
   "execution_count": 0,
   "metadata": {
    "colab": {},
    "colab_type": "code",
    "id": "MXnbU6CqdilQ"
   },
   "outputs": [],
   "source": [
    "prediction_test_1_GRU = model_4.predict(X_test_ints,batch_size=1024)\n",
    "\n",
    "results_test_1_GRU = final_AUC_metric(y_true=y_test, y_predicted=np.hstack((prediction_test_1_GRU[0],prediction_test_1_GRU[1],prediction_test_1_GRU[2]))\n",
    "                          ,final_AUC_metric_alone=False)"
   ]
  },
  {
   "cell_type": "code",
   "execution_count": 0,
   "metadata": {
    "colab": {},
    "colab_type": "code",
    "id": "KGDS12SpdilS"
   },
   "outputs": [],
   "source": [
    "prediction_train_1_GRU = model_4.predict(X_test_ints,batch_size=1024)\n",
    "\n",
    "results_train_1_GRU = final_AUC_metric(y_true=y_test, y_predicted=np.hstack((prediction_train_1_GRU[0],prediction_train_1_GRU[1],prediction_train_1_GRU[2]))\n",
    "                          ,final_AUC_metric_alone=False)"
   ]
  },
  {
   "cell_type": "code",
   "execution_count": 48,
   "metadata": {
    "colab": {
     "base_uri": "https://localhost:8080/",
     "height": 393
    },
    "colab_type": "code",
    "id": "yLVpV4MOdilU",
    "outputId": "48cd4ea9-e18f-4add-ac97-84f13b693d9c"
   },
   "outputs": [
    {
     "name": "stdout",
     "output_type": "stream",
     "text": [
      "Individual AUCs for all identity lables in train data\n",
      "-----------------------------------------------------------\n"
     ]
    },
    {
     "data": {
      "text/html": [
       "<div>\n",
       "<style scoped>\n",
       "    .dataframe tbody tr th:only-of-type {\n",
       "        vertical-align: middle;\n",
       "    }\n",
       "\n",
       "    .dataframe tbody tr th {\n",
       "        vertical-align: top;\n",
       "    }\n",
       "\n",
       "    .dataframe thead th {\n",
       "        text-align: right;\n",
       "    }\n",
       "</style>\n",
       "<table border=\"1\" class=\"dataframe\">\n",
       "  <thead>\n",
       "    <tr style=\"text-align: right;\">\n",
       "      <th></th>\n",
       "      <th>SUB</th>\n",
       "      <th>BPSN</th>\n",
       "      <th>BNSP</th>\n",
       "    </tr>\n",
       "  </thead>\n",
       "  <tbody>\n",
       "    <tr>\n",
       "      <th>male</th>\n",
       "      <td>0.902507</td>\n",
       "      <td>0.901582</td>\n",
       "      <td>0.951306</td>\n",
       "    </tr>\n",
       "    <tr>\n",
       "      <th>female</th>\n",
       "      <td>0.902052</td>\n",
       "      <td>0.907382</td>\n",
       "      <td>0.947442</td>\n",
       "    </tr>\n",
       "    <tr>\n",
       "      <th>homosexual_gay_or_lesbian</th>\n",
       "      <td>0.82361</td>\n",
       "      <td>0.818157</td>\n",
       "      <td>0.958555</td>\n",
       "    </tr>\n",
       "    <tr>\n",
       "      <th>christian</th>\n",
       "      <td>0.917903</td>\n",
       "      <td>0.935986</td>\n",
       "      <td>0.933674</td>\n",
       "    </tr>\n",
       "    <tr>\n",
       "      <th>jewish</th>\n",
       "      <td>0.878121</td>\n",
       "      <td>0.882712</td>\n",
       "      <td>0.948481</td>\n",
       "    </tr>\n",
       "    <tr>\n",
       "      <th>muslim</th>\n",
       "      <td>0.856564</td>\n",
       "      <td>0.841832</td>\n",
       "      <td>0.958798</td>\n",
       "    </tr>\n",
       "    <tr>\n",
       "      <th>black</th>\n",
       "      <td>0.8258</td>\n",
       "      <td>0.785789</td>\n",
       "      <td>0.967613</td>\n",
       "    </tr>\n",
       "    <tr>\n",
       "      <th>white</th>\n",
       "      <td>0.835534</td>\n",
       "      <td>0.791343</td>\n",
       "      <td>0.968554</td>\n",
       "    </tr>\n",
       "    <tr>\n",
       "      <th>psychiatric_or_mental_illness</th>\n",
       "      <td>0.876612</td>\n",
       "      <td>0.869772</td>\n",
       "      <td>0.953081</td>\n",
       "    </tr>\n",
       "    <tr>\n",
       "      <th>Mp</th>\n",
       "      <td>0.864923</td>\n",
       "      <td>0.850496</td>\n",
       "      <td>0.953837</td>\n",
       "    </tr>\n",
       "  </tbody>\n",
       "</table>\n",
       "</div>"
      ],
      "text/plain": [
       "                                    SUB      BPSN      BNSP\n",
       "male                           0.902507  0.901582  0.951306\n",
       "female                         0.902052  0.907382  0.947442\n",
       "homosexual_gay_or_lesbian       0.82361  0.818157  0.958555\n",
       "christian                      0.917903  0.935986  0.933674\n",
       "jewish                         0.878121  0.882712  0.948481\n",
       "muslim                         0.856564  0.841832  0.958798\n",
       "black                            0.8258  0.785789  0.967613\n",
       "white                          0.835534  0.791343  0.968554\n",
       "psychiatric_or_mental_illness  0.876612  0.869772  0.953081\n",
       "Mp                             0.864923  0.850496  0.953837"
      ]
     },
     "execution_count": 48,
     "metadata": {
      "tags": []
     },
     "output_type": "execute_result"
    }
   ],
   "source": [
    "print(\"Individual AUCs for all identity lables in train data\")\n",
    "print(\"-----------------------------------------------------------\")\n",
    "results_train_1_GRU[1]"
   ]
  },
  {
   "cell_type": "code",
   "execution_count": 49,
   "metadata": {
    "colab": {
     "base_uri": "https://localhost:8080/",
     "height": 51
    },
    "colab_type": "code",
    "id": "wmq8thFGdilW",
    "outputId": "3ded8535-081c-416a-de2e-0f42da5d0ac4"
   },
   "outputs": [
    {
     "name": "stdout",
     "output_type": "stream",
     "text": [
      "Final AUC value on train data:\n"
     ]
    },
    {
     "data": {
      "text/plain": [
       "0.9041943263064994"
      ]
     },
     "execution_count": 49,
     "metadata": {
      "tags": []
     },
     "output_type": "execute_result"
    }
   ],
   "source": [
    "print(\"Final AUC value on train data:\")\n",
    "results_train_1_GRU[0]"
   ]
  },
  {
   "cell_type": "code",
   "execution_count": 50,
   "metadata": {
    "colab": {
     "base_uri": "https://localhost:8080/",
     "height": 393
    },
    "colab_type": "code",
    "id": "fABVuB1SdilX",
    "outputId": "045ad20d-3864-4ee4-9c7c-06bf3a6ed989"
   },
   "outputs": [
    {
     "name": "stdout",
     "output_type": "stream",
     "text": [
      "Individual AUCs for all identity lables in test data.\n",
      "-----------------------------------------------------------\n"
     ]
    },
    {
     "data": {
      "text/html": [
       "<div>\n",
       "<style scoped>\n",
       "    .dataframe tbody tr th:only-of-type {\n",
       "        vertical-align: middle;\n",
       "    }\n",
       "\n",
       "    .dataframe tbody tr th {\n",
       "        vertical-align: top;\n",
       "    }\n",
       "\n",
       "    .dataframe thead th {\n",
       "        text-align: right;\n",
       "    }\n",
       "</style>\n",
       "<table border=\"1\" class=\"dataframe\">\n",
       "  <thead>\n",
       "    <tr style=\"text-align: right;\">\n",
       "      <th></th>\n",
       "      <th>SUB</th>\n",
       "      <th>BPSN</th>\n",
       "      <th>BNSP</th>\n",
       "    </tr>\n",
       "  </thead>\n",
       "  <tbody>\n",
       "    <tr>\n",
       "      <th>male</th>\n",
       "      <td>0.902507</td>\n",
       "      <td>0.901582</td>\n",
       "      <td>0.951306</td>\n",
       "    </tr>\n",
       "    <tr>\n",
       "      <th>female</th>\n",
       "      <td>0.902052</td>\n",
       "      <td>0.907382</td>\n",
       "      <td>0.947442</td>\n",
       "    </tr>\n",
       "    <tr>\n",
       "      <th>homosexual_gay_or_lesbian</th>\n",
       "      <td>0.82361</td>\n",
       "      <td>0.818157</td>\n",
       "      <td>0.958555</td>\n",
       "    </tr>\n",
       "    <tr>\n",
       "      <th>christian</th>\n",
       "      <td>0.917903</td>\n",
       "      <td>0.935986</td>\n",
       "      <td>0.933674</td>\n",
       "    </tr>\n",
       "    <tr>\n",
       "      <th>jewish</th>\n",
       "      <td>0.878121</td>\n",
       "      <td>0.882712</td>\n",
       "      <td>0.948481</td>\n",
       "    </tr>\n",
       "    <tr>\n",
       "      <th>muslim</th>\n",
       "      <td>0.856564</td>\n",
       "      <td>0.841832</td>\n",
       "      <td>0.958798</td>\n",
       "    </tr>\n",
       "    <tr>\n",
       "      <th>black</th>\n",
       "      <td>0.8258</td>\n",
       "      <td>0.785789</td>\n",
       "      <td>0.967613</td>\n",
       "    </tr>\n",
       "    <tr>\n",
       "      <th>white</th>\n",
       "      <td>0.835534</td>\n",
       "      <td>0.791343</td>\n",
       "      <td>0.968554</td>\n",
       "    </tr>\n",
       "    <tr>\n",
       "      <th>psychiatric_or_mental_illness</th>\n",
       "      <td>0.876612</td>\n",
       "      <td>0.869772</td>\n",
       "      <td>0.953081</td>\n",
       "    </tr>\n",
       "    <tr>\n",
       "      <th>Mp</th>\n",
       "      <td>0.864923</td>\n",
       "      <td>0.850496</td>\n",
       "      <td>0.953837</td>\n",
       "    </tr>\n",
       "  </tbody>\n",
       "</table>\n",
       "</div>"
      ],
      "text/plain": [
       "                                    SUB      BPSN      BNSP\n",
       "male                           0.902507  0.901582  0.951306\n",
       "female                         0.902052  0.907382  0.947442\n",
       "homosexual_gay_or_lesbian       0.82361  0.818157  0.958555\n",
       "christian                      0.917903  0.935986  0.933674\n",
       "jewish                         0.878121  0.882712  0.948481\n",
       "muslim                         0.856564  0.841832  0.958798\n",
       "black                            0.8258  0.785789  0.967613\n",
       "white                          0.835534  0.791343  0.968554\n",
       "psychiatric_or_mental_illness  0.876612  0.869772  0.953081\n",
       "Mp                             0.864923  0.850496  0.953837"
      ]
     },
     "execution_count": 50,
     "metadata": {
      "tags": []
     },
     "output_type": "execute_result"
    }
   ],
   "source": [
    "print(\"Individual AUCs for all identity lables in test data.\")\n",
    "print(\"-----------------------------------------------------------\")\n",
    "results_test_1_GRU[1]"
   ]
  },
  {
   "cell_type": "code",
   "execution_count": 51,
   "metadata": {
    "colab": {
     "base_uri": "https://localhost:8080/",
     "height": 68
    },
    "colab_type": "code",
    "id": "Td3XwVYndilZ",
    "outputId": "7dbf78b8-2ccf-4cb8-a32c-75131af2b0cd"
   },
   "outputs": [
    {
     "name": "stdout",
     "output_type": "stream",
     "text": [
      "Final AUC value on Test data:\n",
      "-----------------------------------------------------------\n"
     ]
    },
    {
     "data": {
      "text/plain": [
       "0.9041943263064994"
      ]
     },
     "execution_count": 51,
     "metadata": {
      "tags": []
     },
     "output_type": "execute_result"
    }
   ],
   "source": [
    "print(\"Final AUC value on Test data:\")\n",
    "print(\"-----------------------------------------------------------\")\n",
    "results_test_1_GRU[0]"
   ]
  },
  {
   "cell_type": "markdown",
   "metadata": {
    "colab_type": "text",
    "id": "YzwUcVJXn_s_"
   },
   "source": [
    "### Final Results"
   ]
  },
  {
   "cell_type": "code",
   "execution_count": 15,
   "metadata": {
    "colab": {},
    "colab_type": "code",
    "id": "LGKTqYqBuohh"
   },
   "outputs": [
    {
     "data": {
      "text/html": [
       "<div>\n",
       "<style scoped>\n",
       "    .dataframe tbody tr th:only-of-type {\n",
       "        vertical-align: middle;\n",
       "    }\n",
       "\n",
       "    .dataframe tbody tr th {\n",
       "        vertical-align: top;\n",
       "    }\n",
       "\n",
       "    .dataframe thead th {\n",
       "        text-align: right;\n",
       "    }\n",
       "</style>\n",
       "<table border=\"1\" class=\"dataframe\">\n",
       "  <thead>\n",
       "    <tr style=\"text-align: right;\">\n",
       "      <th></th>\n",
       "      <th>Test_Toxic_AUC</th>\n",
       "      <th>Train_Toxic_AUC</th>\n",
       "    </tr>\n",
       "  </thead>\n",
       "  <tbody>\n",
       "    <tr>\n",
       "      <th>2-LSTM</th>\n",
       "      <td>0.910669</td>\n",
       "      <td>0.910669</td>\n",
       "    </tr>\n",
       "    <tr>\n",
       "      <th>2-GRU</th>\n",
       "      <td>0.901175</td>\n",
       "      <td>0.914346</td>\n",
       "    </tr>\n",
       "    <tr>\n",
       "      <th>1-LSTM</th>\n",
       "      <td>0.903285</td>\n",
       "      <td>0.903285</td>\n",
       "    </tr>\n",
       "    <tr>\n",
       "      <th>1-GRU</th>\n",
       "      <td>0.904194</td>\n",
       "      <td>0.904194</td>\n",
       "    </tr>\n",
       "  </tbody>\n",
       "</table>\n",
       "</div>"
      ],
      "text/plain": [
       "        Test_Toxic_AUC  Train_Toxic_AUC\n",
       "2-LSTM        0.910669         0.910669\n",
       "2-GRU         0.901175         0.914346\n",
       "1-LSTM        0.903285         0.903285\n",
       "1-GRU         0.904194         0.904194"
      ]
     },
     "execution_count": 15,
     "metadata": {},
     "output_type": "execute_result"
    }
   ],
   "source": [
    "pd.DataFrame(\n",
    "             ([results_test_LSTM[0],results_train_LSTM[0]],[results_test_GRU[0],results_train_GRU[0]],\n",
    "                [results_test_1_LSTM[0],results_train_1_LSTM[0]],[results_test_1_GRU[0],results_train_1_GRU[0]]),\n",
    "                 columns=['Test_Toxic_AUC','Train_Toxic_AUC'],index=['2-LSTM','2-GRU','1-LSTM','1-GRU'])"
   ]
  },
  {
   "cell_type": "markdown",
   "metadata": {
    "colab_type": "text",
    "id": "j0RqwSGIn_tD"
   },
   "source": [
    "### Evaluating with Kaggle Test Data using 2-LSTM"
   ]
  },
  {
   "cell_type": "code",
   "execution_count": 0,
   "metadata": {
    "colab": {},
    "colab_type": "code",
    "id": "IgOWZ7XUn_tE"
   },
   "outputs": [],
   "source": [
    "downloaded = drive.CreateFile({'id':'1QShQ1iPAWA4IZ_CVbZblxyIWr6SPpCnu'})\n",
    "downloaded.GetContentFile('test.csv')"
   ]
  },
  {
   "cell_type": "code",
   "execution_count": 0,
   "metadata": {
    "colab": {
     "base_uri": "https://localhost:8080/",
     "height": 204
    },
    "colab_type": "code",
    "id": "JvG4Wy3Jn_tI",
    "outputId": "93838b3c-6895-4d45-e373-75ec53168a0c",
    "scrolled": true
   },
   "outputs": [
    {
     "data": {
      "text/html": [
       "<div>\n",
       "<style scoped>\n",
       "    .dataframe tbody tr th:only-of-type {\n",
       "        vertical-align: middle;\n",
       "    }\n",
       "\n",
       "    .dataframe tbody tr th {\n",
       "        vertical-align: top;\n",
       "    }\n",
       "\n",
       "    .dataframe thead th {\n",
       "        text-align: right;\n",
       "    }\n",
       "</style>\n",
       "<table border=\"1\" class=\"dataframe\">\n",
       "  <thead>\n",
       "    <tr style=\"text-align: right;\">\n",
       "      <th></th>\n",
       "      <th>id</th>\n",
       "      <th>comment_text</th>\n",
       "    </tr>\n",
       "  </thead>\n",
       "  <tbody>\n",
       "    <tr>\n",
       "      <th>0</th>\n",
       "      <td>7097320</td>\n",
       "      <td>[ Integrity means that you pay your debts.]\\n\\...</td>\n",
       "    </tr>\n",
       "    <tr>\n",
       "      <th>1</th>\n",
       "      <td>7097321</td>\n",
       "      <td>This is malfeasance by the Administrator and t...</td>\n",
       "    </tr>\n",
       "    <tr>\n",
       "      <th>2</th>\n",
       "      <td>7097322</td>\n",
       "      <td>@Rmiller101 - Spoken like a true elitist. But ...</td>\n",
       "    </tr>\n",
       "    <tr>\n",
       "      <th>3</th>\n",
       "      <td>7097323</td>\n",
       "      <td>Paul: Thank you for your kind words.  I do, in...</td>\n",
       "    </tr>\n",
       "    <tr>\n",
       "      <th>4</th>\n",
       "      <td>7097324</td>\n",
       "      <td>Sorry you missed high school. Eisenhower sent ...</td>\n",
       "    </tr>\n",
       "  </tbody>\n",
       "</table>\n",
       "</div>"
      ],
      "text/plain": [
       "        id                                       comment_text\n",
       "0  7097320  [ Integrity means that you pay your debts.]\\n\\...\n",
       "1  7097321  This is malfeasance by the Administrator and t...\n",
       "2  7097322  @Rmiller101 - Spoken like a true elitist. But ...\n",
       "3  7097323  Paul: Thank you for your kind words.  I do, in...\n",
       "4  7097324  Sorry you missed high school. Eisenhower sent ..."
      ]
     },
     "execution_count": 15,
     "metadata": {
      "tags": []
     },
     "output_type": "execute_result"
    }
   ],
   "source": [
    "test_data = pd.read_csv(\"test.csv\")\n",
    "test_data.head()"
   ]
  },
  {
   "cell_type": "code",
   "execution_count": 0,
   "metadata": {
    "colab": {},
    "colab_type": "code",
    "id": "jl8x4ZO0n_tL"
   },
   "outputs": [],
   "source": [
    "# https://stackoverflow.com/a/47091490/4084039\n",
    "def decontracted(phrase):\n",
    "    # specific\n",
    "    phrase = re.sub(r\"won't\", \"will not\", phrase)\n",
    "    phrase = re.sub(r\"can\\'t\", \"can not\", phrase)\n",
    "\n",
    "    # general\n",
    "    phrase = re.sub(r\"n\\'t\", \" not\", phrase)\n",
    "    phrase = re.sub(r\"\\'re\", \" are\", phrase)\n",
    "    phrase = re.sub(r\"\\'s\", \" is\", phrase)\n",
    "    phrase = re.sub(r\"\\'d\", \" would\", phrase)\n",
    "    phrase = re.sub(r\"\\'ll\", \" will\", phrase)\n",
    "    phrase = re.sub(r\"\\'t\", \" not\", phrase)\n",
    "    phrase = re.sub(r\"\\'ve\", \" have\", phrase)\n",
    "    phrase = re.sub(r\"\\'m\", \" am\", phrase)\n",
    "    return phrase\n",
    "\n",
    "# https://gist.github.com/sebleier/554280\n",
    "# we are removing the words from the stop words list: 'no', 'nor', 'not'\n",
    "# we are including them into stop words list\n",
    "\n",
    "\n",
    "stopwords= set(['br', 'the', 'i', 'me', 'my', 'myself', 'we', 'our', 'ours', 'ourselves', 'you', \"you're\", \"you've\",\\\n",
    "            \"you'll\", \"you'd\", 'your', 'yours', 'yourself', 'yourselves', 'he', 'him', 'his', 'himself', \\\n",
    "            'she', \"she's\", 'her', 'hers', 'herself', 'it', \"it's\", 'its', 'itself', 'they', 'them', 'their',\\\n",
    "            'theirs', 'themselves', 'what', 'which', 'who', 'whom', 'this', 'that', \"that'll\", 'these', 'those', \\\n",
    "            'am', 'is', 'are', 'was', 'were', 'be', 'been', 'being', 'have', 'has', 'had', 'having', 'do', 'does', \\\n",
    "            'did', 'doing', 'a', 'an', 'the', 'and', 'but', 'if', 'or', 'because', 'as', 'until', 'while', 'of', \\\n",
    "            'at', 'by', 'for', 'with', 'about', 'against', 'between', 'into', 'through', 'during', 'before', 'after',\\\n",
    "            'above', 'below', 'to', 'from', 'up', 'down', 'in', 'out', 'on', 'off', 'over', 'under', 'again', 'further',\\\n",
    "            'then', 'once', 'here', 'there', 'when', 'where', 'why', 'how', 'all', 'any', 'both', 'each', 'few', 'more',\\\n",
    "            'most', 'other', 'some', 'such', 'only', 'own', 'same', 'so', 'than', 'too', 'very', \\\n",
    "            's', 't', 'can', 'will', 'just', 'don', \"don't\", 'should', \"should've\", 'now', 'd', 'll', 'm', 'o', 're', \\\n",
    "            've', 'y', 'ain', 'aren', \"aren't\", 'couldn', \"couldn't\", 'didn', \"didn't\", 'doesn', \"doesn't\", 'hadn',\\\n",
    "            \"hadn't\", 'hasn', \"hasn't\", 'haven', \"haven't\", 'isn', \"isn't\", 'ma', 'mightn', \"mightn't\", 'mustn',\\\n",
    "            \"mustn't\", 'needn', \"needn't\", 'shan', \"shan't\", 'shouldn', \"shouldn't\", 'wasn', \"wasn't\", 'weren', \"weren't\", \\\n",
    "            'won', \"won't\", 'wouldn', \"wouldn't\"])\n",
    "\n",
    "def preprocess_text(data):\n",
    "    \"\"\"References : 1. remove words with numbers python: https://stackoverflow.com/a/18082370/4084039\n",
    "                 2. remove spacial character: https://stackoverflow.com/a/5843547/4084039\n",
    "                 3. https://stackoverflow.com/questions/16206380/python-beautifulsoup-how-to-remove-all-tags-from-an-element\n",
    "    \"\"\"\n",
    "\n",
    "    preprocessed_reviews = []\n",
    "\n",
    "    for sentance in tqdm(data['comment_text'].values):\n",
    "        sentance = re.sub(r\"http\\S+\", \"\", sentance)\n",
    "        sentance = BeautifulSoup(sentance, 'lxml').get_text()\n",
    "        sentance = decontracted(sentance)\n",
    "        sentance = re.sub(\"\\S*\\d\\S*\", \"\", sentance).strip()\n",
    "        sentance = re.sub('[^A-Za-z]+', ' ', sentance)\n",
    "        # https://gist.github.com/sebleier/554280\n",
    "        sentance = ' '.join(e.lower() for e in sentance.split() if e.lower() not in stopwords)\n",
    "        preprocessed_reviews.append(sentance.strip())\n",
    "    sequence=tokens.texts_to_sequences(preprocessed_reviews)\n",
    "    return pad_sequences(sequence, maxlen=max_length, padding='post')\n",
    "     "
   ]
  },
  {
   "cell_type": "code",
   "execution_count": 0,
   "metadata": {
    "colab": {
     "base_uri": "https://localhost:8080/",
     "height": 51
    },
    "colab_type": "code",
    "id": "BqmT1EBBn_tS",
    "outputId": "a40246bd-4f45-4a80-e599-8bed79f0f128"
   },
   "outputs": [
    {
     "name": "stderr",
     "output_type": "stream",
     "text": [
      "100%|██████████| 97320/97320 [00:34<00:00, 2820.69it/s]\n"
     ]
    },
    {
     "data": {
      "text/plain": [
       "(97320, 500)"
      ]
     },
     "execution_count": 23,
     "metadata": {
      "tags": []
     },
     "output_type": "execute_result"
    }
   ],
   "source": [
    "test_text_data =  preprocess_text(data=test_data)\n",
    "test_text_data.shape"
   ]
  },
  {
   "cell_type": "code",
   "execution_count": 0,
   "metadata": {
    "colab": {},
    "colab_type": "code",
    "id": "GrSor-Vdn_tU"
   },
   "outputs": [],
   "source": [
    "prediction_test_LSTM = model_LSTM.predict(test_text_data,batch_size=1024)"
   ]
  },
  {
   "cell_type": "code",
   "execution_count": 0,
   "metadata": {
    "colab": {},
    "colab_type": "code",
    "id": "fsFaRrvDn_tW"
   },
   "outputs": [],
   "source": [
    "save_submission = pd.DataFrame(zip(test_data['id'].values,np.squeeze(prediction_test_LSTM[0])),columns=['id','prediction'])\n",
    "save_submission.to_csv('submit',index=False)"
   ]
  },
  {
   "cell_type": "markdown",
   "metadata": {
    "colab_type": "text",
    "id": "7NlQKnygdilu"
   },
   "source": [
    "#### On submitting the above file on Kaggle, achieved 91.456% Toxic AUC on test data  "
   ]
  },
  {
   "attachments": {
    "image.png": {
     "image/png": "[encoded data removed]"
    }
   },
   "cell_type": "markdown",
   "metadata": {},
   "source": [
    "![image.png](attachment:image.png)"
   ]
  }
 ],
 "metadata": {
  "accelerator": "GPU",
  "colab": {
   "name": "Part_3_finalized_LSTM_and_GRU.ipynb",
   "provenance": [],
   "toc_visible": true
  },
  "kernelspec": {
   "display_name": "Python 3",
   "language": "python",
   "name": "python3"
  },
  "language_info": {
   "codemirror_mode": {
    "name": "ipython",
    "version": 3
   },
   "file_extension": ".py",
   "mimetype": "text/x-python",
   "name": "python",
   "nbconvert_exporter": "python",
   "pygments_lexer": "ipython3",
   "version": "3.7.3"
  }
 },
 "nbformat": 4,
 "nbformat_minor": 1
}
